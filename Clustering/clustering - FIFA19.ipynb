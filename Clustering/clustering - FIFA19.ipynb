{
 "cells": [
  {
   "cell_type": "code",
   "execution_count": 718,
   "metadata": {},
   "outputs": [],
   "source": [
    "import pandas as pd\n",
    "import numpy as np\n",
    "import matplotlib.pyplot as plt\n",
    "import seaborn as sns\n",
    "import warnings\n",
    "warnings.filterwarnings('ignore')\n",
    "\n",
    "import random\n",
    "from random import sample"
   ]
  },
  {
   "cell_type": "code",
   "execution_count": 722,
   "metadata": {
    "scrolled": true
   },
   "outputs": [],
   "source": [
    "data=pd.read_csv('data.csv')"
   ]
  },
  {
   "cell_type": "code",
   "execution_count": 723,
   "metadata": {},
   "outputs": [],
   "source": [
    "dataPlist = np.arange(28,88)\n",
    "dataPlist = list(dataPlist)\n",
    "dataset = data.iloc[:, dataPlist]\n",
    "dataset = dataset.dropna()\n",
    "dataset = dataset.reset_index().iloc[:,1:]"
   ]
  },
  {
   "cell_type": "code",
   "execution_count": 724,
   "metadata": {},
   "outputs": [
    {
     "data": {
      "text/html": [
       "<div>\n",
       "<style scoped>\n",
       "    .dataframe tbody tr th:only-of-type {\n",
       "        vertical-align: middle;\n",
       "    }\n",
       "\n",
       "    .dataframe tbody tr th {\n",
       "        vertical-align: top;\n",
       "    }\n",
       "\n",
       "    .dataframe thead th {\n",
       "        text-align: right;\n",
       "    }\n",
       "</style>\n",
       "<table border=\"1\" class=\"dataframe\">\n",
       "  <thead>\n",
       "    <tr style=\"text-align: right;\">\n",
       "      <th></th>\n",
       "      <th>LS</th>\n",
       "      <th>ST</th>\n",
       "      <th>RS</th>\n",
       "      <th>LW</th>\n",
       "      <th>LF</th>\n",
       "      <th>CF</th>\n",
       "      <th>RF</th>\n",
       "      <th>RW</th>\n",
       "      <th>LAM</th>\n",
       "      <th>CAM</th>\n",
       "      <th>...</th>\n",
       "      <th>Penalties</th>\n",
       "      <th>Composure</th>\n",
       "      <th>Marking</th>\n",
       "      <th>StandingTackle</th>\n",
       "      <th>SlidingTackle</th>\n",
       "      <th>GKDiving</th>\n",
       "      <th>GKHandling</th>\n",
       "      <th>GKKicking</th>\n",
       "      <th>GKPositioning</th>\n",
       "      <th>GKReflexes</th>\n",
       "    </tr>\n",
       "  </thead>\n",
       "  <tbody>\n",
       "    <tr>\n",
       "      <th>0</th>\n",
       "      <td>88+2</td>\n",
       "      <td>88+2</td>\n",
       "      <td>88+2</td>\n",
       "      <td>92+2</td>\n",
       "      <td>93+2</td>\n",
       "      <td>93+2</td>\n",
       "      <td>93+2</td>\n",
       "      <td>92+2</td>\n",
       "      <td>93+2</td>\n",
       "      <td>93+2</td>\n",
       "      <td>...</td>\n",
       "      <td>75.0</td>\n",
       "      <td>96.0</td>\n",
       "      <td>33.0</td>\n",
       "      <td>28.0</td>\n",
       "      <td>26.0</td>\n",
       "      <td>6.0</td>\n",
       "      <td>11.0</td>\n",
       "      <td>15.0</td>\n",
       "      <td>14.0</td>\n",
       "      <td>8.0</td>\n",
       "    </tr>\n",
       "    <tr>\n",
       "      <th>1</th>\n",
       "      <td>91+3</td>\n",
       "      <td>91+3</td>\n",
       "      <td>91+3</td>\n",
       "      <td>89+3</td>\n",
       "      <td>90+3</td>\n",
       "      <td>90+3</td>\n",
       "      <td>90+3</td>\n",
       "      <td>89+3</td>\n",
       "      <td>88+3</td>\n",
       "      <td>88+3</td>\n",
       "      <td>...</td>\n",
       "      <td>85.0</td>\n",
       "      <td>95.0</td>\n",
       "      <td>28.0</td>\n",
       "      <td>31.0</td>\n",
       "      <td>23.0</td>\n",
       "      <td>7.0</td>\n",
       "      <td>11.0</td>\n",
       "      <td>15.0</td>\n",
       "      <td>14.0</td>\n",
       "      <td>11.0</td>\n",
       "    </tr>\n",
       "    <tr>\n",
       "      <th>2</th>\n",
       "      <td>84+3</td>\n",
       "      <td>84+3</td>\n",
       "      <td>84+3</td>\n",
       "      <td>89+3</td>\n",
       "      <td>89+3</td>\n",
       "      <td>89+3</td>\n",
       "      <td>89+3</td>\n",
       "      <td>89+3</td>\n",
       "      <td>89+3</td>\n",
       "      <td>89+3</td>\n",
       "      <td>...</td>\n",
       "      <td>81.0</td>\n",
       "      <td>94.0</td>\n",
       "      <td>27.0</td>\n",
       "      <td>24.0</td>\n",
       "      <td>33.0</td>\n",
       "      <td>9.0</td>\n",
       "      <td>9.0</td>\n",
       "      <td>15.0</td>\n",
       "      <td>15.0</td>\n",
       "      <td>11.0</td>\n",
       "    </tr>\n",
       "  </tbody>\n",
       "</table>\n",
       "<p>3 rows × 60 columns</p>\n",
       "</div>"
      ],
      "text/plain": [
       "     LS    ST    RS    LW    LF    CF    RF    RW   LAM   CAM  ... Penalties  \\\n",
       "0  88+2  88+2  88+2  92+2  93+2  93+2  93+2  92+2  93+2  93+2  ...      75.0   \n",
       "1  91+3  91+3  91+3  89+3  90+3  90+3  90+3  89+3  88+3  88+3  ...      85.0   \n",
       "2  84+3  84+3  84+3  89+3  89+3  89+3  89+3  89+3  89+3  89+3  ...      81.0   \n",
       "\n",
       "  Composure Marking StandingTackle SlidingTackle GKDiving GKHandling  \\\n",
       "0      96.0    33.0           28.0          26.0      6.0       11.0   \n",
       "1      95.0    28.0           31.0          23.0      7.0       11.0   \n",
       "2      94.0    27.0           24.0          33.0      9.0        9.0   \n",
       "\n",
       "  GKKicking GKPositioning GKReflexes  \n",
       "0      15.0          14.0        8.0  \n",
       "1      15.0          14.0       11.0  \n",
       "2      15.0          15.0       11.0  \n",
       "\n",
       "[3 rows x 60 columns]"
      ]
     },
     "execution_count": 724,
     "metadata": {},
     "output_type": "execute_result"
    }
   ],
   "source": [
    "dataset.head(3)"
   ]
  },
  {
   "cell_type": "code",
   "execution_count": 725,
   "metadata": {},
   "outputs": [],
   "source": [
    "for col in np.arange(26): #26 = RB\n",
    "    \n",
    "    operand1,operand2 = zip(*dataset.iloc[:,col].str.split('+'))\n",
    "\n",
    "    operand1 = [int(x) for x in list(operand1)]\n",
    "    operand2 = [int(x) for x in list(operand2)]\n",
    "\n",
    "    lists_of_lists = [operand1, operand2]\n",
    "    dataset.iloc[:,col] = [sum(x) for x in zip(*lists_of_lists)]\n",
    "    \n",
    "for i in np.arange(26,60):\n",
    "    dataset.iloc[:,i] = [int(x) for x in dataset.iloc[:,i]]"
   ]
  },
  {
   "cell_type": "code",
   "execution_count": 494,
   "metadata": {},
   "outputs": [
    {
     "data": {
      "text/plain": [
       "array([[90., 90., 90., ..., 15., 14.,  8.],\n",
       "       [94., 94., 94., ..., 15., 14., 11.],\n",
       "       [87., 87., 87., ..., 15., 15., 11.],\n",
       "       ...,\n",
       "       [47., 47., 47., ..., 10.,  6., 13.],\n",
       "       [49., 49., 49., ..., 14.,  8.,  9.],\n",
       "       [45., 45., 45., ...,  9., 12.,  9.]])"
      ]
     },
     "execution_count": 494,
     "metadata": {},
     "output_type": "execute_result"
    }
   ],
   "source": [
    "# X = dataset.iloc[:,:-1].values #sisanya ID\n",
    "X"
   ]
  },
  {
   "cell_type": "code",
   "execution_count": 495,
   "metadata": {},
   "outputs": [
    {
     "data": {
      "image/png": "[encoded data removed]",
      "text/plain": [
       "<Figure size 432x288 with 1 Axes>"
      ]
     },
     "metadata": {
      "needs_background": "light"
     },
     "output_type": "display_data"
    }
   ],
   "source": [
    "# Optimum Cluster Centroid\n",
    "from sklearn.cluster import KMeans\n",
    "wcss = []\n",
    "for i in range (1,11):\n",
    "    kmeans = KMeans(n_clusters = i, init='k-means++')\n",
    "    kmeans.fit(X)\n",
    "    wcss.append(kmeans.inertia_)\n",
    "    \n",
    "plt.plot(range(1,11),wcss)\n",
    "plt.title('The Elbow Method')\n",
    "plt.xlabel('Number of clusters')\n",
    "plt.ylabel('WCSS')\n",
    "plt.show()"
   ]
  },
  {
   "cell_type": "markdown",
   "metadata": {},
   "source": [
    "# start here"
   ]
  },
  {
   "cell_type": "code",
   "execution_count": 651,
   "metadata": {},
   "outputs": [],
   "source": [
    "# le1 = X[6433]\n",
    "# le2 = X[12695]\n",
    "# le3 = X[10524]\n",
    "# le4 = X[13219]\n",
    "# le5 = X[4219]\n",
    "\n",
    "# initial_centroid = np.array([le1,le2,le3,le4,le5])"
   ]
  },
  {
   "cell_type": "code",
   "execution_count": 675,
   "metadata": {},
   "outputs": [],
   "source": [
    "initial_centroids = []\n",
    "rand = random.sample(range(X.shape[0]),5) #random sample. param 1 = list\n",
    "for i in rand:\n",
    "    initial_centroids.append(list(X[i]))\n",
    "initial_centroid = np.array(initial_centroids)"
   ]
  },
  {
   "cell_type": "code",
   "execution_count": 687,
   "metadata": {},
   "outputs": [],
   "source": [
    "#Find the closest centroid\n",
    "def distSquared(point,centroid):\n",
    "    dist = np.sum(np.square(centroid-point))\n",
    "    return(dist)\n",
    "\n",
    "def findClosestCentroids(myX,initial_centroid):\n",
    "    \n",
    "    idxs = np.zeros((myX.shape[0],1))\n",
    "    \n",
    "    #loop through each data point in X\n",
    "    #setiap data(X) ke -> setiap centroid (bukan sebaliknya)\n",
    "    for x in np.arange(idxs.shape[0]):\n",
    "        \n",
    "        mypoint =  myX[x]\n",
    "        mindist, idx = 9999999,0\n",
    "        \n",
    "        for i in np.arange(np.shape(initial_centroid)[0]):\n",
    "            \n",
    "            mycentroid = initial_centroid[i]\n",
    "            distsquared = distSquared(mypoint,mycentroid)\n",
    "            if distsquared < mindist:\n",
    "                mindist = distsquared\n",
    "                idx = i\n",
    "                \n",
    "        idxs[x] = idx\n",
    "    return (idxs)"
   ]
  },
  {
   "cell_type": "code",
   "execution_count": 677,
   "metadata": {},
   "outputs": [],
   "source": [
    "idxs = findClosestCentroids(X, initial_centroid)"
   ]
  },
  {
   "cell_type": "markdown",
   "metadata": {},
   "source": [
    "##### 1.1.2 Computing centroid means"
   ]
  },
  {
   "cell_type": "code",
   "execution_count": 688,
   "metadata": {},
   "outputs": [],
   "source": [
    "def computeCentroids(myX, myidxs):\n",
    "    \"\"\"\n",
    "    Function takes in the X matrix and the index vector\n",
    "    and computes a new centroid matrix.\n",
    "    \"\"\"\n",
    "    \n",
    "    #subX = isinya ada 5 KELOMPOK. 5 ARRAY. \n",
    "    #yg nantinya akan dicari nilai rata2nya dari tiap kelompok tersebut\n",
    "    subX = []\n",
    "    for x in np.arange(len(np.unique(myidxs))):\n",
    "        subX.append(np.array([myX[i] for i in np.arange(myX.shape[0]) if myidxs[i] == x]))\n",
    "    return np.array([np.mean(thisX,axis=0) for thisX in subX])"
   ]
  },
  {
   "cell_type": "markdown",
   "metadata": {},
   "source": [
    "# CEK AJA"
   ]
  },
  {
   "cell_type": "code",
   "execution_count": 681,
   "metadata": {},
   "outputs": [],
   "source": [
    "# myX = X\n",
    "# myidxs = idxs\n",
    "\n",
    "# #subX = isinya ada 5 KELOMPOK. 5 ARRAY. \n",
    "# #yg nantinya akan dicari nilai rata2nya dari tiap kelompok tersebut\n",
    "# subX = []\n",
    "# for x in np.arange(len(np.unique(myidxs))):\n",
    "#     subX.append(np.array([myX[i] for i in np.arange(myX.shape[0]) if myidxs[i] == x]))\n",
    "# meannya = np.array([np.mean(thisX,axis=0) for thisX in subX])"
   ]
  },
  {
   "cell_type": "code",
   "execution_count": 685,
   "metadata": {},
   "outputs": [
    {
     "data": {
      "text/plain": [
       "5"
      ]
     },
     "execution_count": 685,
     "metadata": {},
     "output_type": "execute_result"
    }
   ],
   "source": [
    "# len(subX)"
   ]
  },
  {
   "cell_type": "code",
   "execution_count": 684,
   "metadata": {},
   "outputs": [
    {
     "data": {
      "text/plain": [
       "5"
      ]
     },
     "execution_count": 684,
     "metadata": {},
     "output_type": "execute_result"
    }
   ],
   "source": [
    "# len(meannya)"
   ]
  },
  {
   "cell_type": "markdown",
   "metadata": {},
   "source": [
    "# run beberapa kali untuk mendapatkan centroid yg optimal"
   ]
  },
  {
   "cell_type": "code",
   "execution_count": 689,
   "metadata": {},
   "outputs": [],
   "source": [
    "def runKMeans(myX, initial_centroids, K, n_iter):\n",
    "    \"\"\"\n",
    "    Function that actually does the iterations\n",
    "    \"\"\"\n",
    "    centroid_history = []\n",
    "    current_centroids = initial_centroids\n",
    "    for myiter in np.arange(n_iter):\n",
    "        centroid_history.append(current_centroids)\n",
    "        idxs = findClosestCentroids(myX,current_centroids)\n",
    "        current_centroids = computeCentroids(myX,idxs)\n",
    "        \n",
    "    return idxs, centroid_history"
   ]
  },
  {
   "cell_type": "code",
   "execution_count": 502,
   "metadata": {},
   "outputs": [],
   "source": [
    "idxs, centroid_history = runKMeans(X,initial_centroids,K=3,n_iter=10)"
   ]
  },
  {
   "cell_type": "markdown",
   "metadata": {},
   "source": [
    "# pilih centroid secara random"
   ]
  },
  {
   "cell_type": "code",
   "execution_count": 726,
   "metadata": {},
   "outputs": [],
   "source": [
    "def chooseKRandomCentroids(myX, K):\n",
    "    rand_indices = sample(range(0,myX.shape[0]),K)\n",
    "    return np.array([myX[i] for i in rand_indices])    "
   ]
  },
  {
   "cell_type": "markdown",
   "metadata": {},
   "source": [
    "# run beberapa kali untuk mendapatkan model yang optimal (bergantung pada nilai cost functionnya)"
   ]
  },
  {
   "cell_type": "code",
   "execution_count": 703,
   "metadata": {},
   "outputs": [],
   "source": [
    "for x in np.arange(3):\n",
    "    idxs, centroid_history = runKMeans(X,chooseKRandomCentroids(X,K=5),\n",
    "                                       K=5,n_iter=10)"
   ]
  },
  {
   "cell_type": "code",
   "execution_count": 727,
   "metadata": {},
   "outputs": [
    {
     "data": {
      "text/plain": [
       "3000358035.0"
      ]
     },
     "execution_count": 727,
     "metadata": {},
     "output_type": "execute_result"
    }
   ],
   "source": [
    "distSquared(X,idxs)"
   ]
  },
  {
   "cell_type": "markdown",
   "metadata": {},
   "source": [
    "# USING LIBRARY KMEANS"
   ]
  },
  {
   "cell_type": "code",
   "execution_count": 507,
   "metadata": {},
   "outputs": [],
   "source": [
    "kmeans = KMeans(n_clusters = 5, init = 'k-means++', random_state = 42)\n",
    "y_kmeans = kmeans.fit_predict(X)"
   ]
  },
  {
   "cell_type": "code",
   "execution_count": 508,
   "metadata": {},
   "outputs": [
    {
     "data": {
      "text/plain": [
       "array([0, 0, 0, ..., 3, 3, 1], dtype=int32)"
      ]
     },
     "execution_count": 508,
     "metadata": {},
     "output_type": "execute_result"
    }
   ],
   "source": [
    "y_kmeans"
   ]
  },
  {
   "cell_type": "code",
   "execution_count": 509,
   "metadata": {},
   "outputs": [],
   "source": [
    "dataset['clustKM'] = y_kmeans"
   ]
  },
  {
   "cell_type": "code",
   "execution_count": 511,
   "metadata": {},
   "outputs": [
    {
     "data": {
      "text/plain": [
       "array([0, 4, 2, 1, 3])"
      ]
     },
     "execution_count": 511,
     "metadata": {},
     "output_type": "execute_result"
    }
   ],
   "source": [
    "dataset.clustKM.unique()"
   ]
  },
  {
   "cell_type": "code",
   "execution_count": 512,
   "metadata": {},
   "outputs": [
    {
     "data": {
      "text/html": [
       "<div>\n",
       "<style scoped>\n",
       "    .dataframe tbody tr th:only-of-type {\n",
       "        vertical-align: middle;\n",
       "    }\n",
       "\n",
       "    .dataframe tbody tr th {\n",
       "        vertical-align: top;\n",
       "    }\n",
       "\n",
       "    .dataframe thead th {\n",
       "        text-align: right;\n",
       "    }\n",
       "</style>\n",
       "<table border=\"1\" class=\"dataframe\">\n",
       "  <thead>\n",
       "    <tr style=\"text-align: right;\">\n",
       "      <th></th>\n",
       "      <th>LS</th>\n",
       "      <th>ST</th>\n",
       "      <th>RS</th>\n",
       "      <th>LW</th>\n",
       "      <th>LF</th>\n",
       "      <th>CF</th>\n",
       "      <th>RF</th>\n",
       "      <th>RW</th>\n",
       "      <th>LAM</th>\n",
       "      <th>CAM</th>\n",
       "      <th>...</th>\n",
       "      <th>Composure</th>\n",
       "      <th>Marking</th>\n",
       "      <th>StandingTackle</th>\n",
       "      <th>SlidingTackle</th>\n",
       "      <th>GKDiving</th>\n",
       "      <th>GKHandling</th>\n",
       "      <th>GKKicking</th>\n",
       "      <th>GKPositioning</th>\n",
       "      <th>GKReflexes</th>\n",
       "      <th>clust</th>\n",
       "    </tr>\n",
       "    <tr>\n",
       "      <th>clustKM</th>\n",
       "      <th></th>\n",
       "      <th></th>\n",
       "      <th></th>\n",
       "      <th></th>\n",
       "      <th></th>\n",
       "      <th></th>\n",
       "      <th></th>\n",
       "      <th></th>\n",
       "      <th></th>\n",
       "      <th></th>\n",
       "      <th></th>\n",
       "      <th></th>\n",
       "      <th></th>\n",
       "      <th></th>\n",
       "      <th></th>\n",
       "      <th></th>\n",
       "      <th></th>\n",
       "      <th></th>\n",
       "      <th></th>\n",
       "      <th></th>\n",
       "      <th></th>\n",
       "    </tr>\n",
       "  </thead>\n",
       "  <tbody>\n",
       "    <tr>\n",
       "      <th>0</th>\n",
       "      <td>3243</td>\n",
       "      <td>3243</td>\n",
       "      <td>3243</td>\n",
       "      <td>3243</td>\n",
       "      <td>3243</td>\n",
       "      <td>3243</td>\n",
       "      <td>3243</td>\n",
       "      <td>3243</td>\n",
       "      <td>3243</td>\n",
       "      <td>3243</td>\n",
       "      <td>...</td>\n",
       "      <td>3243</td>\n",
       "      <td>3243</td>\n",
       "      <td>3243</td>\n",
       "      <td>3243</td>\n",
       "      <td>3243</td>\n",
       "      <td>3243</td>\n",
       "      <td>3243</td>\n",
       "      <td>3243</td>\n",
       "      <td>3243</td>\n",
       "      <td>3243</td>\n",
       "    </tr>\n",
       "    <tr>\n",
       "      <th>1</th>\n",
       "      <td>2693</td>\n",
       "      <td>2693</td>\n",
       "      <td>2693</td>\n",
       "      <td>2693</td>\n",
       "      <td>2693</td>\n",
       "      <td>2693</td>\n",
       "      <td>2693</td>\n",
       "      <td>2693</td>\n",
       "      <td>2693</td>\n",
       "      <td>2693</td>\n",
       "      <td>...</td>\n",
       "      <td>2693</td>\n",
       "      <td>2693</td>\n",
       "      <td>2693</td>\n",
       "      <td>2693</td>\n",
       "      <td>2693</td>\n",
       "      <td>2693</td>\n",
       "      <td>2693</td>\n",
       "      <td>2693</td>\n",
       "      <td>2693</td>\n",
       "      <td>2693</td>\n",
       "    </tr>\n",
       "    <tr>\n",
       "      <th>2</th>\n",
       "      <td>4326</td>\n",
       "      <td>4326</td>\n",
       "      <td>4326</td>\n",
       "      <td>4326</td>\n",
       "      <td>4326</td>\n",
       "      <td>4326</td>\n",
       "      <td>4326</td>\n",
       "      <td>4326</td>\n",
       "      <td>4326</td>\n",
       "      <td>4326</td>\n",
       "      <td>...</td>\n",
       "      <td>4326</td>\n",
       "      <td>4326</td>\n",
       "      <td>4326</td>\n",
       "      <td>4326</td>\n",
       "      <td>4326</td>\n",
       "      <td>4326</td>\n",
       "      <td>4326</td>\n",
       "      <td>4326</td>\n",
       "      <td>4326</td>\n",
       "      <td>4326</td>\n",
       "    </tr>\n",
       "    <tr>\n",
       "      <th>3</th>\n",
       "      <td>3031</td>\n",
       "      <td>3031</td>\n",
       "      <td>3031</td>\n",
       "      <td>3031</td>\n",
       "      <td>3031</td>\n",
       "      <td>3031</td>\n",
       "      <td>3031</td>\n",
       "      <td>3031</td>\n",
       "      <td>3031</td>\n",
       "      <td>3031</td>\n",
       "      <td>...</td>\n",
       "      <td>3031</td>\n",
       "      <td>3031</td>\n",
       "      <td>3031</td>\n",
       "      <td>3031</td>\n",
       "      <td>3031</td>\n",
       "      <td>3031</td>\n",
       "      <td>3031</td>\n",
       "      <td>3031</td>\n",
       "      <td>3031</td>\n",
       "      <td>3031</td>\n",
       "    </tr>\n",
       "    <tr>\n",
       "      <th>4</th>\n",
       "      <td>2829</td>\n",
       "      <td>2829</td>\n",
       "      <td>2829</td>\n",
       "      <td>2829</td>\n",
       "      <td>2829</td>\n",
       "      <td>2829</td>\n",
       "      <td>2829</td>\n",
       "      <td>2829</td>\n",
       "      <td>2829</td>\n",
       "      <td>2829</td>\n",
       "      <td>...</td>\n",
       "      <td>2829</td>\n",
       "      <td>2829</td>\n",
       "      <td>2829</td>\n",
       "      <td>2829</td>\n",
       "      <td>2829</td>\n",
       "      <td>2829</td>\n",
       "      <td>2829</td>\n",
       "      <td>2829</td>\n",
       "      <td>2829</td>\n",
       "      <td>2829</td>\n",
       "    </tr>\n",
       "  </tbody>\n",
       "</table>\n",
       "<p>5 rows × 61 columns</p>\n",
       "</div>"
      ],
      "text/plain": [
       "           LS    ST    RS    LW    LF    CF    RF    RW   LAM   CAM  ...  \\\n",
       "clustKM                                                              ...   \n",
       "0        3243  3243  3243  3243  3243  3243  3243  3243  3243  3243  ...   \n",
       "1        2693  2693  2693  2693  2693  2693  2693  2693  2693  2693  ...   \n",
       "2        4326  4326  4326  4326  4326  4326  4326  4326  4326  4326  ...   \n",
       "3        3031  3031  3031  3031  3031  3031  3031  3031  3031  3031  ...   \n",
       "4        2829  2829  2829  2829  2829  2829  2829  2829  2829  2829  ...   \n",
       "\n",
       "         Composure  Marking  StandingTackle  SlidingTackle  GKDiving  \\\n",
       "clustKM                                                                \n",
       "0             3243     3243            3243           3243      3243   \n",
       "1             2693     2693            2693           2693      2693   \n",
       "2             4326     4326            4326           4326      4326   \n",
       "3             3031     3031            3031           3031      3031   \n",
       "4             2829     2829            2829           2829      2829   \n",
       "\n",
       "         GKHandling  GKKicking  GKPositioning  GKReflexes  clust  \n",
       "clustKM                                                           \n",
       "0              3243       3243           3243        3243   3243  \n",
       "1              2693       2693           2693        2693   2693  \n",
       "2              4326       4326           4326        4326   4326  \n",
       "3              3031       3031           3031        3031   3031  \n",
       "4              2829       2829           2829        2829   2829  \n",
       "\n",
       "[5 rows x 61 columns]"
      ]
     },
     "execution_count": 512,
     "metadata": {},
     "output_type": "execute_result"
    }
   ],
   "source": [
    "dataset.groupby('clustKM').count()"
   ]
  },
  {
   "cell_type": "code",
   "execution_count": 515,
   "metadata": {},
   "outputs": [],
   "source": [
    "from sklearn.metrics import pairwise_distances_argmin_min \n",
    "closest, _ = pairwise_distances_argmin_min(kmeans.cluster_centers_, X)"
   ]
  },
  {
   "cell_type": "code",
   "execution_count": 516,
   "metadata": {},
   "outputs": [
    {
     "data": {
      "text/plain": [
       "array([ 6433, 12695, 10524, 13219,  4219])"
      ]
     },
     "execution_count": 516,
     "metadata": {},
     "output_type": "execute_result"
    }
   ],
   "source": [
    "closest"
   ]
  },
  {
   "cell_type": "code",
   "execution_count": 728,
   "metadata": {},
   "outputs": [
    {
     "data": {
      "text/plain": [
       "-51839660.155299746"
      ]
     },
     "execution_count": 728,
     "metadata": {},
     "output_type": "execute_result"
    }
   ],
   "source": [
    "kmeans.score(X)"
   ]
  },
  {
   "cell_type": "code",
   "execution_count": null,
   "metadata": {},
   "outputs": [],
   "source": []
  }
 ],
 "metadata": {
  "kernelspec": {
   "display_name": "Python 3",
   "language": "python",
   "name": "python3"
  },
  "language_info": {
   "codemirror_mode": {
    "name": "ipython",
    "version": 3
   },
   "file_extension": ".py",
   "mimetype": "text/x-python",
   "name": "python",
   "nbconvert_exporter": "python",
   "pygments_lexer": "ipython3",
   "version": "3.6.8"
  }
 },
 "nbformat": 4,
 "nbformat_minor": 2
}
