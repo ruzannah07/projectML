{
 "cells": [
  {
   "cell_type": "code",
   "execution_count": 7,
   "metadata": {},
   "outputs": [],
   "source": [
    "%matplotlib inline\n",
    "import numpy as np\n",
    "import matplotlib.pyplot as plt\n",
    "import scipy.io #Used to load the OCTAVE *.mat files\n",
    "import scipy.optimize #Use for fmincg"
   ]
  },
  {
   "cell_type": "code",
   "execution_count": 8,
   "metadata": {},
   "outputs": [],
   "source": [
    "datafile = 'data/ex8_movies.mat'\n",
    "mat = scipy.io.loadmat( datafile )\n",
    "Y = mat['Y']\n",
    "R = mat['R']\n",
    "\n",
    "nm, nu = Y.shape\n",
    "\n",
    "\n",
    "#Y : ratings (1-5) of 1682 movies on 943 users (1682, 943)\n",
    "# R(i,j)  : 1 if user j gave a rating to movie i"
   ]
  },
  {
   "cell_type": "code",
   "execution_count": 9,
   "metadata": {},
   "outputs": [],
   "source": [
    "nm, nu = Y.shape"
   ]
  },
  {
   "cell_type": "code",
   "execution_count": 10,
   "metadata": {},
   "outputs": [
    {
     "data": {
      "text/plain": [
       "(1682, 943)"
      ]
     },
     "execution_count": 10,
     "metadata": {},
     "output_type": "execute_result"
    }
   ],
   "source": [
    "Y.shape"
   ]
  },
  {
   "cell_type": "code",
   "execution_count": 11,
   "metadata": {},
   "outputs": [
    {
     "data": {
      "text/plain": [
       "(1682, 943)"
      ]
     },
     "execution_count": 11,
     "metadata": {},
     "output_type": "execute_result"
    }
   ],
   "source": [
    "R.shape"
   ]
  },
  {
   "cell_type": "code",
   "execution_count": 12,
   "metadata": {},
   "outputs": [],
   "source": [
    "#R[9] #baris ke 9\n",
    "#R[:,2] #kolom ke 2\n",
    "\n",
    "for i in np.arange(1682):\n",
    "    for x in np.arange(943):\n",
    "            if (Y[i,x] == 0)&(R[i,x] == 1):\n",
    "                print(i,x)\n",
    "                \n",
    "#karena  gada yg di print berarti y=0 artinya movie wasn't rated"
   ]
  },
  {
   "cell_type": "code",
   "execution_count": 13,
   "metadata": {
    "scrolled": false
   },
   "outputs": [
    {
     "name": "stdout",
     "output_type": "stream",
     "text": [
      "Average rating for movie 1: 3.8783185840707963\n"
     ]
    },
    {
     "data": {
      "image/png": "[encoded data removed]",
      "text/plain": [
       "<Figure size 216x385.273 with 2 Axes>"
      ]
     },
     "metadata": {
      "needs_background": "light"
     },
     "output_type": "display_data"
    }
   ],
   "source": [
    "meanM1 = np.mean([Y[0][x] for x in np.arange(Y.shape[1]) if R[0][x] ]) \n",
    "#if TRUE: movie have rated. just measuring movie that have rated\n",
    "print (\"Average rating for movie 1:\", meanM1)\n",
    "\n",
    "#Visualize the rating matrix\n",
    "plt.figure(figsize=(3,3*(1682./943.)))\n",
    "plt.imshow(Y)\n",
    "plt.colorbar()\n",
    "plt.ylabel('Movies (%d)'%nm,fontsize=15)\n",
    "plt.xlabel('Users (%d)'%nm,fontsize=15)\n",
    "plt.show()"
   ]
  },
  {
   "cell_type": "markdown",
   "metadata": {},
   "source": [
    "# Collaborative Filtering"
   ]
  },
  {
   "cell_type": "code",
   "execution_count": 14,
   "metadata": {},
   "outputs": [],
   "source": [
    "datafile = 'data/ex8_movieParams.mat'\n",
    "mat = scipy.io.loadmat(datafile)\n",
    "X = mat['X']\n",
    "theta = mat['Theta']\n",
    "nu = int(mat['num_users'])\n",
    "nm = int(mat['num_movies'])\n",
    "nf = int(mat['num_features'])"
   ]
  },
  {
   "cell_type": "code",
   "execution_count": 15,
   "metadata": {},
   "outputs": [],
   "source": [
    "#FOR NOW, reduce the dataset size so that this run faster\n",
    "nu=4; nm=5; nf=3\n",
    "X = X[:nm, :nf]\n",
    "theta = theta[:nu, :nf]  #user,feature X\n",
    "Y = Y[:nm, :nu]\n",
    "R = R[:nm, :nu]"
   ]
  },
  {
   "cell_type": "code",
   "execution_count": 16,
   "metadata": {},
   "outputs": [],
   "source": [
    "def flattenParams(myX, myTheta):\n",
    "    con = np.concatenate((myX.flatten(), myTheta.flatten()))\n",
    "    return(con)\n",
    "\n",
    "def reshapeParams(flattenedXTheta, nm, nu, nf):\n",
    "    reshapeX = flattenedXTheta[:int(nm*nf)].reshape((nm,nf))\n",
    "    reshapeTheta = flattenedXTheta[int(nm*nf):].reshape((nu,nf))\n",
    "    \n",
    "    return (reshapeX,reshapeTheta)"
   ]
  },
  {
   "cell_type": "markdown",
   "metadata": {},
   "source": [
    "### 1. Collaborative filtering cost function + Regularized "
   ]
  },
  {
   "cell_type": "code",
   "execution_count": 17,
   "metadata": {},
   "outputs": [],
   "source": [
    "def cofiCostFunct(myparams, Y, R, nu, nm, nf, mylambda = 0.):\n",
    "    X, theta = reshapeParams(myparams, nm, nu, nf)\n",
    "    \n",
    "    # Note: \n",
    "    # X Shape is (nm x nf), \n",
    "    # Theta shape is (nu x nf), \n",
    "    # Y and R shape is (nm x nu)\n",
    "    # Behold! Complete vectorization\n",
    "    \n",
    "    # First dot theta and X together such that you get a matrix \n",
    "    #the same shape as Y\n",
    "    term1 = X.dot(theta.T) #result: Rating of movies from users\n",
    "    #term1 = include data yg belum di rated, karna kita initial X(feature)\n",
    "    #semua tanpa terkecuali\n",
    "    #term2 = kita filter dengan matrix R. movies yg belum di rate akan jadi 0\n",
    "    term2 = np.multiply(term1,R)\n",
    "    \n",
    "    cost = (1/2)*np.sum(np.square(term2-Y))\n",
    "    \n",
    "    #REG\n",
    "    cost += (mylambda/2.)*np.sum(np.square(theta))\n",
    "    cost += (mylambda/2.)*np.sum(np.square(X))\n",
    "    \n",
    "    return cost"
   ]
  },
  {
   "cell_type": "markdown",
   "metadata": {},
   "source": [
    "#### costFunction, \n",
    "using theta & X initialize randomly (belum di gradient/cari optimal)"
   ]
  },
  {
   "cell_type": "code",
   "execution_count": 18,
   "metadata": {},
   "outputs": [
    {
     "name": "stdout",
     "output_type": "stream",
     "text": [
      "Cost with lambda:0 =  22.224603725685675\n",
      "Cost with lambda:1.5 = 31.34405624427422\n"
     ]
    }
   ],
   "source": [
    "wolambda = cofiCostFunct(flattenParams(X,theta),Y,R,nu,nm,nf)\n",
    "print('Cost with lambda:0 = ',wolambda)\n",
    "wlambda = cofiCostFunct(flattenParams(X,theta),Y,R,nu,nm,nf,mylambda=1.5)\n",
    "print('Cost with lambda:1.5 =',wlambda)"
   ]
  },
  {
   "cell_type": "markdown",
   "metadata": {},
   "source": [
    "### 2.Collaborative filtering GradientDescent"
   ]
  },
  {
   "cell_type": "code",
   "execution_count": 26,
   "metadata": {},
   "outputs": [],
   "source": [
    "def cofiGrad(myparams,Y,R,nu,nm,nf,mylambda=0.):\n",
    "    X,theta = reshapeParams(myparams,nm,nu,nf)\n",
    "    \n",
    "    term1 = X.dot(theta.T)\n",
    "    term1 = np.multiply(term1,R)\n",
    "    term1 -= Y\n",
    "    \n",
    "    Xgrad = term1.dot(theta)\n",
    "    thetaGrad = term1.T.dot(X)\n",
    "    \n",
    "    #REG\n",
    "    Xgrad += mylambda * X\n",
    "    thetaGrad += mylambda *theta\n",
    "    \n",
    "    #nilai gradient nya (turunan, belum dikali lerning rate)\n",
    "    return(flattenParams(Xgrad,thetaGrad))"
   ]
  },
  {
   "cell_type": "code",
   "execution_count": 32,
   "metadata": {},
   "outputs": [],
   "source": [
    "#Let's check my gradient computation real quick:\n",
    "def checkGradient(myparams, myY, myR, mynu, mynm, mynf, mylambda = 0.):\n",
    "    \n",
    "    print ('Numerical Gradient \\t cofiGrad \\t\\t Difference')\n",
    "    \n",
    "    # Compute a numerical gradient with an epsilon perturbation vector\n",
    "    myeps = 0.0001\n",
    "    nparams = len(myparams)\n",
    "    epsvec = np.zeros(nparams)\n",
    "    # These are my implemented gradient solutions\n",
    "    mygrads = cofiGrad(myparams,myY,myR,mynu,mynm,mynf,mylambda)\n",
    "\n",
    "    # Choose 10 random elements of my combined (X, Theta) param vector\n",
    "    # and compute the numerical gradient for each... print to screen\n",
    "    # the numerical gradient next to the my cofiGradient to inspect\n",
    "    \n",
    "    for i in np.arange(10):\n",
    "        idx = np.random.randint(0,nparams)\n",
    "        epsvec[idx] = myeps\n",
    "        #loss1 = param- epsilon\n",
    "        loss1 = cofiCostFunct(myparams-epsvec,myY,myR,mynu,mynm,mynf,mylambda)\n",
    "        #loss2 = param+epsilon\n",
    "        loss2 = cofiCostFunct(myparams+epsvec,myY,myR,mynu,mynm,mynf,mylambda)\n",
    "        \n",
    "        \n",
    "        mygrad = (loss2 - loss1) / (2*myeps)\n",
    "        epsvec[idx] = 0\n",
    "        print (mygrad,mygrads[idx],mygrad- mygrads[idx])"
   ]
  },
  {
   "cell_type": "code",
   "execution_count": 33,
   "metadata": {},
   "outputs": [
    {
     "name": "stdout",
     "output_type": "stream",
     "text": [
      "Checking gradient with lambda = 0....\n",
      "Numerical Gradient \t cofiGrad \t\t Difference\n",
      "0.0 0.0 0.0\n",
      "0.0 0.0 0.0\n",
      "-0.8324071330889637 -0.832407133096985 8.021250330614293e-12\n",
      "-0.8324071330889637 -0.832407133096985 8.021250330614293e-12\n",
      "4.62776019000799 4.627760190006159 1.8314239014216582e-12\n",
      "1.1644136694499707 1.1644136694462246 3.746114529690203e-12\n",
      "0.0 0.0 0.0\n",
      "-0.7667787767040579 -0.7667787767036732 -3.8469227803261674e-13\n",
      "-0.7667787767040579 -0.7667787767036732 -3.8469227803261674e-13\n",
      "-7.160044429745938 -7.160044429740946 -4.991562718714704e-12\n",
      "\n",
      " \n",
      " Checking gradient with lambda = 1.5..... \n",
      "Numerical Gradient \t cofiGrad \t\t Difference\n",
      "0.4824409778692029 0.4824409778790828 -9.879874696139268e-12\n",
      "-6.765636277386022 -6.765636277366185 -1.9837465004002297e-11\n",
      "-0.40784085793887925 -0.40784085793527913 -3.600120201951995e-12\n",
      "2.774211446130437 2.7742114461243377 6.09912120808076e-12\n",
      "2.1013625613619524 2.1013625613886817 -2.672928545166542e-11\n",
      "-0.8924733436010968 -0.8924733435974324 -3.664402115077792e-12\n",
      "2.774211446130437 2.7742114461243377 6.09912120808076e-12\n",
      "-0.19747928105218193 -0.19747928103619794 -1.598399190783084e-11\n",
      "0.602526771817935 0.6025267718335936 -1.5658585539313208e-11\n",
      "0.4902654063698719 0.4902654063555779 1.4294010419746428e-11\n"
     ]
    }
   ],
   "source": [
    "print (\"Checking gradient with lambda = 0....\")\n",
    "checkGradient(flattenParams(X,theta),Y,R,nu,nm,nf)\n",
    "print( \"\\n \\n Checking gradient with lambda = 1.5..... \")\n",
    "checkGradient(flattenParams(X,theta),Y,R,nu,nm,nf,mylambda = 1.5)"
   ]
  },
  {
   "cell_type": "markdown",
   "metadata": {},
   "source": [
    "# Learning movie recommendations"
   ]
  },
  {
   "cell_type": "markdown",
   "metadata": {},
   "source": [
    "### 1. Recommendations"
   ]
  },
  {
   "cell_type": "code",
   "execution_count": 34,
   "metadata": {},
   "outputs": [],
   "source": [
    "# So, this file has the list of movies and their respective index in the Y vector\n",
    "# Let's make a list of strings to reference later\n",
    "movies = []\n",
    "with open('data/movie_ids.txt', encoding = \"ISO-8859-1\") as f:\n",
    "    for line in f:\n",
    "        movies.append(' '.join(line.strip('\\n').split(' ')[1:]))\n",
    "\n",
    "# Rather than rate some movies myself, I'll use what was built-in to the homework\n",
    "# (just so I can check my solutions)\n",
    "\n",
    "\n",
    "my_ratings = np.zeros((1682,1))\n",
    "my_ratings[0]   = 4\n",
    "my_ratings[97]  = 2\n",
    "my_ratings[6]   = 3\n",
    "my_ratings[11]  = 5\n",
    "my_ratings[53]  = 4\n",
    "my_ratings[63]  = 5\n",
    "my_ratings[65]  = 3\n",
    "my_ratings[68]  = 5\n",
    "my_ratings[182] = 4\n",
    "my_ratings[225] = 5\n",
    "my_ratings[354] = 5"
   ]
  },
  {
   "cell_type": "code",
   "execution_count": 35,
   "metadata": {},
   "outputs": [],
   "source": [
    "# I'll re-read in the data because I shortened them earlier (to debug)\n",
    "datafile = 'data/ex8_movies.mat'\n",
    "mat = scipy.io.loadmat( datafile )\n",
    "Y = mat['Y']\n",
    "R = mat['R']\n",
    "# We'll use 10 features\n",
    "nf = 10"
   ]
  },
  {
   "cell_type": "code",
   "execution_count": 36,
   "metadata": {},
   "outputs": [],
   "source": [
    "# Add my ratings to the Y matrix, and the relevant row to the R matrix\n",
    "myR_row = my_ratings > 0\n",
    "Y = np.hstack((Y,my_ratings))\n",
    "R = np.hstack((R,myR_row))\n",
    "nm, nu = Y.shape"
   ]
  },
  {
   "cell_type": "code",
   "execution_count": null,
   "metadata": {},
   "outputs": [],
   "source": []
  }
 ],
 "metadata": {
  "kernelspec": {
   "display_name": "Python 3",
   "language": "python",
   "name": "python3"
  },
  "language_info": {
   "codemirror_mode": {
    "name": "ipython",
    "version": 3
   },
   "file_extension": ".py",
   "mimetype": "text/x-python",
   "name": "python",
   "nbconvert_exporter": "python",
   "pygments_lexer": "ipython3",
   "version": "3.6.8"
  }
 },
 "nbformat": 4,
 "nbformat_minor": 2
}
