{
 "cells": [
  {
   "cell_type": "code",
   "execution_count": 118,
   "metadata": {},
   "outputs": [],
   "source": [
    "import pandas as pd\n",
    "import numpy as np\n",
    "import matplotlib.pyplot as plt\n",
    "import seaborn as sns\n",
    "import warnings\n",
    "warnings.filterwarnings('ignore')"
   ]
  },
  {
   "cell_type": "code",
   "execution_count": 119,
   "metadata": {},
   "outputs": [],
   "source": [
    "traindata = pd.read_csv('train.csv')\n",
    "testdata = pd.read_csv('test.csv')\n",
    "mergeData = [traindata, testdata]"
   ]
  },
  {
   "cell_type": "markdown",
   "metadata": {},
   "source": [
    "# 1. FEATURE ENGINEERING"
   ]
  },
  {
   "cell_type": "markdown",
   "metadata": {},
   "source": [
    "## 1.1. Get Titles: based on name"
   ]
  },
  {
   "cell_type": "code",
   "execution_count": 120,
   "metadata": {},
   "outputs": [],
   "source": [
    "import re\n",
    "\n",
    "def title(Name):\n",
    "    getTitle = re.search('([A-Za-z]+)\\.',Name)\n",
    "    \n",
    "    if getTitle:\n",
    "        return getTitle.group(1)\n",
    "    return \"\"\n",
    "\n",
    "for data in mergeData:\n",
    "    data['Titles'] = data['Name'].apply(title)\n",
    "\n",
    "crosstabTrain = pd.crosstab(traindata['Titles'], traindata['Sex'])\n",
    "crosstabTest = pd.crosstab(testdata['Titles'], testdata['Sex'])"
   ]
  },
  {
   "cell_type": "code",
   "execution_count": 121,
   "metadata": {},
   "outputs": [
    {
     "data": {
      "text/html": [
       "<div>\n",
       "<style scoped>\n",
       "    .dataframe tbody tr th:only-of-type {\n",
       "        vertical-align: middle;\n",
       "    }\n",
       "\n",
       "    .dataframe tbody tr th {\n",
       "        vertical-align: top;\n",
       "    }\n",
       "\n",
       "    .dataframe thead th {\n",
       "        text-align: right;\n",
       "    }\n",
       "</style>\n",
       "<table border=\"1\" class=\"dataframe\">\n",
       "  <thead>\n",
       "    <tr style=\"text-align: right;\">\n",
       "      <th>Sex</th>\n",
       "      <th>female</th>\n",
       "      <th>male</th>\n",
       "    </tr>\n",
       "    <tr>\n",
       "      <th>Titles</th>\n",
       "      <th></th>\n",
       "      <th></th>\n",
       "    </tr>\n",
       "  </thead>\n",
       "  <tbody>\n",
       "    <tr>\n",
       "      <th>Dr</th>\n",
       "      <td>1</td>\n",
       "      <td>6</td>\n",
       "    </tr>\n",
       "  </tbody>\n",
       "</table>\n",
       "</div>"
      ],
      "text/plain": [
       "Sex     female  male\n",
       "Titles              \n",
       "Dr           1     6"
      ]
     },
     "execution_count": 121,
     "metadata": {},
     "output_type": "execute_result"
    }
   ],
   "source": [
    "### check if there two sex in one title\n",
    "crosstabTrain[(crosstabTrain.female != 0) & (crosstabTrain.male !=0)]"
   ]
  },
  {
   "cell_type": "code",
   "execution_count": 122,
   "metadata": {},
   "outputs": [
    {
     "data": {
      "text/html": [
       "<div>\n",
       "<style scoped>\n",
       "    .dataframe tbody tr th:only-of-type {\n",
       "        vertical-align: middle;\n",
       "    }\n",
       "\n",
       "    .dataframe tbody tr th {\n",
       "        vertical-align: top;\n",
       "    }\n",
       "\n",
       "    .dataframe thead th {\n",
       "        text-align: right;\n",
       "    }\n",
       "</style>\n",
       "<table border=\"1\" class=\"dataframe\">\n",
       "  <thead>\n",
       "    <tr style=\"text-align: right;\">\n",
       "      <th>Sex</th>\n",
       "      <th>female</th>\n",
       "      <th>male</th>\n",
       "    </tr>\n",
       "    <tr>\n",
       "      <th>Titles</th>\n",
       "      <th></th>\n",
       "      <th></th>\n",
       "    </tr>\n",
       "  </thead>\n",
       "  <tbody>\n",
       "  </tbody>\n",
       "</table>\n",
       "</div>"
      ],
      "text/plain": [
       "Empty DataFrame\n",
       "Columns: [female, male]\n",
       "Index: []"
      ]
     },
     "execution_count": 122,
     "metadata": {},
     "output_type": "execute_result"
    }
   ],
   "source": [
    "# Dr are female & male\n",
    "crosstabTest[(crosstabTest.female != 0) & (crosstabTest.male !=0)]\n",
    "# Just in Train data"
   ]
  },
  {
   "cell_type": "markdown",
   "metadata": {},
   "source": [
    "## MALE"
   ]
  },
  {
   "cell_type": "code",
   "execution_count": 123,
   "metadata": {},
   "outputs": [
    {
     "data": {
      "text/plain": [
       "Titles\n",
       "Mr        240\n",
       "Master     21\n",
       "Rev         2\n",
       "Col         2\n",
       "Dr          1\n",
       "Name: male, dtype: int64"
      ]
     },
     "execution_count": 123,
     "metadata": {},
     "output_type": "execute_result"
    }
   ],
   "source": [
    "crosstabTest.loc[crosstabTest.male != 0, 'male'].sort_values(ascending=False)"
   ]
  },
  {
   "cell_type": "code",
   "execution_count": 124,
   "metadata": {},
   "outputs": [
    {
     "data": {
      "text/plain": [
       "Titles\n",
       "Mr          517\n",
       "Master       40\n",
       "Rev           6\n",
       "Dr            6\n",
       "Major         2\n",
       "Col           2\n",
       "Sir           1\n",
       "Jonkheer      1\n",
       "Don           1\n",
       "Capt          1\n",
       "Name: male, dtype: int64"
      ]
     },
     "execution_count": 124,
     "metadata": {},
     "output_type": "execute_result"
    }
   ],
   "source": [
    "#titles in data train have represent titles in data test\n",
    "male = crosstabTrain.loc[crosstabTrain.male != 0, 'male'].sort_values(ascending=False)\n",
    "male"
   ]
  },
  {
   "cell_type": "code",
   "execution_count": 125,
   "metadata": {},
   "outputs": [
    {
     "data": {
      "image/png": "[encoded data removed]",
      "text/plain": [
       "<Figure size 864x432 with 2 Axes>"
      ]
     },
     "metadata": {},
     "output_type": "display_data"
    }
   ],
   "source": [
    "# Age distibution for titles: Mr. and Master\n",
    "ManOld = traindata[['Titles','Age']][traindata.Titles.isin(['Mr','Master'])]\n",
    "\n",
    "f,axes = plt.subplots(1,2, figsize=(12,6))\n",
    "visManOld = sns.violinplot(data=ManOld, x='Titles', y='Age',ax=axes[0], palette=\"husl\")\n",
    "\n",
    "\n",
    "plt.rcParams['figure.figsize'] = 10,8\n",
    "visMO1 = sns.distplot(ManOld[ManOld.Titles=='Mr'].Age, hist=False, kde_kws={\"shade\": True}, color=\"r\", label ='Mr')\n",
    "visMO1 = sns.distplot(ManOld[ManOld.Titles=='Master'].Age, hist=False, kde_kws={\"shade\": True}, color=\"g\", label='Master')\n",
    "visMO1.legend()\n",
    "\n",
    "plt.show()"
   ]
  },
  {
   "cell_type": "code",
   "execution_count": 126,
   "metadata": {},
   "outputs": [
    {
     "data": {
      "text/html": [
       "<div>\n",
       "<style scoped>\n",
       "    .dataframe tbody tr th:only-of-type {\n",
       "        vertical-align: middle;\n",
       "    }\n",
       "\n",
       "    .dataframe tbody tr th {\n",
       "        vertical-align: top;\n",
       "    }\n",
       "\n",
       "    .dataframe thead th {\n",
       "        text-align: right;\n",
       "    }\n",
       "</style>\n",
       "<table border=\"1\" class=\"dataframe\">\n",
       "  <thead>\n",
       "    <tr style=\"text-align: right;\">\n",
       "      <th></th>\n",
       "      <th>Titles</th>\n",
       "      <th>Age</th>\n",
       "    </tr>\n",
       "  </thead>\n",
       "  <tbody>\n",
       "  </tbody>\n",
       "</table>\n",
       "</div>"
      ],
      "text/plain": [
       "Empty DataFrame\n",
       "Columns: [Titles, Age]\n",
       "Index: []"
      ]
     },
     "execution_count": 126,
     "metadata": {},
     "output_type": "execute_result"
    }
   ],
   "source": [
    "mr = ['Rev','Dr','Major', 'Col', 'Sir', 'Jonkheer', 'Don', 'Capt']\n",
    "traindata[(traindata.Titles.isin(mr)) & (traindata.Age<=20)][['Titles','Age']]\n",
    "#all of them greater than 20 y.o\n",
    "# testdata[(testdata.Titles.isin(maleL)) & (testdata.Age<=20) ][['Titles','Age']]"
   ]
  },
  {
   "cell_type": "code",
   "execution_count": 127,
   "metadata": {},
   "outputs": [],
   "source": [
    "for data in mergeData:\n",
    "    data.loc[data.Titles.isin(mr) & (data.Sex == 'male'),'Titles'] = 'Mr'"
   ]
  },
  {
   "cell_type": "code",
   "execution_count": 128,
   "metadata": {},
   "outputs": [
    {
     "data": {
      "text/html": [
       "<div>\n",
       "<style scoped>\n",
       "    .dataframe tbody tr th:only-of-type {\n",
       "        vertical-align: middle;\n",
       "    }\n",
       "\n",
       "    .dataframe tbody tr th {\n",
       "        vertical-align: top;\n",
       "    }\n",
       "\n",
       "    .dataframe thead th {\n",
       "        text-align: right;\n",
       "    }\n",
       "</style>\n",
       "<table border=\"1\" class=\"dataframe\">\n",
       "  <thead>\n",
       "    <tr style=\"text-align: right;\">\n",
       "      <th></th>\n",
       "      <th>PassengerId</th>\n",
       "      <th>Survived</th>\n",
       "      <th>Pclass</th>\n",
       "      <th>Name</th>\n",
       "      <th>Sex</th>\n",
       "      <th>Age</th>\n",
       "      <th>SibSp</th>\n",
       "      <th>Parch</th>\n",
       "      <th>Ticket</th>\n",
       "      <th>Fare</th>\n",
       "      <th>Cabin</th>\n",
       "      <th>Embarked</th>\n",
       "      <th>Titles</th>\n",
       "    </tr>\n",
       "  </thead>\n",
       "  <tbody>\n",
       "    <tr>\n",
       "      <th>796</th>\n",
       "      <td>797</td>\n",
       "      <td>1</td>\n",
       "      <td>1</td>\n",
       "      <td>Leader, Dr. Alice (Farnham)</td>\n",
       "      <td>female</td>\n",
       "      <td>49.0</td>\n",
       "      <td>0</td>\n",
       "      <td>0</td>\n",
       "      <td>17465</td>\n",
       "      <td>25.9292</td>\n",
       "      <td>D17</td>\n",
       "      <td>S</td>\n",
       "      <td>Dr</td>\n",
       "    </tr>\n",
       "  </tbody>\n",
       "</table>\n",
       "</div>"
      ],
      "text/plain": [
       "     PassengerId  Survived  Pclass                         Name     Sex   Age  \\\n",
       "796          797         1       1  Leader, Dr. Alice (Farnham)  female  49.0   \n",
       "\n",
       "     SibSp  Parch Ticket     Fare Cabin Embarked Titles  \n",
       "796      0      0  17465  25.9292   D17        S     Dr  "
      ]
     },
     "execution_count": 128,
     "metadata": {},
     "output_type": "execute_result"
    }
   ],
   "source": [
    "#female Dr\n",
    "traindata[traindata.Titles == 'Dr']"
   ]
  },
  {
   "cell_type": "markdown",
   "metadata": {},
   "source": [
    "## FEMALE"
   ]
  },
  {
   "cell_type": "code",
   "execution_count": 129,
   "metadata": {},
   "outputs": [
    {
     "data": {
      "text/plain": [
       "Titles\n",
       "Miss    78\n",
       "Mrs     72\n",
       "Ms       1\n",
       "Dona     1\n",
       "Name: female, dtype: int64"
      ]
     },
     "execution_count": 129,
     "metadata": {},
     "output_type": "execute_result"
    }
   ],
   "source": [
    "crosstabTest.loc[crosstabTest.female != 0, 'female'].sort_values(ascending=False)"
   ]
  },
  {
   "cell_type": "code",
   "execution_count": 130,
   "metadata": {},
   "outputs": [
    {
     "data": {
      "text/plain": [
       "Titles\n",
       "Miss        182\n",
       "Mrs         125\n",
       "Mlle          2\n",
       "Ms            1\n",
       "Mme           1\n",
       "Lady          1\n",
       "Dr            1\n",
       "Countess      1\n",
       "Name: female, dtype: int64"
      ]
     },
     "execution_count": 130,
     "metadata": {},
     "output_type": "execute_result"
    }
   ],
   "source": [
    "crosstabTrain.loc[crosstabTrain.female != 0, 'female'].sort_values(ascending=False)"
   ]
  },
  {
   "cell_type": "code",
   "execution_count": 131,
   "metadata": {},
   "outputs": [
    {
     "data": {
      "image/png": "[encoded data removed]",
      "text/plain": [
       "<Figure size 864x432 with 2 Axes>"
      ]
     },
     "metadata": {},
     "output_type": "display_data"
    }
   ],
   "source": [
    "woman = traindata[['Titles','Age']][traindata.Titles.isin(['Miss','Mrs'])]\n",
    "\n",
    "f,axes = plt.subplots(1,2, figsize=(12,6))\n",
    "viswoman = sns.violinplot(data=woman, x='Titles', y='Age',ax=axes[0], palette=\"husl\")\n",
    "\n",
    "\n",
    "plt.rcParams['figure.figsize'] = 10,8\n",
    "visMO2 = sns.distplot(woman[woman.Titles=='Miss'].Age, hist=False, kde_kws={\"shade\": True}, color=\"r\", label ='Miss')\n",
    "visMO2 = sns.distplot(woman[woman.Titles=='Mrs'].Age, hist=False, kde_kws={\"shade\": True}, color=\"g\", label='Mrs')\n",
    "visMO2.legend()\n",
    "\n",
    "plt.show()"
   ]
  },
  {
   "cell_type": "code",
   "execution_count": 132,
   "metadata": {},
   "outputs": [
    {
     "data": {
      "text/html": [
       "<div>\n",
       "<style scoped>\n",
       "    .dataframe tbody tr th:only-of-type {\n",
       "        vertical-align: middle;\n",
       "    }\n",
       "\n",
       "    .dataframe tbody tr th {\n",
       "        vertical-align: top;\n",
       "    }\n",
       "\n",
       "    .dataframe thead th {\n",
       "        text-align: right;\n",
       "    }\n",
       "</style>\n",
       "<table border=\"1\" class=\"dataframe\">\n",
       "  <thead>\n",
       "    <tr style=\"text-align: right;\">\n",
       "      <th></th>\n",
       "      <th>Titles</th>\n",
       "      <th>Age</th>\n",
       "    </tr>\n",
       "  </thead>\n",
       "  <tbody>\n",
       "  </tbody>\n",
       "</table>\n",
       "</div>"
      ],
      "text/plain": [
       "Empty DataFrame\n",
       "Columns: [Titles, Age]\n",
       "Index: []"
      ]
     },
     "execution_count": 132,
     "metadata": {},
     "output_type": "execute_result"
    }
   ],
   "source": [
    "mrs = ['Mlle','Ms','Mme','Lady','Dr','Countess', 'Dona']\n",
    "traindata[traindata.Titles.isin(mrs) & (traindata.Age <=20)][['Titles','Age']]\n",
    "#All of them greater than 20 y.o\n",
    "#testdata[testdata.Titles.isin(mrs) & (testdata.Age <=20)][['Titles','Age']]"
   ]
  },
  {
   "cell_type": "code",
   "execution_count": 133,
   "metadata": {},
   "outputs": [],
   "source": [
    "for data in mergeData:\n",
    "    data.loc[(data.Titles.isin(mrs))&(data.Sex == 'female'),'Titles'] = 'Mrs'"
   ]
  },
  {
   "cell_type": "markdown",
   "metadata": {},
   "source": [
    "## 1.2. fillna Age: based on Titles"
   ]
  },
  {
   "cell_type": "code",
   "execution_count": 134,
   "metadata": {},
   "outputs": [],
   "source": [
    "titles = ['Mr','Master','Mrs','Miss']\n",
    "for title in titles:\n",
    "    for data in mergeData:\n",
    "        dt = data[data.Titles==title]\n",
    "\n",
    "        ageAvg = dt.Age.mean()\n",
    "        ageStd = dt.Age.std()\n",
    "        ageMin = ageAvg-ageStd\n",
    "        ageMax = ageAvg+ageStd\n",
    "        numNull = data.Age.isnull().sum()\n",
    "\n",
    "        ageRand = np.random.randint(ageMin,ageMax,size=numNull)\n",
    "        data['Age'][np.isnan(data['Age'])] = ageRand\n",
    "        #data['Age'] = data['Age'].astype('int')"
   ]
  },
  {
   "cell_type": "markdown",
   "metadata": {},
   "source": [
    "## 1.3. Alone or not alone"
   ]
  },
  {
   "cell_type": "code",
   "execution_count": 135,
   "metadata": {},
   "outputs": [],
   "source": [
    "for data in mergeData:\n",
    "    data.loc[(data.SibSp == 0) & (data.Parch == 0), 'Alone'] = 1\n",
    "    data.loc[data.Alone.isnull(), 'Alone'] = 0 \n",
    "    data.Alone = data.Alone.astype('int')"
   ]
  },
  {
   "cell_type": "markdown",
   "metadata": {},
   "source": [
    "## 1.4. fillna fare : based on Pclass\n",
    "there is correlation between Fare & Pclass"
   ]
  },
  {
   "cell_type": "code",
   "execution_count": 136,
   "metadata": {},
   "outputs": [
    {
     "data": {
      "image/png": "[encoded data removed]",
      "text/plain": [
       "<Figure size 720x576 with 2 Axes>"
      ]
     },
     "metadata": {},
     "output_type": "display_data"
    }
   ],
   "source": [
    "sns.heatmap(traindata.corr(),annot=True)\n",
    "plt.show()"
   ]
  },
  {
   "cell_type": "code",
   "execution_count": 137,
   "metadata": {},
   "outputs": [],
   "source": [
    "Pclass = list(traindata.Pclass.unique())\n",
    "for pc in Pclass:\n",
    "    for data in mergeData:\n",
    "        df = data[data.Pclass == pc]\n",
    "        \n",
    "        fareAvg = df.Fare.mean()\n",
    "        fareStd = df.Fare.std()\n",
    "        fareMin = fareAvg-fareStd\n",
    "        fareMax = fareAvg+fareStd\n",
    "        numNull = data.Fare.isnull().sum()\n",
    "        \n",
    "        fareRand = np.random.randint(fareMin,fareMax,size=numNull)\n",
    "        data['Fare'][np.isnan(data['Fare'])] = fareRand"
   ]
  },
  {
   "cell_type": "markdown",
   "metadata": {},
   "source": [
    "## 1.5. fillna Embarked: based on mode    "
   ]
  },
  {
   "cell_type": "code",
   "execution_count": 138,
   "metadata": {},
   "outputs": [],
   "source": [
    "for data in mergeData:\n",
    "    data.loc[data.Embarked.isnull(),'Embarked'] = 'S'"
   ]
  },
  {
   "cell_type": "markdown",
   "metadata": {},
   "source": [
    "# remove columns"
   ]
  },
  {
   "cell_type": "code",
   "execution_count": 139,
   "metadata": {},
   "outputs": [],
   "source": [
    "dropColumns = ['PassengerId','Name','SibSp','Parch','Ticket','Cabin']\n",
    "for data in mergeData:\n",
    "    data.drop(dropColumns, axis=1,inplace=True)"
   ]
  },
  {
   "cell_type": "markdown",
   "metadata": {},
   "source": [
    "# 2. CATEGORICAL"
   ]
  },
  {
   "cell_type": "code",
   "execution_count": 140,
   "metadata": {},
   "outputs": [
    {
     "data": {
      "text/html": [
       "<div>\n",
       "<style scoped>\n",
       "    .dataframe tbody tr th:only-of-type {\n",
       "        vertical-align: middle;\n",
       "    }\n",
       "\n",
       "    .dataframe tbody tr th {\n",
       "        vertical-align: top;\n",
       "    }\n",
       "\n",
       "    .dataframe thead th {\n",
       "        text-align: right;\n",
       "    }\n",
       "</style>\n",
       "<table border=\"1\" class=\"dataframe\">\n",
       "  <thead>\n",
       "    <tr style=\"text-align: right;\">\n",
       "      <th></th>\n",
       "      <th>Survived</th>\n",
       "      <th>Pclass</th>\n",
       "      <th>Sex</th>\n",
       "      <th>Fare</th>\n",
       "      <th>Embarked</th>\n",
       "      <th>Titles</th>\n",
       "      <th>Alone</th>\n",
       "    </tr>\n",
       "    <tr>\n",
       "      <th>Age</th>\n",
       "      <th></th>\n",
       "      <th></th>\n",
       "      <th></th>\n",
       "      <th></th>\n",
       "      <th></th>\n",
       "      <th></th>\n",
       "      <th></th>\n",
       "    </tr>\n",
       "  </thead>\n",
       "  <tbody>\n",
       "    <tr>\n",
       "      <th>(0.34, 16.336]</th>\n",
       "      <td>100</td>\n",
       "      <td>100</td>\n",
       "      <td>100</td>\n",
       "      <td>100</td>\n",
       "      <td>100</td>\n",
       "      <td>100</td>\n",
       "      <td>100</td>\n",
       "    </tr>\n",
       "    <tr>\n",
       "      <th>(16.336, 32.252]</th>\n",
       "      <td>458</td>\n",
       "      <td>458</td>\n",
       "      <td>458</td>\n",
       "      <td>458</td>\n",
       "      <td>458</td>\n",
       "      <td>458</td>\n",
       "      <td>458</td>\n",
       "    </tr>\n",
       "    <tr>\n",
       "      <th>(32.252, 48.168]</th>\n",
       "      <td>253</td>\n",
       "      <td>253</td>\n",
       "      <td>253</td>\n",
       "      <td>253</td>\n",
       "      <td>253</td>\n",
       "      <td>253</td>\n",
       "      <td>253</td>\n",
       "    </tr>\n",
       "    <tr>\n",
       "      <th>(48.168, 64.084]</th>\n",
       "      <td>69</td>\n",
       "      <td>69</td>\n",
       "      <td>69</td>\n",
       "      <td>69</td>\n",
       "      <td>69</td>\n",
       "      <td>69</td>\n",
       "      <td>69</td>\n",
       "    </tr>\n",
       "    <tr>\n",
       "      <th>(64.084, 80.0]</th>\n",
       "      <td>11</td>\n",
       "      <td>11</td>\n",
       "      <td>11</td>\n",
       "      <td>11</td>\n",
       "      <td>11</td>\n",
       "      <td>11</td>\n",
       "      <td>11</td>\n",
       "    </tr>\n",
       "  </tbody>\n",
       "</table>\n",
       "</div>"
      ],
      "text/plain": [
       "                  Survived  Pclass  Sex  Fare  Embarked  Titles  Alone\n",
       "Age                                                                   \n",
       "(0.34, 16.336]         100     100  100   100       100     100    100\n",
       "(16.336, 32.252]       458     458  458   458       458     458    458\n",
       "(32.252, 48.168]       253     253  253   253       253     253    253\n",
       "(48.168, 64.084]        69      69   69    69        69      69     69\n",
       "(64.084, 80.0]          11      11   11    11        11      11     11"
      ]
     },
     "execution_count": 140,
     "metadata": {},
     "output_type": "execute_result"
    }
   ],
   "source": [
    "# Age Interval\n",
    "splitAge = traindata.copy()\n",
    "splitAge['Age'] = pd.cut(traindata['Age'], 5)\n",
    "splitAge.groupby('Age').count()"
   ]
  },
  {
   "cell_type": "code",
   "execution_count": 141,
   "metadata": {},
   "outputs": [
    {
     "data": {
      "text/html": [
       "<div>\n",
       "<style scoped>\n",
       "    .dataframe tbody tr th:only-of-type {\n",
       "        vertical-align: middle;\n",
       "    }\n",
       "\n",
       "    .dataframe tbody tr th {\n",
       "        vertical-align: top;\n",
       "    }\n",
       "\n",
       "    .dataframe thead th {\n",
       "        text-align: right;\n",
       "    }\n",
       "</style>\n",
       "<table border=\"1\" class=\"dataframe\">\n",
       "  <thead>\n",
       "    <tr style=\"text-align: right;\">\n",
       "      <th></th>\n",
       "      <th>Survived</th>\n",
       "      <th>Pclass</th>\n",
       "      <th>Sex</th>\n",
       "      <th>Age</th>\n",
       "      <th>Embarked</th>\n",
       "      <th>Titles</th>\n",
       "      <th>Alone</th>\n",
       "    </tr>\n",
       "    <tr>\n",
       "      <th>Fare</th>\n",
       "      <th></th>\n",
       "      <th></th>\n",
       "      <th></th>\n",
       "      <th></th>\n",
       "      <th></th>\n",
       "      <th></th>\n",
       "      <th></th>\n",
       "    </tr>\n",
       "  </thead>\n",
       "  <tbody>\n",
       "    <tr>\n",
       "      <th>(-0.001, 7.775]</th>\n",
       "      <td>156</td>\n",
       "      <td>156</td>\n",
       "      <td>156</td>\n",
       "      <td>156</td>\n",
       "      <td>156</td>\n",
       "      <td>156</td>\n",
       "      <td>156</td>\n",
       "    </tr>\n",
       "    <tr>\n",
       "      <th>(7.775, 8.662]</th>\n",
       "      <td>152</td>\n",
       "      <td>152</td>\n",
       "      <td>152</td>\n",
       "      <td>152</td>\n",
       "      <td>152</td>\n",
       "      <td>152</td>\n",
       "      <td>152</td>\n",
       "    </tr>\n",
       "    <tr>\n",
       "      <th>(8.662, 14.454]</th>\n",
       "      <td>139</td>\n",
       "      <td>139</td>\n",
       "      <td>139</td>\n",
       "      <td>139</td>\n",
       "      <td>139</td>\n",
       "      <td>139</td>\n",
       "      <td>139</td>\n",
       "    </tr>\n",
       "    <tr>\n",
       "      <th>(14.454, 26.0]</th>\n",
       "      <td>149</td>\n",
       "      <td>149</td>\n",
       "      <td>149</td>\n",
       "      <td>149</td>\n",
       "      <td>149</td>\n",
       "      <td>149</td>\n",
       "      <td>149</td>\n",
       "    </tr>\n",
       "    <tr>\n",
       "      <th>(26.0, 52.369]</th>\n",
       "      <td>146</td>\n",
       "      <td>146</td>\n",
       "      <td>146</td>\n",
       "      <td>146</td>\n",
       "      <td>146</td>\n",
       "      <td>146</td>\n",
       "      <td>146</td>\n",
       "    </tr>\n",
       "    <tr>\n",
       "      <th>(52.369, 512.329]</th>\n",
       "      <td>149</td>\n",
       "      <td>149</td>\n",
       "      <td>149</td>\n",
       "      <td>149</td>\n",
       "      <td>149</td>\n",
       "      <td>149</td>\n",
       "      <td>149</td>\n",
       "    </tr>\n",
       "  </tbody>\n",
       "</table>\n",
       "</div>"
      ],
      "text/plain": [
       "                   Survived  Pclass  Sex  Age  Embarked  Titles  Alone\n",
       "Fare                                                                  \n",
       "(-0.001, 7.775]         156     156  156  156       156     156    156\n",
       "(7.775, 8.662]          152     152  152  152       152     152    152\n",
       "(8.662, 14.454]         139     139  139  139       139     139    139\n",
       "(14.454, 26.0]          149     149  149  149       149     149    149\n",
       "(26.0, 52.369]          146     146  146  146       146     146    146\n",
       "(52.369, 512.329]       149     149  149  149       149     149    149"
      ]
     },
     "execution_count": 141,
     "metadata": {},
     "output_type": "execute_result"
    }
   ],
   "source": [
    "# Fare Interval\n",
    "splitFare = traindata.copy()\n",
    "splitFare['Fare'] = pd.qcut(traindata['Fare'], 6)\n",
    "splitFare.groupby('Fare').count()"
   ]
  },
  {
   "cell_type": "code",
   "execution_count": 142,
   "metadata": {},
   "outputs": [],
   "source": [
    "for data in mergeData:\n",
    "    #AGE\n",
    "    data.loc[data.Age <= 16.3, 'Age'] = 0\n",
    "    data.loc[(data.Age >16.3) & (data.Age <= 32.3), 'Age'] = 1\n",
    "    data.loc[(data.Age >32.3) & (data.Age <= 48.2), 'Age'] = 2\n",
    "    data.loc[(data.Age >48.2) & (data.Age <= 64.1), 'Age'] = 3\n",
    "    data.loc[data.Age > 64.1, 'Age'] = 4   \n",
    "    \n",
    "    #FARE\n",
    "    data.loc[data.Fare <= 7.8, 'Fare'] = 0\n",
    "    data.loc[(data.Fare > 7.8)&(data.Fare <= 8.7), 'Fare'] = 1\n",
    "    data.loc[(data.Fare > 8.7)&(data.Fare <= 14.5), 'Fare'] = 2\n",
    "    data.loc[(data.Fare > 14.5)&(data.Fare <= 26.0), 'Fare'] = 3\n",
    "    data.loc[(data.Fare > 26.0)&(data.Fare <= 52.4), 'Fare'] = 4\n",
    "    data.loc[(data.Fare > 52.4), 'Fare'] = 5\n",
    "    \n",
    "    data['Sex'] = data['Sex'].map({'female':0,'male':1}).astype('int')\n",
    "    data['Titles'] = data['Titles'].map({'Mr':0, 'Mrs':1, 'Miss':2, 'Master':3})\n",
    "    data['Embarked'] = data['Embarked'].map({'Q':0, 'C':1, 'S':2})\n",
    "    \n",
    "    data['Age'] = data['Age'].astype(int)\n",
    "    data['Fare'] = data['Fare'].astype(int)\n",
    "    data['Embarked'] = data['Embarked'].astype(int)"
   ]
  },
  {
   "cell_type": "code",
   "execution_count": 143,
   "metadata": {},
   "outputs": [],
   "source": [
    "trainData = traindata[['Embarked','Titles','Pclass','Sex','Age','Fare','Alone','Survived']]\n",
    "testData= testdata[['Embarked','Titles','Pclass','Sex','Age','Fare','Alone']]"
   ]
  },
  {
   "cell_type": "code",
   "execution_count": 144,
   "metadata": {},
   "outputs": [],
   "source": [
    "trainData.to_csv('CleanTrainDel.csv',index=False)\n",
    "testData.to_csv('CleanTestDel.csv', index=False)"
   ]
  },
  {
   "cell_type": "code",
   "execution_count": 175,
   "metadata": {},
   "outputs": [],
   "source": [
    "trainData = pd.read_csv('CleanTrainDel.csv')\n",
    "testData = pd.read_csv('CleanTestDel.csv')"
   ]
  },
  {
   "cell_type": "code",
   "execution_count": 181,
   "metadata": {},
   "outputs": [],
   "source": [
    "X = trainData.iloc[:,:-1].values\n",
    "y = trainData.iloc[:,7:8].values"
   ]
  },
  {
   "cell_type": "code",
   "execution_count": 182,
   "metadata": {},
   "outputs": [
    {
     "data": {
      "text/plain": [
       "(891, 7)"
      ]
     },
     "execution_count": 182,
     "metadata": {},
     "output_type": "execute_result"
    }
   ],
   "source": [
    "X.shape"
   ]
  },
  {
   "cell_type": "markdown",
   "metadata": {},
   "source": [
    "# 3. ONEHOTENCODER \n",
    "Embarked & Titles"
   ]
  },
  {
   "cell_type": "code",
   "execution_count": 183,
   "metadata": {},
   "outputs": [],
   "source": [
    "from sklearn.preprocessing import LabelEncoder, OneHotEncoder\n",
    "\n",
    "# EMBARKED\n",
    "onehotencoderE = OneHotEncoder(categorical_features = [0])\n",
    "X = onehotencoderE.fit_transform(X).toarray()\n",
    "#avoiding dummy var trap\n",
    "X = X[:,1:]\n",
    "\n",
    "#TITLES\n",
    "onehotencoderT = OneHotEncoder(categorical_features = [2])\n",
    "X = onehotencoderT.fit_transform(X).toarray()\n",
    "#avoiding dummy var trap\n",
    "X = X[:,1:]"
   ]
  },
  {
   "cell_type": "markdown",
   "metadata": {},
   "source": [
    "# 4. BACKWARD ELIMINATION\n",
    "the optimum model, without Fare & Alone"
   ]
  },
  {
   "cell_type": "code",
   "execution_count": 184,
   "metadata": {},
   "outputs": [],
   "source": [
    "import statsmodels.formula.api as sm\n",
    "# ADD BIAS FIRST\n",
    "X = np.append(arr = np.ones((891,1)).astype(int), values=X, axis=1)"
   ]
  },
  {
   "cell_type": "code",
   "execution_count": 186,
   "metadata": {},
   "outputs": [
    {
     "data": {
      "text/html": [
       "<table class=\"simpletable\">\n",
       "<caption>OLS Regression Results</caption>\n",
       "<tr>\n",
       "  <th>Dep. Variable:</th>            <td>y</td>        <th>  R-squared:         </th> <td>   0.419</td>\n",
       "</tr>\n",
       "<tr>\n",
       "  <th>Model:</th>                   <td>OLS</td>       <th>  Adj. R-squared:    </th> <td>   0.414</td>\n",
       "</tr>\n",
       "<tr>\n",
       "  <th>Method:</th>             <td>Least Squares</td>  <th>  F-statistic:       </th> <td>   90.84</td>\n",
       "</tr>\n",
       "<tr>\n",
       "  <th>Date:</th>             <td>Thu, 31 Jan 2019</td> <th>  Prob (F-statistic):</th> <td>1.43e-99</td>\n",
       "</tr>\n",
       "<tr>\n",
       "  <th>Time:</th>                 <td>13:42:30</td>     <th>  Log-Likelihood:    </th> <td> -380.33</td>\n",
       "</tr>\n",
       "<tr>\n",
       "  <th>No. Observations:</th>      <td>   891</td>      <th>  AIC:               </th> <td>   776.7</td>\n",
       "</tr>\n",
       "<tr>\n",
       "  <th>Df Residuals:</th>          <td>   883</td>      <th>  BIC:               </th> <td>   815.0</td>\n",
       "</tr>\n",
       "<tr>\n",
       "  <th>Df Model:</th>              <td>     7</td>      <th>                     </th>     <td> </td>   \n",
       "</tr>\n",
       "<tr>\n",
       "  <th>Covariance Type:</th>      <td>nonrobust</td>    <th>                     </th>     <td> </td>   \n",
       "</tr>\n",
       "</table>\n",
       "<table class=\"simpletable\">\n",
       "<tr>\n",
       "    <td></td>       <th>coef</th>     <th>std err</th>      <th>t</th>      <th>P>|t|</th>  <th>[0.025</th>    <th>0.975]</th>  \n",
       "</tr>\n",
       "<tr>\n",
       "  <th>const</th> <td>    0.7661</td> <td>    0.041</td> <td>   18.661</td> <td> 0.000</td> <td>    0.686</td> <td>    0.847</td>\n",
       "</tr>\n",
       "<tr>\n",
       "  <th>x1</th>    <td>    0.4986</td> <td>    0.030</td> <td>   16.464</td> <td> 0.000</td> <td>    0.439</td> <td>    0.558</td>\n",
       "</tr>\n",
       "<tr>\n",
       "  <th>x2</th>    <td>    0.3884</td> <td>    0.025</td> <td>   15.455</td> <td> 0.000</td> <td>    0.339</td> <td>    0.438</td>\n",
       "</tr>\n",
       "<tr>\n",
       "  <th>x3</th>    <td>    0.4665</td> <td>    0.068</td> <td>    6.863</td> <td> 0.000</td> <td>    0.333</td> <td>    0.600</td>\n",
       "</tr>\n",
       "<tr>\n",
       "  <th>x4</th>    <td>   -0.0828</td> <td>    0.028</td> <td>   -2.926</td> <td> 0.004</td> <td>   -0.138</td> <td>   -0.027</td>\n",
       "</tr>\n",
       "<tr>\n",
       "  <th>x5</th>    <td>   -0.1767</td> <td>    0.016</td> <td>  -10.936</td> <td> 0.000</td> <td>   -0.208</td> <td>   -0.145</td>\n",
       "</tr>\n",
       "<tr>\n",
       "  <th>x6</th>    <td>   -0.1209</td> <td>    0.025</td> <td>   -4.815</td> <td> 0.000</td> <td>   -0.170</td> <td>   -0.072</td>\n",
       "</tr>\n",
       "<tr>\n",
       "  <th>x7</th>    <td>   -0.0437</td> <td>    0.017</td> <td>   -2.496</td> <td> 0.013</td> <td>   -0.078</td> <td>   -0.009</td>\n",
       "</tr>\n",
       "<tr>\n",
       "  <th>x8</th>    <td>    0.0820</td> <td>    0.030</td> <td>    2.772</td> <td> 0.006</td> <td>    0.024</td> <td>    0.140</td>\n",
       "</tr>\n",
       "</table>\n",
       "<table class=\"simpletable\">\n",
       "<tr>\n",
       "  <th>Omnibus:</th>       <td>34.860</td> <th>  Durbin-Watson:     </th> <td>   1.976</td>\n",
       "</tr>\n",
       "<tr>\n",
       "  <th>Prob(Omnibus):</th> <td> 0.000</td> <th>  Jarque-Bera (JB):  </th> <td>  37.927</td>\n",
       "</tr>\n",
       "<tr>\n",
       "  <th>Skew:</th>          <td> 0.491</td> <th>  Prob(JB):          </th> <td>5.81e-09</td>\n",
       "</tr>\n",
       "<tr>\n",
       "  <th>Kurtosis:</th>      <td> 3.236</td> <th>  Cond. No.          </th> <td>1.09e+16</td>\n",
       "</tr>\n",
       "</table><br/><br/>Warnings:<br/>[1] Standard Errors assume that the covariance matrix of the errors is correctly specified.<br/>[2] The smallest eigenvalue is 7.46e-29. This might indicate that there are<br/>strong multicollinearity problems or that the design matrix is singular."
      ],
      "text/plain": [
       "<class 'statsmodels.iolib.summary.Summary'>\n",
       "\"\"\"\n",
       "                            OLS Regression Results                            \n",
       "==============================================================================\n",
       "Dep. Variable:                      y   R-squared:                       0.419\n",
       "Model:                            OLS   Adj. R-squared:                  0.414\n",
       "Method:                 Least Squares   F-statistic:                     90.84\n",
       "Date:                Thu, 31 Jan 2019   Prob (F-statistic):           1.43e-99\n",
       "Time:                        13:42:30   Log-Likelihood:                -380.33\n",
       "No. Observations:                 891   AIC:                             776.7\n",
       "Df Residuals:                     883   BIC:                             815.0\n",
       "Df Model:                           7                                         \n",
       "Covariance Type:            nonrobust                                         \n",
       "==============================================================================\n",
       "                 coef    std err          t      P>|t|      [0.025      0.975]\n",
       "------------------------------------------------------------------------------\n",
       "const          0.7661      0.041     18.661      0.000       0.686       0.847\n",
       "x1             0.4986      0.030     16.464      0.000       0.439       0.558\n",
       "x2             0.3884      0.025     15.455      0.000       0.339       0.438\n",
       "x3             0.4665      0.068      6.863      0.000       0.333       0.600\n",
       "x4            -0.0828      0.028     -2.926      0.004      -0.138      -0.027\n",
       "x5            -0.1767      0.016    -10.936      0.000      -0.208      -0.145\n",
       "x6            -0.1209      0.025     -4.815      0.000      -0.170      -0.072\n",
       "x7            -0.0437      0.017     -2.496      0.013      -0.078      -0.009\n",
       "x8             0.0820      0.030      2.772      0.006       0.024       0.140\n",
       "==============================================================================\n",
       "Omnibus:                       34.860   Durbin-Watson:                   1.976\n",
       "Prob(Omnibus):                  0.000   Jarque-Bera (JB):               37.927\n",
       "Skew:                           0.491   Prob(JB):                     5.81e-09\n",
       "Kurtosis:                       3.236   Cond. No.                     1.09e+16\n",
       "==============================================================================\n",
       "\n",
       "Warnings:\n",
       "[1] Standard Errors assume that the covariance matrix of the errors is correctly specified.\n",
       "[2] The smallest eigenvalue is 7.46e-29. This might indicate that there are\n",
       "strong multicollinearity problems or that the design matrix is singular.\n",
       "\"\"\""
      ]
     },
     "execution_count": 186,
     "metadata": {},
     "output_type": "execute_result"
    }
   ],
   "source": [
    "X_opt = X[:,[0,1,2,3,5,6,7,8,10]] #remove index that have Pvalues > Significant Level\n",
    "cekOLS = sm.OLS(endog = y, exog=X_opt).fit()\n",
    "cekOLS.summary()\n",
    "\n",
    "#X -- bias=0 #Embarked=1 #Titles=2 #Pclass=3 #Sex=4 #Age=5 ##Fare=6 ##Alone=7\n",
    "#constant has index 0"
   ]
  },
  {
   "cell_type": "markdown",
   "metadata": {},
   "source": [
    "# 5. NEURAL NETWORK"
   ]
  },
  {
   "cell_type": "code",
   "execution_count": 187,
   "metadata": {},
   "outputs": [],
   "source": [
    "X = X[:,[0,1,2,3,5,6,7,8,10]]\n",
    "y = y"
   ]
  },
  {
   "cell_type": "code",
   "execution_count": 188,
   "metadata": {},
   "outputs": [],
   "source": [
    "from sklearn.model_selection import train_test_split\n",
    "Xtrain,Xval,ytrain,yval = train_test_split(X,y,stratify=y, test_size=0.3)"
   ]
  },
  {
   "cell_type": "code",
   "execution_count": 190,
   "metadata": {},
   "outputs": [],
   "source": [
    "def sigmoid(z):\n",
    "    return(1 / (1 + np.exp(-z)))\n",
    "\n",
    "def sigmoidGradient(z):\n",
    "    return(sigmoid(z)*(1-sigmoid(z)))"
   ]
  },
  {
   "cell_type": "code",
   "execution_count": 191,
   "metadata": {},
   "outputs": [],
   "source": [
    "def getOptTheta(nn_params, input_layer_size, hidden_layer_size, num_labels, features, classes, reg,alpha,num_iter):\n",
    "    \n",
    "    theta1 = nn_params[0:(hidden_layer_size*(input_layer_size+1))].reshape(hidden_layer_size,(input_layer_size+1))\n",
    "    theta2 = nn_params[(hidden_layer_size*(input_layer_size+1)):].reshape(num_labels,(hidden_layer_size+1))\n",
    "\n",
    "    m = features.shape[0]\n",
    "    if num_labels == 1:\n",
    "        y_matrix = classes\n",
    "    else:\n",
    "        y_matrix = pd.get_dummies(classes.ravel()).as_matrix() \n",
    "        \n",
    "    for i in np.arange(num_iter):\n",
    "        \n",
    "        # Cost\n",
    "        a1 = features \n",
    "\n",
    "        z2 = theta1.dot(a1.T) \n",
    "        a2 = np.c_[np.ones((features.shape[0],1)),sigmoid(z2.T)] \n",
    "\n",
    "        z3 = theta2.dot(a2.T) \n",
    "        a3 = sigmoid(z3)\n",
    "\n",
    "        # Gradients\n",
    "        d3 = a3.T - y_matrix \n",
    "        d2 = theta2[:,1:].T.dot(d3.T)*sigmoidGradient(z2) \n",
    "\n",
    "        delta1 = d2.dot(a1) \n",
    "        delta2 = d3.T.dot(a2)\n",
    "\n",
    "        theta1_ = np.c_[np.ones((theta1.shape[0],1)),theta1[:,1:]]\n",
    "        theta2_ = np.c_[np.ones((theta2.shape[0],1)),theta2[:,1:]]\n",
    "\n",
    "        theta1_grad = delta1/m + (theta1_*reg)/m\n",
    "        theta2_grad = delta2/m + (theta2_*reg)/m\n",
    "\n",
    "        theta1 = theta1 - (alpha*theta1_grad)\n",
    "        theta2 = theta2 - (alpha*theta2_grad)\n",
    "        \n",
    "    return(theta1,theta2)"
   ]
  },
  {
   "cell_type": "code",
   "execution_count": 192,
   "metadata": {},
   "outputs": [],
   "source": [
    "def prediction(X,thetaOpt1,thetaOpt2):\n",
    "    [m,n] = X.shape\n",
    "    \n",
    "    a1 = X \n",
    "    a2 = sigmoid(X.dot(thetaOpt1.T) ) \n",
    "    hypo = sigmoid(np.c_[np.ones((a2.shape[0],1)),a2].dot(thetaOpt2.T)) \n",
    "    \n",
    "    if thetaOpt2.shape[0] == 1:\n",
    "        for i in range(hypo.shape[0]):\n",
    "            if hypo[i] >= 0.5:\n",
    "                hypo[i] = 1\n",
    "            else:\n",
    "                hypo[i] = 0\n",
    "        opt = hypo\n",
    "        \n",
    "    else:\n",
    "        opt = (np.argmax(hypo, axis=1))\n",
    "        opt = opt.reshape(-1,1)\n",
    "    \n",
    "    return(opt)  "
   ]
  },
  {
   "cell_type": "markdown",
   "metadata": {},
   "source": [
    "# 6. MODEL SELECTION"
   ]
  },
  {
   "cell_type": "markdown",
   "metadata": {},
   "source": [
    "## 6.1. Model Selection: Hidden Layer Size"
   ]
  },
  {
   "cell_type": "code",
   "execution_count": 202,
   "metadata": {},
   "outputs": [],
   "source": [
    "list_hidden_layer_size = [6,7,8,9,10,12,16,21,31]\n",
    "\n",
    "reg=0.01\n",
    "alpha= 0.1\n",
    "num_iter=10000\n",
    "\n",
    "input_layer_size = 8\n",
    "num_labels = 1\n",
    "#--------------------------------\n",
    "\n",
    "AThl = []\n",
    "AVhl = []\n",
    "\n",
    "for hidden_layer_size in list_hidden_layer_size:\n",
    "    \n",
    "    #create initial random params\n",
    "    eps = 0.12\n",
    "    initialTheta1 = np.random.rand(hidden_layer_size,input_layer_size+1)*2*eps-eps\n",
    "    initialTheta2 = np.random.rand(num_labels,hidden_layer_size+1)*2*eps-eps\n",
    "    initial_nn_params = np.r_[initialTheta1.ravel(), initialTheta2.ravel()]\n",
    "    \n",
    "    [tOpt1,tOpt2] = getOptTheta(initial_nn_params, input_layer_size, hidden_layer_size, num_labels, Xtrain, ytrain, reg,alpha,num_iter)\n",
    "        \n",
    "     \n",
    "    predTrain = prediction(Xtrain,tOpt1,tOpt2)\n",
    "    accTrain = np.mean(predTrain==ytrain)*100\n",
    "    \n",
    "    predVal = prediction(Xval,tOpt1,tOpt2)\n",
    "    accVal = np.mean(predVal==yval)*100\n",
    "    \n",
    "    AThl.append(accTrain)\n",
    "    AVhl.append(accVal)"
   ]
  },
  {
   "cell_type": "code",
   "execution_count": 203,
   "metadata": {},
   "outputs": [
    {
     "data": {
      "image/png": "[encoded data removed]",
      "text/plain": [
       "<Figure size 432x288 with 1 Axes>"
      ]
     },
     "metadata": {
      "needs_background": "light"
     },
     "output_type": "display_data"
    }
   ],
   "source": [
    "plt.plot(list_hidden_layer_size,AThl, label = 'Accuracy Train' )\n",
    "plt.plot(list_hidden_layer_size,AVhl, label='Accuracy Val')\n",
    "plt.title('accurate for each hidden layer size')\n",
    "plt.xlabel('number of hidden layer size')\n",
    "plt.ylabel('Accuracy')\n",
    "plt.legend()\n",
    "plt.show()"
   ]
  },
  {
   "cell_type": "code",
   "execution_count": 206,
   "metadata": {},
   "outputs": [
    {
     "data": {
      "text/html": [
       "<div>\n",
       "<style scoped>\n",
       "    .dataframe tbody tr th:only-of-type {\n",
       "        vertical-align: middle;\n",
       "    }\n",
       "\n",
       "    .dataframe tbody tr th {\n",
       "        vertical-align: top;\n",
       "    }\n",
       "\n",
       "    .dataframe thead th {\n",
       "        text-align: right;\n",
       "    }\n",
       "</style>\n",
       "<table border=\"1\" class=\"dataframe\">\n",
       "  <thead>\n",
       "    <tr style=\"text-align: right;\">\n",
       "      <th></th>\n",
       "      <th>hidden_layer_size</th>\n",
       "      <th>Train Accuracy</th>\n",
       "      <th>Val Accuracy</th>\n",
       "    </tr>\n",
       "  </thead>\n",
       "  <tbody>\n",
       "    <tr>\n",
       "      <th>1</th>\n",
       "      <td>7</td>\n",
       "      <td>82.343499</td>\n",
       "      <td>82.462687</td>\n",
       "    </tr>\n",
       "    <tr>\n",
       "      <th>2</th>\n",
       "      <td>8</td>\n",
       "      <td>82.343499</td>\n",
       "      <td>82.462687</td>\n",
       "    </tr>\n",
       "    <tr>\n",
       "      <th>3</th>\n",
       "      <td>9</td>\n",
       "      <td>82.343499</td>\n",
       "      <td>82.462687</td>\n",
       "    </tr>\n",
       "    <tr>\n",
       "      <th>4</th>\n",
       "      <td>10</td>\n",
       "      <td>82.343499</td>\n",
       "      <td>82.462687</td>\n",
       "    </tr>\n",
       "    <tr>\n",
       "      <th>5</th>\n",
       "      <td>12</td>\n",
       "      <td>82.343499</td>\n",
       "      <td>82.462687</td>\n",
       "    </tr>\n",
       "    <tr>\n",
       "      <th>7</th>\n",
       "      <td>21</td>\n",
       "      <td>82.504013</td>\n",
       "      <td>82.462687</td>\n",
       "    </tr>\n",
       "    <tr>\n",
       "      <th>8</th>\n",
       "      <td>31</td>\n",
       "      <td>82.504013</td>\n",
       "      <td>82.462687</td>\n",
       "    </tr>\n",
       "    <tr>\n",
       "      <th>0</th>\n",
       "      <td>6</td>\n",
       "      <td>82.182986</td>\n",
       "      <td>82.089552</td>\n",
       "    </tr>\n",
       "    <tr>\n",
       "      <th>6</th>\n",
       "      <td>16</td>\n",
       "      <td>82.343499</td>\n",
       "      <td>82.089552</td>\n",
       "    </tr>\n",
       "  </tbody>\n",
       "</table>\n",
       "</div>"
      ],
      "text/plain": [
       "   hidden_layer_size  Train Accuracy  Val Accuracy\n",
       "1                  7       82.343499     82.462687\n",
       "2                  8       82.343499     82.462687\n",
       "3                  9       82.343499     82.462687\n",
       "4                 10       82.343499     82.462687\n",
       "5                 12       82.343499     82.462687\n",
       "7                 21       82.504013     82.462687\n",
       "8                 31       82.504013     82.462687\n",
       "0                  6       82.182986     82.089552\n",
       "6                 16       82.343499     82.089552"
      ]
     },
     "execution_count": 206,
     "metadata": {},
     "output_type": "execute_result"
    }
   ],
   "source": [
    "gethl = pd.DataFrame({'hidden_layer_size':list_hidden_layer_size,'Train Accuracy':AThl,'Val Accuracy':AVhl})\n",
    "gethl.sort_values('Val Accuracy', ascending=False)"
   ]
  },
  {
   "cell_type": "markdown",
   "metadata": {},
   "source": [
    "## 6.2. Model Selection: Lambda (regularization)"
   ]
  },
  {
   "cell_type": "code",
   "execution_count": 207,
   "metadata": {},
   "outputs": [],
   "source": [
    "list_reg=[0, 0.01, 0.1, 1, 10, 100]\n",
    "\n",
    "alpha= 0.1\n",
    "num_iter=10000\n",
    "\n",
    "hidden_layer_size = 7\n",
    "input_layer_size = 8\n",
    "num_labels = 1\n",
    "#--------------------------------\n",
    "\n",
    "ATlr = []\n",
    "AVlr = []\n",
    "\n",
    "for reg in list_reg:\n",
    "    \n",
    "    #CREATE INITIAL RANDOM PARAMS\n",
    "    eps = 0.12\n",
    "    initialTheta1 = np.random.rand(hidden_layer_size,input_layer_size+1)*2*eps-eps\n",
    "    initialTheta2 = np.random.rand(num_labels,hidden_layer_size+1)*2*eps-eps\n",
    "    initial_nn_params = np.r_[initialTheta1.ravel(), initialTheta2.ravel()]\n",
    "    \n",
    "    [tOpt1,tOpt2] = getOptTheta(initial_nn_params, input_layer_size, hidden_layer_size, num_labels, Xtrain, ytrain, reg,alpha,num_iter)\n",
    "        \n",
    "     \n",
    "    predTrain = prediction(Xtrain,tOpt1,tOpt2)\n",
    "    accTrain = np.mean(predTrain==ytrain)*100\n",
    "    \n",
    "    predVal = prediction(Xval,tOpt1,tOpt2)\n",
    "    accVal = np.mean(predVal==yval)*100\n",
    "    \n",
    "    ATlr.append(accTrain)\n",
    "    AVlr.append(accVal)"
   ]
  },
  {
   "cell_type": "code",
   "execution_count": 208,
   "metadata": {},
   "outputs": [
    {
     "data": {
      "image/png": "[encoded data removed]",
      "text/plain": [
       "<Figure size 432x288 with 1 Axes>"
      ]
     },
     "metadata": {
      "needs_background": "light"
     },
     "output_type": "display_data"
    }
   ],
   "source": [
    "plt.plot(list_reg,ATlr, label = 'Accuracy Train' )\n",
    "plt.plot(list_reg,AVlr, label='Accuracy Val')\n",
    "plt.title('Model selection : lambda')\n",
    "plt.xlabel('lambda')\n",
    "plt.ylabel('Accuracy')\n",
    "plt.legend()\n",
    "plt.show()"
   ]
  },
  {
   "cell_type": "code",
   "execution_count": 209,
   "metadata": {},
   "outputs": [
    {
     "data": {
      "text/html": [
       "<div>\n",
       "<style scoped>\n",
       "    .dataframe tbody tr th:only-of-type {\n",
       "        vertical-align: middle;\n",
       "    }\n",
       "\n",
       "    .dataframe tbody tr th {\n",
       "        vertical-align: top;\n",
       "    }\n",
       "\n",
       "    .dataframe thead th {\n",
       "        text-align: right;\n",
       "    }\n",
       "</style>\n",
       "<table border=\"1\" class=\"dataframe\">\n",
       "  <thead>\n",
       "    <tr style=\"text-align: right;\">\n",
       "      <th></th>\n",
       "      <th>Lambda - reg</th>\n",
       "      <th>Train Accuracy</th>\n",
       "      <th>Val Accuracy</th>\n",
       "    </tr>\n",
       "  </thead>\n",
       "  <tbody>\n",
       "    <tr>\n",
       "      <th>1</th>\n",
       "      <td>0.01</td>\n",
       "      <td>82.504013</td>\n",
       "      <td>82.835821</td>\n",
       "    </tr>\n",
       "    <tr>\n",
       "      <th>0</th>\n",
       "      <td>0.00</td>\n",
       "      <td>82.343499</td>\n",
       "      <td>82.462687</td>\n",
       "    </tr>\n",
       "    <tr>\n",
       "      <th>2</th>\n",
       "      <td>0.10</td>\n",
       "      <td>82.343499</td>\n",
       "      <td>82.462687</td>\n",
       "    </tr>\n",
       "    <tr>\n",
       "      <th>3</th>\n",
       "      <td>1.00</td>\n",
       "      <td>82.022472</td>\n",
       "      <td>82.089552</td>\n",
       "    </tr>\n",
       "    <tr>\n",
       "      <th>4</th>\n",
       "      <td>10.00</td>\n",
       "      <td>77.367576</td>\n",
       "      <td>77.611940</td>\n",
       "    </tr>\n",
       "    <tr>\n",
       "      <th>5</th>\n",
       "      <td>100.00</td>\n",
       "      <td>61.637239</td>\n",
       "      <td>61.567164</td>\n",
       "    </tr>\n",
       "  </tbody>\n",
       "</table>\n",
       "</div>"
      ],
      "text/plain": [
       "   Lambda - reg  Train Accuracy  Val Accuracy\n",
       "1          0.01       82.504013     82.835821\n",
       "0          0.00       82.343499     82.462687\n",
       "2          0.10       82.343499     82.462687\n",
       "3          1.00       82.022472     82.089552\n",
       "4         10.00       77.367576     77.611940\n",
       "5        100.00       61.637239     61.567164"
      ]
     },
     "execution_count": 209,
     "metadata": {},
     "output_type": "execute_result"
    }
   ],
   "source": [
    "getlr = pd.DataFrame({'Lambda - reg':list_reg,'Train Accuracy':ATlr,'Val Accuracy':AVlr})\n",
    "getlr.sort_values('Val Accuracy', ascending=False)"
   ]
  },
  {
   "cell_type": "markdown",
   "metadata": {},
   "source": [
    "## 6.3. Model Selection: NumIters for GradientDescent"
   ]
  },
  {
   "cell_type": "code",
   "execution_count": 210,
   "metadata": {},
   "outputs": [],
   "source": [
    "numIters=[1000,2000,3000,4000,5000,10000,15000,20000,25000,30000]\n",
    "\n",
    "reg=0.01\n",
    "alpha= 0.1\n",
    "\n",
    "hidden_layer_size = 7\n",
    "input_layer_size = 8\n",
    "num_labels = 1\n",
    "#--------------------------------\n",
    "\n",
    "ATni = []\n",
    "AVni = []\n",
    "\n",
    "for num_iter in numIters:\n",
    "    \n",
    "    #CREATE INITIAL RANDOM PARAMS\n",
    "    eps = 0.12\n",
    "    initialTheta1 = np.random.rand(hidden_layer_size,input_layer_size+1)*2*eps-eps\n",
    "    initialTheta2 = np.random.rand(num_labels,hidden_layer_size+1)*2*eps-eps\n",
    "    initial_nn_params = np.r_[initialTheta1.ravel(), initialTheta2.ravel()]\n",
    "    \n",
    "    [tOpt1,tOpt2] = getOptTheta(initial_nn_params, input_layer_size, hidden_layer_size, num_labels, Xtrain, ytrain, reg,alpha,num_iter)\n",
    "        \n",
    "     \n",
    "    predTrain = prediction(Xtrain,tOpt1,tOpt2)\n",
    "    accTrain = np.mean(predTrain==ytrain)*100\n",
    "    \n",
    "    predVal = prediction(Xval,tOpt1,tOpt2)\n",
    "    accVal = np.mean(predVal==yval)*100\n",
    "    \n",
    "    ATni.append(accTrain)\n",
    "    AVni.append(accVal)"
   ]
  },
  {
   "cell_type": "code",
   "execution_count": 211,
   "metadata": {},
   "outputs": [
    {
     "data": {
      "image/png": "[encoded data removed]",
      "text/plain": [
       "<Figure size 432x288 with 1 Axes>"
      ]
     },
     "metadata": {
      "needs_background": "light"
     },
     "output_type": "display_data"
    }
   ],
   "source": [
    "plt.plot(numIters,ATni, label = 'Accuracy Train' )\n",
    "plt.plot(numIters,AVni, label='Accuracy Val')\n",
    "plt.title('Model selection : Num Iter for GradientDescent')\n",
    "plt.xlabel('Num iter')\n",
    "plt.ylabel('Accuracy')\n",
    "plt.legend()\n",
    "plt.show()"
   ]
  },
  {
   "cell_type": "code",
   "execution_count": 213,
   "metadata": {},
   "outputs": [
    {
     "data": {
      "text/html": [
       "<div>\n",
       "<style scoped>\n",
       "    .dataframe tbody tr th:only-of-type {\n",
       "        vertical-align: middle;\n",
       "    }\n",
       "\n",
       "    .dataframe tbody tr th {\n",
       "        vertical-align: top;\n",
       "    }\n",
       "\n",
       "    .dataframe thead th {\n",
       "        text-align: right;\n",
       "    }\n",
       "</style>\n",
       "<table border=\"1\" class=\"dataframe\">\n",
       "  <thead>\n",
       "    <tr style=\"text-align: right;\">\n",
       "      <th></th>\n",
       "      <th>Num Iters</th>\n",
       "      <th>Train Accuracy</th>\n",
       "      <th>Val Accuracy</th>\n",
       "    </tr>\n",
       "  </thead>\n",
       "  <tbody>\n",
       "    <tr>\n",
       "      <th>7</th>\n",
       "      <td>20000</td>\n",
       "      <td>82.825040</td>\n",
       "      <td>83.955224</td>\n",
       "    </tr>\n",
       "    <tr>\n",
       "      <th>6</th>\n",
       "      <td>15000</td>\n",
       "      <td>82.825040</td>\n",
       "      <td>83.582090</td>\n",
       "    </tr>\n",
       "    <tr>\n",
       "      <th>8</th>\n",
       "      <td>25000</td>\n",
       "      <td>83.146067</td>\n",
       "      <td>82.835821</td>\n",
       "    </tr>\n",
       "    <tr>\n",
       "      <th>9</th>\n",
       "      <td>30000</td>\n",
       "      <td>83.146067</td>\n",
       "      <td>82.835821</td>\n",
       "    </tr>\n",
       "    <tr>\n",
       "      <th>5</th>\n",
       "      <td>10000</td>\n",
       "      <td>82.343499</td>\n",
       "      <td>82.462687</td>\n",
       "    </tr>\n",
       "    <tr>\n",
       "      <th>1</th>\n",
       "      <td>2000</td>\n",
       "      <td>80.256822</td>\n",
       "      <td>82.089552</td>\n",
       "    </tr>\n",
       "    <tr>\n",
       "      <th>2</th>\n",
       "      <td>3000</td>\n",
       "      <td>81.380417</td>\n",
       "      <td>81.716418</td>\n",
       "    </tr>\n",
       "    <tr>\n",
       "      <th>3</th>\n",
       "      <td>4000</td>\n",
       "      <td>81.861958</td>\n",
       "      <td>81.716418</td>\n",
       "    </tr>\n",
       "    <tr>\n",
       "      <th>4</th>\n",
       "      <td>5000</td>\n",
       "      <td>81.861958</td>\n",
       "      <td>81.716418</td>\n",
       "    </tr>\n",
       "    <tr>\n",
       "      <th>0</th>\n",
       "      <td>1000</td>\n",
       "      <td>77.849117</td>\n",
       "      <td>80.597015</td>\n",
       "    </tr>\n",
       "  </tbody>\n",
       "</table>\n",
       "</div>"
      ],
      "text/plain": [
       "   Num Iters  Train Accuracy  Val Accuracy\n",
       "7      20000       82.825040     83.955224\n",
       "6      15000       82.825040     83.582090\n",
       "8      25000       83.146067     82.835821\n",
       "9      30000       83.146067     82.835821\n",
       "5      10000       82.343499     82.462687\n",
       "1       2000       80.256822     82.089552\n",
       "2       3000       81.380417     81.716418\n",
       "3       4000       81.861958     81.716418\n",
       "4       5000       81.861958     81.716418\n",
       "0       1000       77.849117     80.597015"
      ]
     },
     "execution_count": 213,
     "metadata": {},
     "output_type": "execute_result"
    }
   ],
   "source": [
    "getni = pd.DataFrame({'Num Iters':numIters,'Train Accuracy':ATni,'Val Accuracy':AVni})\n",
    "getni.sort_values('Val Accuracy', ascending=False)"
   ]
  },
  {
   "cell_type": "markdown",
   "metadata": {},
   "source": [
    "## 6.4.Model Selection: Alpha"
   ]
  },
  {
   "cell_type": "code",
   "execution_count": 214,
   "metadata": {},
   "outputs": [],
   "source": [
    "alphaL= [0.01,0.03,0.1,0.3,1,3]\n",
    "\n",
    "reg=0.01\n",
    "num_iter=20000\n",
    "\n",
    "hidden_layer_size = 7\n",
    "input_layer_size = 8\n",
    "num_labels = 1\n",
    "#--------------------------------\n",
    "\n",
    "ATa = []\n",
    "AVa = []\n",
    "\n",
    "for alpha in alphaL:\n",
    "    \n",
    "    #CREATE INITIAL RANDOM PARAMS\n",
    "    eps = 0.12\n",
    "    initialTheta1 = np.random.rand(hidden_layer_size,input_layer_size+1)*2*eps-eps\n",
    "    initialTheta2 = np.random.rand(num_labels,hidden_layer_size+1)*2*eps-eps\n",
    "    initial_nn_params = np.r_[initialTheta1.ravel(), initialTheta2.ravel()]\n",
    "    \n",
    "    [tOpt1,tOpt2] = getOptTheta(initial_nn_params, input_layer_size, hidden_layer_size, num_labels, Xtrain, ytrain, reg,alpha,num_iter)\n",
    "        \n",
    "     \n",
    "    predTrain = prediction(Xtrain,tOpt1,tOpt2)\n",
    "    accTrain = np.mean(predTrain==ytrain)*100\n",
    "    \n",
    "    predVal = prediction(Xval,tOpt1,tOpt2)\n",
    "    accVal = np.mean(predVal==yval)*100\n",
    "    \n",
    "    ATa.append(accTrain)\n",
    "    AVa.append(accVal)\n",
    "    "
   ]
  },
  {
   "cell_type": "code",
   "execution_count": 215,
   "metadata": {},
   "outputs": [
    {
     "data": {
      "image/png": "[encoded data removed]",
      "text/plain": [
       "<Figure size 432x288 with 1 Axes>"
      ]
     },
     "metadata": {
      "needs_background": "light"
     },
     "output_type": "display_data"
    }
   ],
   "source": [
    "plt.plot(alphaL,ATa, label = 'Accuracy Train' )\n",
    "plt.plot(alphaL,AVa, label='Accuracy Val')\n",
    "plt.title('Model selection : Num Iter for GradientDescent')\n",
    "plt.xlabel('Num iter')\n",
    "plt.ylabel('Accuracy')\n",
    "plt.legend()\n",
    "plt.show()"
   ]
  },
  {
   "cell_type": "code",
   "execution_count": 217,
   "metadata": {},
   "outputs": [
    {
     "data": {
      "text/html": [
       "<div>\n",
       "<style scoped>\n",
       "    .dataframe tbody tr th:only-of-type {\n",
       "        vertical-align: middle;\n",
       "    }\n",
       "\n",
       "    .dataframe tbody tr th {\n",
       "        vertical-align: top;\n",
       "    }\n",
       "\n",
       "    .dataframe thead th {\n",
       "        text-align: right;\n",
       "    }\n",
       "</style>\n",
       "<table border=\"1\" class=\"dataframe\">\n",
       "  <thead>\n",
       "    <tr style=\"text-align: right;\">\n",
       "      <th></th>\n",
       "      <th>Alpha - learning rate</th>\n",
       "      <th>Train Accuracy</th>\n",
       "      <th>Val Accuracy</th>\n",
       "    </tr>\n",
       "  </thead>\n",
       "  <tbody>\n",
       "    <tr>\n",
       "      <th>2</th>\n",
       "      <td>0.10</td>\n",
       "      <td>82.825040</td>\n",
       "      <td>83.208955</td>\n",
       "    </tr>\n",
       "    <tr>\n",
       "      <th>0</th>\n",
       "      <td>0.01</td>\n",
       "      <td>80.577849</td>\n",
       "      <td>82.835821</td>\n",
       "    </tr>\n",
       "    <tr>\n",
       "      <th>3</th>\n",
       "      <td>0.30</td>\n",
       "      <td>83.146067</td>\n",
       "      <td>82.462687</td>\n",
       "    </tr>\n",
       "    <tr>\n",
       "      <th>1</th>\n",
       "      <td>0.03</td>\n",
       "      <td>82.343499</td>\n",
       "      <td>82.089552</td>\n",
       "    </tr>\n",
       "    <tr>\n",
       "      <th>5</th>\n",
       "      <td>3.00</td>\n",
       "      <td>83.146067</td>\n",
       "      <td>81.716418</td>\n",
       "    </tr>\n",
       "    <tr>\n",
       "      <th>4</th>\n",
       "      <td>1.00</td>\n",
       "      <td>83.146067</td>\n",
       "      <td>79.104478</td>\n",
       "    </tr>\n",
       "  </tbody>\n",
       "</table>\n",
       "</div>"
      ],
      "text/plain": [
       "   Alpha - learning rate  Train Accuracy  Val Accuracy\n",
       "2                   0.10       82.825040     83.208955\n",
       "0                   0.01       80.577849     82.835821\n",
       "3                   0.30       83.146067     82.462687\n",
       "1                   0.03       82.343499     82.089552\n",
       "5                   3.00       83.146067     81.716418\n",
       "4                   1.00       83.146067     79.104478"
      ]
     },
     "execution_count": 217,
     "metadata": {},
     "output_type": "execute_result"
    }
   ],
   "source": [
    "geta = pd.DataFrame({'Alpha - learning rate':alphaL,'Train Accuracy':ATa,'Val Accuracy':AVa})\n",
    "geta.sort_values('Val Accuracy', ascending=False)"
   ]
  },
  {
   "cell_type": "markdown",
   "metadata": {},
   "source": [
    "## 🌹get different initial_nn_params and different accuracy 🌹"
   ]
  },
  {
   "cell_type": "code",
   "execution_count": 221,
   "metadata": {},
   "outputs": [],
   "source": [
    "accuracyTrainLr = []\n",
    "accuracyValLr = []\n",
    "tOptl1 = []\n",
    "tOptl2 = []\n",
    "\n",
    "trying = np.arange(1,11)\n",
    "for iters in trying:\n",
    "\n",
    "    reg=0.01\n",
    "    alpha= 0.1\n",
    "    num_iter=20000\n",
    "\n",
    "    hidden_layer_size = 7\n",
    "    input_layer_size = 8\n",
    "    num_labels = 1\n",
    "    #--------------------------------\n",
    "\n",
    "    #CREATE INITIAL RANDOM PARAMS\n",
    "    eps = 0.12\n",
    "    initialTheta1 = np.random.rand(hidden_layer_size,input_layer_size+1)*2*eps-eps\n",
    "    initialTheta2 = np.random.rand(num_labels,hidden_layer_size+1)*2*eps-eps\n",
    "    initial_nn_params = np.r_[initialTheta1.ravel(), initialTheta2.ravel()]\n",
    "\n",
    "    [tOpt1,tOpt2] = getOptTheta(initial_nn_params, input_layer_size, hidden_layer_size, num_labels, Xtrain, ytrain, reg,alpha,num_iter)\n",
    "\n",
    "\n",
    "    predTrain = prediction(Xtrain,tOpt1,tOpt2)\n",
    "    accTrain = np.mean(predTrain==ytrain)*100\n",
    "\n",
    "    predVal = prediction(Xval,tOpt1,tOpt2)\n",
    "    accVal = np.mean(predVal==yval)*100\n",
    "\n",
    "    accuracyTrainLr.append(accTrain)\n",
    "    accuracyValLr.append(accVal)\n",
    "    tOptl1.append(tOpt1)\n",
    "    tOptl2.append(tOpt2)"
   ]
  },
  {
   "cell_type": "code",
   "execution_count": 225,
   "metadata": {},
   "outputs": [
    {
     "data": {
      "image/png": "[encoded data removed]",
      "text/plain": [
       "<Figure size 720x576 with 1 Axes>"
      ]
     },
     "metadata": {},
     "output_type": "display_data"
    }
   ],
   "source": [
    "plt.plot(trying,accuracyTrainLr, label = 'Train Accuracy' )\n",
    "plt.plot(trying,accuracyValLr, label='Val Accuracy')\n",
    "plt.title('run n times for different param and accuracy')\n",
    "plt.xlabel('running n times')\n",
    "plt.ylabel('Accuracy')\n",
    "plt.legend()\n",
    "plt.show()"
   ]
  },
  {
   "cell_type": "code",
   "execution_count": 195,
   "metadata": {},
   "outputs": [
    {
     "name": "stdout",
     "output_type": "stream",
     "text": [
      "the highest accuracy in data train in index: 1 with accuracy = 81.86195826645265\n",
      "the highest accuracy in data CROSSVAL in index: 5 with accuracy = 83.95522388059702\n"
     ]
    }
   ],
   "source": [
    "tri = accuracyTrainLr.index(np.max(accuracyTrainLr))\n",
    "trv = np.max(accuracyTrainLr)\n",
    "tvi = accuracyValLr.index(np.max(accuracyValLr))\n",
    "tvv = np.max(accuracyValLr)\n",
    "print('the highest accuracy in data train in index:',tri,'with accuracy =',trv)\n",
    "print('the highest accuracy in data CROSSVAL in index:',tvi,'with accuracy =',tvv)"
   ]
  },
  {
   "cell_type": "markdown",
   "metadata": {},
   "source": [
    "## get the optimum theta"
   ]
  },
  {
   "cell_type": "code",
   "execution_count": 196,
   "metadata": {},
   "outputs": [],
   "source": [
    "imax = accuracyValLr.index(np.max(accuracyValLr))"
   ]
  },
  {
   "cell_type": "code",
   "execution_count": 197,
   "metadata": {},
   "outputs": [],
   "source": [
    "Theta1Optimum = tOptl1[imax]\n",
    "Theta2Optimum = tOptl2[imax]"
   ]
  },
  {
   "cell_type": "code",
   "execution_count": 226,
   "metadata": {},
   "outputs": [
    {
     "data": {
      "text/plain": [
       "81.86195826645265"
      ]
     },
     "execution_count": 226,
     "metadata": {},
     "output_type": "execute_result"
    }
   ],
   "source": [
    "predTrain = prediction(Xtrain,Theta1Optimum,Theta2Optimum)\n",
    "accTrain = np.mean(predTrain==ytrain)*100\n",
    "accTrain"
   ]
  },
  {
   "cell_type": "code",
   "execution_count": 201,
   "metadata": {},
   "outputs": [
    {
     "data": {
      "text/plain": [
       "83.95522388059702"
      ]
     },
     "execution_count": 201,
     "metadata": {},
     "output_type": "execute_result"
    }
   ],
   "source": [
    "predVal = prediction(Xval,Theta1Optimum,Theta2Optimum)\n",
    "accVal = np.mean(predVal==yval)*100\n",
    "accVal"
   ]
  },
  {
   "cell_type": "markdown",
   "metadata": {},
   "source": [
    "# 7. EVALUATION"
   ]
  },
  {
   "cell_type": "code",
   "execution_count": 202,
   "metadata": {},
   "outputs": [],
   "source": [
    "from sklearn.metrics import confusion_matrix, precision_recall_curve, auc, roc_auc_score, roc_curve, recall_score, classification_report"
   ]
  },
  {
   "cell_type": "code",
   "execution_count": 203,
   "metadata": {},
   "outputs": [],
   "source": [
    "import itertools\n",
    "\n",
    "def plot_confusion_matrix(cm, classes,\n",
    "                          normalize=False,\n",
    "                          title='Confusion matrix',\n",
    "                          cmap=plt.cm.Blues):\n",
    "    \"\"\"\n",
    "    This function prints and plots the confusion matrix.\n",
    "    Normalization can be applied by setting `normalize=True`.\n",
    "    \"\"\"\n",
    "    sns.set_style('white')\n",
    "    plt.imshow(cm, interpolation='nearest', cmap=cmap)\n",
    "    plt.title(title)\n",
    "    plt.colorbar()\n",
    "    tick_marks = np.arange(len(classes))\n",
    "    plt.xticks(tick_marks, classes, rotation=0)\n",
    "    plt.yticks(tick_marks, classes)\n",
    "\n",
    "    if normalize:\n",
    "        cm = cm.astype('float') / cm.sum(axis=1)[:, np.newaxis]\n",
    "        #print(\"Normalized confusion matrix\")\n",
    "    else:\n",
    "        1#print('Confusion matrix, without normalization')\n",
    "\n",
    "    #print(cm)\n",
    "\n",
    "    thresh = cm.max() / 2.\n",
    "    for i, j in itertools.product(range(cm.shape[0]), range(cm.shape[1])):\n",
    "        plt.text(j, i, cm[i, j],\n",
    "                 horizontalalignment=\"center\",\n",
    "                 color=\"white\" if cm[i, j] > thresh else \"black\")\n",
    "\n",
    "    plt.tight_layout()\n",
    "    plt.ylabel('True label')\n",
    "    plt.xlabel('Predicted label')"
   ]
  },
  {
   "cell_type": "markdown",
   "metadata": {},
   "source": [
    "## 7.1. Confusion Matrix"
   ]
  },
  {
   "cell_type": "code",
   "execution_count": 204,
   "metadata": {},
   "outputs": [
    {
     "name": "stdout",
     "output_type": "stream",
     "text": [
      "Recall = 0.67\n",
      "Precision = 0.88\n",
      "Accuracy= 0.8395522388059702\n"
     ]
    },
    {
     "data": {
      "image/png": "[encoded data removed]",
      "text/plain": [
       "<Figure size 720x576 with 2 Axes>"
      ]
     },
     "metadata": {},
     "output_type": "display_data"
    }
   ],
   "source": [
    "cm = confusion_matrix(yval,predVal)\n",
    "\n",
    "#bukan make index untuk akses confusion matrix. \n",
    "print(\"Recall =\", round(cm[1,1]/(cm[1,0]+cm[1,1]),2))\n",
    "print(\"Precision =\",round(cm[1,1]/(cm[0,1]+cm[1,1]),2))\n",
    "print(\"Accuracy=\",(cm[1,1]+cm[0,0])/(cm[1,1]+cm[0,0]+cm[1,0]+cm[0,1]) )\n",
    "# Plot non-normalized confusion matrix\n",
    "class_names = [0,1]\n",
    "plt.figure()\n",
    "plot_confusion_matrix(cm\n",
    "                      , classes=class_names\n",
    "                      , title='Confusion matrix')\n",
    "plt.show()"
   ]
  },
  {
   "cell_type": "code",
   "execution_count": 205,
   "metadata": {},
   "outputs": [
    {
     "name": "stdout",
     "output_type": "stream",
     "text": [
      "              precision    recall  f1-score   support\n",
      "\n",
      "           0       0.82      0.95      0.88       165\n",
      "           1       0.88      0.67      0.76       103\n",
      "\n",
      "   micro avg       0.84      0.84      0.84       268\n",
      "   macro avg       0.85      0.81      0.82       268\n",
      "weighted avg       0.85      0.84      0.83       268\n",
      "\n"
     ]
    }
   ],
   "source": [
    "print(classification_report(yval,predVal))"
   ]
  },
  {
   "cell_type": "markdown",
   "metadata": {},
   "source": [
    "## 7.2. ROC Curve"
   ]
  },
  {
   "cell_type": "code",
   "execution_count": 206,
   "metadata": {},
   "outputs": [
    {
     "name": "stdout",
     "output_type": "stream",
     "text": [
      "ROC AUC= 80.77 %\n"
     ]
    },
    {
     "data": {
      "image/png": "[encoded data removed]",
      "text/plain": [
       "<Figure size 720x576 with 1 Axes>"
      ]
     },
     "metadata": {},
     "output_type": "display_data"
    }
   ],
   "source": [
    "fpr, tpr, thresholds = roc_curve(yval,predVal)\n",
    "roc_auc = auc(fpr,tpr)\n",
    "\n",
    "print('ROC AUC=',round((roc_auc*100),2),'%')\n",
    "# Plot ROC\n",
    "plt.title('Receiver Operating Characteristic')\n",
    "plt.plot(fpr, tpr, 'b',label='AUC = %0.2f'% roc_auc)\n",
    "plt.legend(loc='lower right')\n",
    "plt.plot([0,1],[0,1],'r--')\n",
    "plt.xlim([-0.1,1.0])\n",
    "plt.ylim([-0.1,1.01])\n",
    "plt.ylabel('True Positive Rate')\n",
    "plt.xlabel('False Positive Rate')\n",
    "plt.show()"
   ]
  },
  {
   "cell_type": "markdown",
   "metadata": {},
   "source": [
    "# 8. PREDICTING TEST DATA"
   ]
  },
  {
   "cell_type": "code",
   "execution_count": 207,
   "metadata": {},
   "outputs": [
    {
     "data": {
      "text/html": [
       "<div>\n",
       "<style scoped>\n",
       "    .dataframe tbody tr th:only-of-type {\n",
       "        vertical-align: middle;\n",
       "    }\n",
       "\n",
       "    .dataframe tbody tr th {\n",
       "        vertical-align: top;\n",
       "    }\n",
       "\n",
       "    .dataframe thead th {\n",
       "        text-align: right;\n",
       "    }\n",
       "</style>\n",
       "<table border=\"1\" class=\"dataframe\">\n",
       "  <thead>\n",
       "    <tr style=\"text-align: right;\">\n",
       "      <th></th>\n",
       "      <th>Embarked</th>\n",
       "      <th>Titles</th>\n",
       "      <th>Pclass</th>\n",
       "      <th>Sex</th>\n",
       "      <th>Age</th>\n",
       "    </tr>\n",
       "  </thead>\n",
       "  <tbody>\n",
       "    <tr>\n",
       "      <th>0</th>\n",
       "      <td>0</td>\n",
       "      <td>0</td>\n",
       "      <td>3</td>\n",
       "      <td>1</td>\n",
       "      <td>2</td>\n",
       "    </tr>\n",
       "    <tr>\n",
       "      <th>1</th>\n",
       "      <td>2</td>\n",
       "      <td>1</td>\n",
       "      <td>3</td>\n",
       "      <td>0</td>\n",
       "      <td>2</td>\n",
       "    </tr>\n",
       "    <tr>\n",
       "      <th>2</th>\n",
       "      <td>0</td>\n",
       "      <td>0</td>\n",
       "      <td>2</td>\n",
       "      <td>1</td>\n",
       "      <td>3</td>\n",
       "    </tr>\n",
       "    <tr>\n",
       "      <th>3</th>\n",
       "      <td>2</td>\n",
       "      <td>0</td>\n",
       "      <td>3</td>\n",
       "      <td>1</td>\n",
       "      <td>1</td>\n",
       "    </tr>\n",
       "    <tr>\n",
       "      <th>4</th>\n",
       "      <td>2</td>\n",
       "      <td>1</td>\n",
       "      <td>3</td>\n",
       "      <td>0</td>\n",
       "      <td>1</td>\n",
       "    </tr>\n",
       "  </tbody>\n",
       "</table>\n",
       "</div>"
      ],
      "text/plain": [
       "   Embarked  Titles  Pclass  Sex  Age\n",
       "0         0       0       3    1    2\n",
       "1         2       1       3    0    2\n",
       "2         0       0       2    1    3\n",
       "3         2       0       3    1    1\n",
       "4         2       1       3    0    1"
      ]
     },
     "execution_count": 207,
     "metadata": {},
     "output_type": "execute_result"
    }
   ],
   "source": [
    "testData.iloc[:,:-2].head(5)"
   ]
  },
  {
   "cell_type": "code",
   "execution_count": 167,
   "metadata": {},
   "outputs": [
    {
     "data": {
      "text/html": [
       "<div>\n",
       "<style scoped>\n",
       "    .dataframe tbody tr th:only-of-type {\n",
       "        vertical-align: middle;\n",
       "    }\n",
       "\n",
       "    .dataframe tbody tr th {\n",
       "        vertical-align: top;\n",
       "    }\n",
       "\n",
       "    .dataframe thead th {\n",
       "        text-align: right;\n",
       "    }\n",
       "</style>\n",
       "<table border=\"1\" class=\"dataframe\">\n",
       "  <thead>\n",
       "    <tr style=\"text-align: right;\">\n",
       "      <th></th>\n",
       "      <th>Embarked</th>\n",
       "      <th>Titles</th>\n",
       "      <th>Pclass</th>\n",
       "      <th>Sex</th>\n",
       "      <th>Age</th>\n",
       "      <th>Fare</th>\n",
       "      <th>Alone</th>\n",
       "    </tr>\n",
       "  </thead>\n",
       "  <tbody>\n",
       "    <tr>\n",
       "      <th>0</th>\n",
       "      <td>0</td>\n",
       "      <td>0</td>\n",
       "      <td>3</td>\n",
       "      <td>1</td>\n",
       "      <td>2</td>\n",
       "      <td>1</td>\n",
       "      <td>1</td>\n",
       "    </tr>\n",
       "    <tr>\n",
       "      <th>1</th>\n",
       "      <td>2</td>\n",
       "      <td>1</td>\n",
       "      <td>3</td>\n",
       "      <td>0</td>\n",
       "      <td>2</td>\n",
       "      <td>0</td>\n",
       "      <td>0</td>\n",
       "    </tr>\n",
       "    <tr>\n",
       "      <th>2</th>\n",
       "      <td>0</td>\n",
       "      <td>0</td>\n",
       "      <td>2</td>\n",
       "      <td>1</td>\n",
       "      <td>3</td>\n",
       "      <td>2</td>\n",
       "      <td>1</td>\n",
       "    </tr>\n",
       "  </tbody>\n",
       "</table>\n",
       "</div>"
      ],
      "text/plain": [
       "   Embarked  Titles  Pclass  Sex  Age  Fare  Alone\n",
       "0         0       0       3    1    2     1      1\n",
       "1         2       1       3    0    2     0      0\n",
       "2         0       0       2    1    3     2      1"
      ]
     },
     "execution_count": 167,
     "metadata": {},
     "output_type": "execute_result"
    }
   ],
   "source": [
    "testData.head(3)"
   ]
  },
  {
   "cell_type": "code",
   "execution_count": 208,
   "metadata": {},
   "outputs": [
    {
     "data": {
      "text/plain": [
       "(418, 7)"
      ]
     },
     "execution_count": 208,
     "metadata": {},
     "output_type": "execute_result"
    }
   ],
   "source": [
    "Xtest = testData.iloc[:,:].values\n",
    "Xtest.shape"
   ]
  },
  {
   "cell_type": "markdown",
   "metadata": {},
   "source": [
    "## OneHotEncoder Embarked & Titles"
   ]
  },
  {
   "cell_type": "code",
   "execution_count": 209,
   "metadata": {},
   "outputs": [],
   "source": [
    "from sklearn.preprocessing import LabelEncoder, OneHotEncoder\n",
    "\n",
    "#EMBARKED\n",
    "onehotencoderXtestE = OneHotEncoder(categorical_features = [0])\n",
    "Xtest = onehotencoderXtestE.fit_transform(Xtest).toarray()\n",
    "#avoiding dummy variable trap\n",
    "Xtest= Xtest[:,1:]\n",
    "\n",
    "#TITLES\n",
    "onehotencoderXtestT = OneHotEncoder(categorical_features = [2])\n",
    "Xtest = onehotencoderXtestT.fit_transform(Xtest).toarray()\n",
    "#avoiding dummy variable trap\n",
    "Xtest= Xtest[:,1:]\n"
   ]
  },
  {
   "cell_type": "code",
   "execution_count": 210,
   "metadata": {},
   "outputs": [
    {
     "data": {
      "text/plain": [
       "(418, 11)"
      ]
     },
     "execution_count": 210,
     "metadata": {},
     "output_type": "execute_result"
    }
   ],
   "source": [
    "Xtest = np.c_[np.ones((Xtest.shape[0])),Xtest]\n",
    "Xtest.shape"
   ]
  },
  {
   "cell_type": "code",
   "execution_count": 211,
   "metadata": {},
   "outputs": [],
   "source": [
    "Xtest = Xtest[:,[0,1,2,3,5,6,7,8,10]]"
   ]
  },
  {
   "cell_type": "code",
   "execution_count": 212,
   "metadata": {},
   "outputs": [
    {
     "data": {
      "text/plain": [
       "(418, 9)"
      ]
     },
     "execution_count": 212,
     "metadata": {},
     "output_type": "execute_result"
    }
   ],
   "source": [
    "Xtest.shape"
   ]
  },
  {
   "cell_type": "code",
   "execution_count": 213,
   "metadata": {},
   "outputs": [],
   "source": [
    "predTest = prediction(Xtest,Theta1Optimum,Theta2Optimum)"
   ]
  }
 ],
 "metadata": {
  "kernelspec": {
   "display_name": "Python 3",
   "language": "python",
   "name": "python3"
  },
  "language_info": {
   "codemirror_mode": {
    "name": "ipython",
    "version": 3
   },
   "file_extension": ".py",
   "mimetype": "text/x-python",
   "name": "python",
   "nbconvert_exporter": "python",
   "pygments_lexer": "ipython3",
   "version": "3.6.6"
  }
 },
 "nbformat": 4,
 "nbformat_minor": 2
}
