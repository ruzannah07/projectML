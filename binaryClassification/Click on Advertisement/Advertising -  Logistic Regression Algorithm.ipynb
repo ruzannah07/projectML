{
 "cells": [
  {
   "cell_type": "code",
   "execution_count": 303,
   "metadata": {},
   "outputs": [],
   "source": [
    "import pandas as pd\n",
    "import numpy as np\n",
    "import matplotlib.pyplot as plt\n",
    "import seaborn as sns\n",
    "import warnings\n",
    "warnings.filterwarnings('ignore')\n",
    "\n",
    "from scipy.optimize import minimize\n",
    "from sklearn.preprocessing import PolynomialFeatures"
   ]
  },
  {
   "cell_type": "code",
   "execution_count": 304,
   "metadata": {},
   "outputs": [
    {
     "data": {
      "text/html": [
       "<div>\n",
       "<style scoped>\n",
       "    .dataframe tbody tr th:only-of-type {\n",
       "        vertical-align: middle;\n",
       "    }\n",
       "\n",
       "    .dataframe tbody tr th {\n",
       "        vertical-align: top;\n",
       "    }\n",
       "\n",
       "    .dataframe thead th {\n",
       "        text-align: right;\n",
       "    }\n",
       "</style>\n",
       "<table border=\"1\" class=\"dataframe\">\n",
       "  <thead>\n",
       "    <tr style=\"text-align: right;\">\n",
       "      <th></th>\n",
       "      <th>Daily Time Spent on Site</th>\n",
       "      <th>Age</th>\n",
       "      <th>Area Income</th>\n",
       "      <th>Daily Internet Usage</th>\n",
       "      <th>Ad Topic Line</th>\n",
       "      <th>City</th>\n",
       "      <th>Male</th>\n",
       "      <th>Country</th>\n",
       "      <th>Timestamp</th>\n",
       "      <th>Clicked on Ad</th>\n",
       "    </tr>\n",
       "  </thead>\n",
       "  <tbody>\n",
       "    <tr>\n",
       "      <th>0</th>\n",
       "      <td>68.95</td>\n",
       "      <td>35</td>\n",
       "      <td>61833.90</td>\n",
       "      <td>256.09</td>\n",
       "      <td>Cloned 5thgeneration orchestration</td>\n",
       "      <td>Wrightburgh</td>\n",
       "      <td>0</td>\n",
       "      <td>Tunisia</td>\n",
       "      <td>2016-03-27 00:53:11</td>\n",
       "      <td>0</td>\n",
       "    </tr>\n",
       "    <tr>\n",
       "      <th>1</th>\n",
       "      <td>80.23</td>\n",
       "      <td>31</td>\n",
       "      <td>68441.85</td>\n",
       "      <td>193.77</td>\n",
       "      <td>Monitored national standardization</td>\n",
       "      <td>West Jodi</td>\n",
       "      <td>1</td>\n",
       "      <td>Nauru</td>\n",
       "      <td>2016-04-04 01:39:02</td>\n",
       "      <td>0</td>\n",
       "    </tr>\n",
       "    <tr>\n",
       "      <th>2</th>\n",
       "      <td>69.47</td>\n",
       "      <td>26</td>\n",
       "      <td>59785.94</td>\n",
       "      <td>236.50</td>\n",
       "      <td>Organic bottom-line service-desk</td>\n",
       "      <td>Davidton</td>\n",
       "      <td>0</td>\n",
       "      <td>San Marino</td>\n",
       "      <td>2016-03-13 20:35:42</td>\n",
       "      <td>0</td>\n",
       "    </tr>\n",
       "  </tbody>\n",
       "</table>\n",
       "</div>"
      ],
      "text/plain": [
       "   Daily Time Spent on Site  Age  Area Income  Daily Internet Usage  \\\n",
       "0                     68.95   35     61833.90                256.09   \n",
       "1                     80.23   31     68441.85                193.77   \n",
       "2                     69.47   26     59785.94                236.50   \n",
       "\n",
       "                        Ad Topic Line         City  Male     Country  \\\n",
       "0  Cloned 5thgeneration orchestration  Wrightburgh     0     Tunisia   \n",
       "1  Monitored national standardization    West Jodi     1       Nauru   \n",
       "2    Organic bottom-line service-desk     Davidton     0  San Marino   \n",
       "\n",
       "             Timestamp  Clicked on Ad  \n",
       "0  2016-03-27 00:53:11              0  \n",
       "1  2016-04-04 01:39:02              0  \n",
       "2  2016-03-13 20:35:42              0  "
      ]
     },
     "execution_count": 304,
     "metadata": {},
     "output_type": "execute_result"
    }
   ],
   "source": [
    "df = pd.read_csv('Advertising.csv')\n",
    "df.head(3)"
   ]
  },
  {
   "cell_type": "markdown",
   "metadata": {},
   "source": [
    "# 0. Preprocessing"
   ]
  },
  {
   "cell_type": "code",
   "execution_count": 305,
   "metadata": {},
   "outputs": [],
   "source": [
    "X = df.iloc[:,[0,1,2,3,6]].values\n",
    "y = df.iloc[:,-1].values.reshape(-1,1)"
   ]
  },
  {
   "cell_type": "markdown",
   "metadata": {},
   "source": [
    "## Normalisasi"
   ]
  },
  {
   "cell_type": "code",
   "execution_count": 306,
   "metadata": {},
   "outputs": [],
   "source": [
    "def FeatureScaling(X):\n",
    "    mu = X.mean(axis=0)\n",
    "    sigma= X.std(axis=0)\n",
    "    [m,n] = X.shape\n",
    "    t = np.ones((m,1))\n",
    "    Xnorm =(X - (t*mu)) / (t*sigma)\n",
    "    return(Xnorm)"
   ]
  },
  {
   "cell_type": "markdown",
   "metadata": {},
   "source": [
    "### X before"
   ]
  },
  {
   "cell_type": "code",
   "execution_count": 307,
   "metadata": {},
   "outputs": [
    {
     "data": {
      "text/plain": [
       "array([[6.895000e+01, 3.500000e+01, 6.183390e+04, 2.560900e+02,\n",
       "        0.000000e+00],\n",
       "       [8.023000e+01, 3.100000e+01, 6.844185e+04, 1.937700e+02,\n",
       "        1.000000e+00],\n",
       "       [6.947000e+01, 2.600000e+01, 5.978594e+04, 2.365000e+02,\n",
       "        0.000000e+00],\n",
       "       ...,\n",
       "       [5.163000e+01, 5.100000e+01, 4.241572e+04, 1.203700e+02,\n",
       "        1.000000e+00],\n",
       "       [5.555000e+01, 1.900000e+01, 4.192079e+04, 1.879500e+02,\n",
       "        0.000000e+00],\n",
       "       [4.501000e+01, 2.600000e+01, 2.987580e+04, 1.783500e+02,\n",
       "        0.000000e+00]])"
      ]
     },
     "execution_count": 307,
     "metadata": {},
     "output_type": "execute_result"
    }
   ],
   "source": [
    "X"
   ]
  },
  {
   "cell_type": "markdown",
   "metadata": {},
   "source": [
    "### X after "
   ]
  },
  {
   "cell_type": "code",
   "execution_count": 308,
   "metadata": {},
   "outputs": [
    {
     "data": {
      "text/plain": [
       "array([[ 0.24926659, -0.11490498,  0.50969109,  1.73403   ,  0.        ],\n",
       "       [ 0.96113227, -0.57042523,  1.00253021,  0.31380538,  1.        ],\n",
       "       [ 0.28208309, -1.13982553,  0.35694859,  1.28758905,  0.        ],\n",
       "       ...,\n",
       "       [-0.84377541,  1.707176  , -0.93857029, -1.35892388,  1.        ],\n",
       "       [-0.59638946, -1.93698596, -0.97548353,  0.18117208,  0.        ],\n",
       "       [-1.26155474, -1.13982553, -1.87383208, -0.0376045 ,  0.        ]])"
      ]
     },
     "execution_count": 308,
     "metadata": {},
     "output_type": "execute_result"
    }
   ],
   "source": [
    "X[:,:4] = FeatureScaling(X[:,:4])\n",
    "X"
   ]
  },
  {
   "cell_type": "markdown",
   "metadata": {},
   "source": [
    "## Adding Bias"
   ]
  },
  {
   "cell_type": "code",
   "execution_count": 309,
   "metadata": {},
   "outputs": [],
   "source": [
    "X = np.c_[np.ones(m),X]\n",
    "[m,n] = X.shape\n",
    "theta = np.zeros((n,1))"
   ]
  },
  {
   "cell_type": "markdown",
   "metadata": {},
   "source": [
    "# LINEAR REGRESSION"
   ]
  },
  {
   "cell_type": "markdown",
   "metadata": {},
   "source": [
    "# 1.Cost Function\n",
    "#return: J of theta"
   ]
  },
  {
   "cell_type": "code",
   "execution_count": 310,
   "metadata": {},
   "outputs": [],
   "source": [
    "def sigmoid(z):\n",
    "    return(1/(1+np.exp(-z)))"
   ]
  },
  {
   "cell_type": "code",
   "execution_count": 311,
   "metadata": {},
   "outputs": [],
   "source": [
    "def costFunction(theta,X,y):\n",
    "    [m,n] = X.shape\n",
    "    h=sigmoid(X.dot(theta))\n",
    "    J=(-1/m)*((np.log(h)).T.dot(y) + ((np.log(1-h)).T).dot(1-y))\n",
    "    return(J)"
   ]
  },
  {
   "cell_type": "code",
   "execution_count": 333,
   "metadata": {},
   "outputs": [],
   "source": [
    "def costFunctionReg(theta,X,y):\n",
    "    reg=10\n",
    "    [m,n] = X.shape\n",
    "    h=sigmoid(X.dot(theta))\n",
    "    J=(-1/m)*((np.log(h)).T.dot(y) + ((np.log(1-h)).T).dot(1-y)) + (reg/(2*m))*np.sum(np.square(theta[1:]))\n",
    "    return(J)"
   ]
  },
  {
   "cell_type": "markdown",
   "metadata": {},
   "source": [
    "# 2.Gradient Descent \n",
    "#return: grad = 1/m * X.T * (h-y)"
   ]
  },
  {
   "cell_type": "code",
   "execution_count": 336,
   "metadata": {},
   "outputs": [],
   "source": [
    "def gradient(theta,X,y):\n",
    "    [m,n] = X.shape\n",
    "    h=sigmoid(X.dot(theta.reshape(-1,1)))\n",
    "    grad = (1/m) * X.T.dot(h-y)\n",
    "    return (grad.flatten())"
   ]
  },
  {
   "cell_type": "code",
   "execution_count": 337,
   "metadata": {},
   "outputs": [],
   "source": [
    "def gradientReg(theta,X,y):\n",
    "    reg = 10\n",
    "    [m,n] = X.shape\n",
    "    h=sigmoid(X.dot(theta.reshape(-1,1)))\n",
    "    \n",
    "    R = (reg/m)*np.r_[[[0]], theta[1:].reshape(-1,1)]\n",
    "    grad = (1/m) * X.T.dot(h-y) + R\n",
    "    \n",
    "    return (grad.flatten())"
   ]
  },
  {
   "cell_type": "code",
   "execution_count": 340,
   "metadata": {},
   "outputs": [],
   "source": [
    "#WARNING!!!!\n",
    "#kalo y = (1000,) BUKAN (1000,1) (harus di reshape(-1,1) dulu)\n",
    "# kalo ga..... h.shape(1000,1) - y.shape(1000,) = size(1000,1000) "
   ]
  },
  {
   "cell_type": "markdown",
   "metadata": {},
   "source": [
    "# 3.Optimize CostFunc - Minimize\n",
    "#return optimum theta (res.x)"
   ]
  },
  {
   "cell_type": "code",
   "execution_count": 341,
   "metadata": {},
   "outputs": [],
   "source": [
    "# res = minimize(costFunction, theta, args=(X,y), method=None, jac=gradient, options={'maxiter':10})\n",
    "# res\n",
    "\n",
    "[m,n] = X.shape\n",
    "theta = np.zeros((n,1))\n",
    "res = minimize(costFunction, theta, args=(X,y), method=None, jac=gradient, options={'maxiter':400})\n",
    "resreg = minimize(costFunctionReg, theta, args=(X,y), method=None, jac=gradientReg, options={'maxiter':400})"
   ]
  },
  {
   "cell_type": "code",
   "execution_count": 328,
   "metadata": {},
   "outputs": [
    {
     "data": {
      "text/plain": [
       "array([ 2.07024064, -3.05387921,  1.50071789, -1.82437695, -2.78705321,\n",
       "       -0.4217089 ])"
      ]
     },
     "execution_count": 328,
     "metadata": {},
     "output_type": "execute_result"
    }
   ],
   "source": [
    "#Theta Optimum Tanpa Regularisasi\n",
    "res.x"
   ]
  },
  {
   "cell_type": "code",
   "execution_count": 342,
   "metadata": {},
   "outputs": [
    {
     "data": {
      "text/plain": [
       "array([ 0.79194306, -1.73935294,  0.86162782, -0.97310569, -1.73083377,\n",
       "       -0.17242466])"
      ]
     },
     "execution_count": 342,
     "metadata": {},
     "output_type": "execute_result"
    }
   ],
   "source": [
    "#Theta Optimum dengan Regularisasi\n",
    "resreg.x"
   ]
  },
  {
   "cell_type": "markdown",
   "metadata": {},
   "source": [
    "# 4.Predicting\n",
    "Xtest using optimum theta"
   ]
  },
  {
   "cell_type": "code",
   "execution_count": 343,
   "metadata": {},
   "outputs": [],
   "source": [
    "def prediction(theta,X,y,threshold=0.5):\n",
    "    threshold = threshold\n",
    "    p = sigmoid(X.dot(theta))>=threshold\n",
    "    return(p.astype('int'))"
   ]
  },
  {
   "cell_type": "code",
   "execution_count": 331,
   "metadata": {
    "scrolled": true
   },
   "outputs": [
    {
     "name": "stdout",
     "output_type": "stream",
     "text": [
      "Accuracy from Sigmoid by linreg =  97.2\n"
     ]
    }
   ],
   "source": [
    "p = prediction(res.x,X,y)\n",
    "accuracy = round((100*sum((p==y.ravel())/p.size)),2)\n",
    "print(\"Accuracy from Sigmoid by linreg = \", accuracy)"
   ]
  },
  {
   "cell_type": "code",
   "execution_count": 344,
   "metadata": {},
   "outputs": [
    {
     "name": "stdout",
     "output_type": "stream",
     "text": [
      "Accuracy from Sigmoid by linreg =  96.9\n"
     ]
    }
   ],
   "source": [
    "p = prediction(resreg.x,X,y)\n",
    "accuracy = round((100*sum((p==y.ravel())/p.size)),2)\n",
    "print(\"Accuracy from Sigmoid by linreg = \", accuracy)"
   ]
  },
  {
   "cell_type": "markdown",
   "metadata": {},
   "source": [
    "# POLYNOMIAL "
   ]
  },
  {
   "cell_type": "code",
   "execution_count": 423,
   "metadata": {},
   "outputs": [],
   "source": [
    "X = df.iloc[:,[0,1,2,3,6]].values\n",
    "y = df.iloc[:,-1].values.reshape(-1,1)\n",
    "\n",
    "X[:,:4] = FeatureScaling(X[:,:4])"
   ]
  },
  {
   "cell_type": "code",
   "execution_count": 424,
   "metadata": {},
   "outputs": [],
   "source": [
    "poly = PolynomialFeatures(6)\n",
    "#otomatis ada penambahan bias\n",
    "XX = poly.fit_transform(X)"
   ]
  },
  {
   "cell_type": "code",
   "execution_count": 425,
   "metadata": {},
   "outputs": [],
   "source": [
    "[m,n] = XX.shape\n",
    "initialTheta = np.zeros((n,1))"
   ]
  },
  {
   "cell_type": "code",
   "execution_count": 426,
   "metadata": {},
   "outputs": [],
   "source": [
    "#CostFunctionPoly & gradientDescent\n",
    "\n",
    "def costFunctionPoly(theta,reg,*args):\n",
    "    [m,n] = XX.shape\n",
    "    h=sigmoid(XX.dot(theta))\n",
    "    J=(-1/m)*((np.log(h)).T.dot(y) + ((np.log(1-h)).T).dot(1-y)) + (reg/(2*m))*np.sum(np.square(theta[1:]))\n",
    "    return(J)\n",
    "\n",
    "\n",
    "def gradientPoly(theta,reg, *args):\n",
    "    [m,n] = XX.shape\n",
    "    h=sigmoid(XX.dot(theta.reshape(-1,1)))\n",
    "    \n",
    "    R = (reg/m)*np.r_[[[0]], theta[1:].reshape(-1,1)]\n",
    "    grad = (1/m) * XX.T.dot(h-y) + R\n",
    "    \n",
    "    return (grad.flatten())"
   ]
  },
  {
   "cell_type": "code",
   "execution_count": 432,
   "metadata": {},
   "outputs": [
    {
     "name": "stdout",
     "output_type": "stream",
     "text": [
      "Accuracy from Sigmoid-Poly, C:0 = 73.0%\n",
      "Accuracy from Sigmoid-Poly, C:1 = 73.0%\n",
      "Accuracy from Sigmoid-Poly, C:10 = 73.0%\n",
      "Accuracy from Sigmoid-Poly, C:100 = 73.0%\n",
      "Accuracy from Sigmoid-Poly, C:1000 = 73.0%\n",
      "Accuracy from Sigmoid-Poly, C:10000 = 91.0%\n",
      "Accuracy from Sigmoid-Poly, C:100000 = 81.0%\n"
     ]
    }
   ],
   "source": [
    "for C in ([0, 1, 10, 100, 1000,10000,100000]):\n",
    "    # Optimize costFunctionReg\n",
    "    res2 = minimize(costFunctionPoly, initialTheta, args=(C, XX, y), method=None, jac=gradientPoly, options={'maxiter':400})\n",
    "    \n",
    "    # Accuracy\n",
    "    p = prediction(res2.x,XX,y)\n",
    "    accuracy = 100*sum(p == y.ravel())/y.size    \n",
    "    print('Accuracy from Sigmoid-Poly, C:{} = {}%'.format(C, round(accuracy)))"
   ]
  }
 ],
 "metadata": {
  "kernelspec": {
   "display_name": "Python 3",
   "language": "python",
   "name": "python3"
  },
  "language_info": {
   "codemirror_mode": {
    "name": "ipython",
    "version": 3
   },
   "file_extension": ".py",
   "mimetype": "text/x-python",
   "name": "python",
   "nbconvert_exporter": "python",
   "pygments_lexer": "ipython3",
   "version": "3.6.6"
  }
 },
 "nbformat": 4,
 "nbformat_minor": 2
}
