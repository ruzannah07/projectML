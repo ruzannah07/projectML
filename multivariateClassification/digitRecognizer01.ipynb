{
 "cells": [
  {
   "cell_type": "code",
   "execution_count": 32,
   "metadata": {},
   "outputs": [],
   "source": [
    "import numpy as np\n",
    "import pandas as pd\n",
    "from scipy.io import loadmat#load .mat files\n",
    "import scipy.optimize #using fmincg to training\n",
    "import warnings\n",
    "warnings.filterwarnings('ignore')\n",
    "\n",
    "#gatau\n",
    "import itertools\n",
    "from scipy.special import expit"
   ]
  },
  {
   "cell_type": "markdown",
   "metadata": {},
   "source": [
    "## import data"
   ]
  },
  {
   "cell_type": "code",
   "execution_count": 33,
   "metadata": {},
   "outputs": [
    {
     "name": "stdout",
     "output_type": "stream",
     "text": [
      "X: (5000, 401)\n",
      "y: (5000, 1)\n",
      "label y: [ 1  2  3  4  5  6  7  8  9 10]\n"
     ]
    }
   ],
   "source": [
    "data = loadmat('ex4data1.mat')\n",
    "X = data['X']\n",
    "X = np.c_[np.ones((X.shape[0],1)),X]\n",
    "y = data['y']\n",
    "print('X:', X.shape)\n",
    "print('y:', y.shape)\n",
    "print('label y:', np.unique(y))"
   ]
  },
  {
   "cell_type": "markdown",
   "metadata": {},
   "source": [
    "## import weights/params/thetas"
   ]
  },
  {
   "cell_type": "code",
   "execution_count": 34,
   "metadata": {},
   "outputs": [
    {
     "name": "stdout",
     "output_type": "stream",
     "text": [
      "Theta1: (25, 401)\n",
      "Theta2: (10, 26)\n"
     ]
    }
   ],
   "source": [
    "weights = loadmat('ex4weights.mat')\n",
    "Theta1, Theta2 = weights['Theta1'], weights['Theta2']\n",
    "print('Theta1:',Theta1.shape)\n",
    "print('Theta2:',Theta2.shape)"
   ]
  },
  {
   "cell_type": "code",
   "execution_count": 35,
   "metadata": {},
   "outputs": [],
   "source": [
    "input_layer_size = 400\n",
    "hidden_layer_size = 25\n",
    "output_layer_size = 10 \n",
    "num_labels = output_layer_size\n",
    "[m,n] = X.shape\n",
    "n_training_samples = m"
   ]
  },
  {
   "cell_type": "markdown",
   "metadata": {},
   "source": [
    "# functionS"
   ]
  },
  {
   "cell_type": "code",
   "execution_count": 36,
   "metadata": {},
   "outputs": [
    {
     "data": {
      "text/plain": [
       "0.3837698590909236"
      ]
     },
     "execution_count": 36,
     "metadata": {},
     "output_type": "execute_result"
    }
   ],
   "source": [
    "def sigmoid(z):\n",
    "    return(1 / (1 + np.exp(-z)))\n",
    "\n",
    "def sigmoidGradient(z):\n",
    "    return(sigmoid(z)*(1-sigmoid(z)))\n",
    "\n",
    "def computeCost(nn_params, input_layer_size, hidden_layer_size, num_labels, features, classes, reg):\n",
    "    \n",
    "    # When comparing to Octave code note that Python uses zero-indexed arrays.\n",
    "    # But because Numpy indexing does not include the right side, the code is the same anyway.\n",
    "    theta1 = nn_params[0:(hidden_layer_size*(input_layer_size+1))].reshape(hidden_layer_size,(input_layer_size+1))\n",
    "    theta2 = nn_params[(hidden_layer_size*(input_layer_size+1)):].reshape(num_labels,(hidden_layer_size+1))\n",
    "\n",
    "    m = features.shape[0]\n",
    "    y_matrix = pd.get_dummies(classes.ravel()).as_matrix() \n",
    "    \n",
    "    # Cost\n",
    "    a1 = features # 5000x401\n",
    "        \n",
    "    z2 = theta1.dot(a1.T) # 25x401 * 401x5000 = 25x5000 \n",
    "    a2 = np.c_[np.ones((features.shape[0],1)),sigmoid(z2.T)] # 5000x26 \n",
    "    \n",
    "    z3 = theta2.dot(a2.T) # 10x26 * 26x5000 = 10x5000 \n",
    "    a3 = sigmoid(z3) # 10x5000\n",
    "    \n",
    "    J = -1*(1/m)*np.sum((np.log(a3.T)*(y_matrix) + np.log(1-a3).T*(1-y_matrix))) + \\\n",
    "        (reg/(2*m))*(np.sum(np.square(theta1[:,1:])) + np.sum(np.square(theta2[:,1:])))\n",
    "\n",
    "    return(J)\n",
    "\n",
    "reg=1\n",
    "nn_params= np.r_[Theta1.ravel(),Theta2.ravel()]\n",
    "computeCost(nn_params, input_layer_size, hidden_layer_size, num_labels, X, y, reg)"
   ]
  },
  {
   "cell_type": "code",
   "execution_count": 37,
   "metadata": {},
   "outputs": [],
   "source": [
    "def backPropagate(nn_params, input_layer_size, hidden_layer_size, num_labels, features, classes, reg):\n",
    "    \n",
    "    # When comparing to Octave code note that Python uses zero-indexed arrays.\n",
    "    # But because Numpy indexing does not include the right side, the code is the same anyway.\n",
    "    theta1 = nn_params[0:(hidden_layer_size*(input_layer_size+1))].reshape(hidden_layer_size,(input_layer_size+1))\n",
    "    theta2 = nn_params[(hidden_layer_size*(input_layer_size+1)):].reshape(num_labels,(hidden_layer_size+1))\n",
    "\n",
    "    m = features.shape[0]\n",
    "    y_matrix = pd.get_dummies(classes.ravel()).as_matrix() \n",
    "    \n",
    "    # Cost\n",
    "    a1 = features # 5000x401\n",
    "        \n",
    "    z2 = theta1.dot(a1.T) # 25x401 * 401x5000 = 25x5000 \n",
    "    a2 = np.c_[np.ones((features.shape[0],1)),sigmoid(z2.T)] # 5000x26 \n",
    "    \n",
    "    z3 = theta2.dot(a2.T) # 10x26 * 26x5000 = 10x5000 \n",
    "    a3 = sigmoid(z3) # 10x5000\n",
    "    \n",
    "    # Gradients\n",
    "    d3 = a3.T - y_matrix # 5000x10\n",
    "    d2 = theta2[:,1:].T.dot(d3.T)*sigmoidGradient(z2) # 25x10 *10x5000 * 25x5000 = 25x5000\n",
    "    \n",
    "    delta1 = d2.dot(a1) # 25x5000 * 5000x401 = 25x401\n",
    "    delta2 = d3.T.dot(a2) # 10x5000 *5000x26 = 10x26\n",
    "    \n",
    "    theta1_ = np.c_[np.ones((theta1.shape[0],1)),theta1[:,1:]]\n",
    "    theta2_ = np.c_[np.ones((theta2.shape[0],1)),theta2[:,1:]]\n",
    "    \n",
    "    theta1_grad = delta1/m + (theta1_*reg)/m\n",
    "    theta2_grad = delta2/m + (theta2_*reg)/m\n",
    "\n",
    "    flattenedD1D2= np.r_[theta1_grad.ravel(),theta2_grad.ravel()]\n",
    "    \n",
    "    return(flattenedD1D2)"
   ]
  },
  {
   "cell_type": "markdown",
   "metadata": {},
   "source": [
    "# INITIAL PARAMS"
   ]
  },
  {
   "cell_type": "code",
   "execution_count": 38,
   "metadata": {},
   "outputs": [],
   "source": [
    "def createRandomParam(Lin,Lout):\n",
    "    #iParam = np.zeros((Lout,Lin+1))\n",
    "    eps = 0.12;\n",
    "    iParam = np.random.rand(Lout,Lin+1)* 2 * eps - eps;\n",
    "\n",
    "    return(iParam)"
   ]
  },
  {
   "cell_type": "code",
   "execution_count": 39,
   "metadata": {},
   "outputs": [],
   "source": [
    "iTheta1 = createRandomParam(input_layer_size,hidden_layer_size)\n",
    "iTheta2 = createRandomParam(hidden_layer_size,num_labels)\n",
    "initialParams= np.r_[iTheta1.ravel(),iTheta2.ravel()]"
   ]
  },
  {
   "cell_type": "markdown",
   "metadata": {},
   "source": [
    "# trainingData \n",
    "to get optimum weights/params"
   ]
  },
  {
   "cell_type": "code",
   "execution_count": 40,
   "metadata": {},
   "outputs": [],
   "source": [
    "def trainNN(initialParams,mylambda=0.):\n",
    "\n",
    "    result = scipy.optimize.fmin_cg(computeCost, x0=initialParams, fprime=backPropagate,args=(input_layer_size, hidden_layer_size, num_labels,X,y,mylambda),maxiter=50,disp=True,full_output=True)\n",
    "    return (result[0])"
   ]
  },
  {
   "cell_type": "code",
   "execution_count": 41,
   "metadata": {},
   "outputs": [
    {
     "name": "stdout",
     "output_type": "stream",
     "text": [
      "Warning: Maximum number of iterations has been exceeded.\n",
      "         Current function value: 0.263022\n",
      "         Iterations: 50\n",
      "         Function evaluations: 117\n",
      "         Gradient evaluations: 117\n"
     ]
    },
    {
     "data": {
      "text/plain": [
       "(10285,)"
      ]
     },
     "execution_count": 41,
     "metadata": {},
     "output_type": "execute_result"
    }
   ],
   "source": [
    "ThetaOpt = trainNN(initialParams)\n",
    "\n",
    "tOpt1 = ThetaOpt[0:(hidden_layer_size*(input_layer_size+1))].reshape(hidden_layer_size,(input_layer_size+1))\n",
    "tOpt2 = ThetaOpt[(hidden_layer_size*(input_layer_size+1)):].reshape(num_labels,(hidden_layer_size+1))\n",
    "ThetaOpt.shape"
   ]
  },
  {
   "cell_type": "code",
   "execution_count": 42,
   "metadata": {},
   "outputs": [
    {
     "data": {
      "text/plain": [
       "(25, 401)"
      ]
     },
     "execution_count": 42,
     "metadata": {},
     "output_type": "execute_result"
    }
   ],
   "source": [
    "tOpt1.shape"
   ]
  },
  {
   "cell_type": "code",
   "execution_count": 43,
   "metadata": {},
   "outputs": [
    {
     "data": {
      "text/plain": [
       "array([[-0.15631347,  0.04814506,  0.11755215, ..., -0.06562607,\n",
       "         0.07794564,  0.03725365],\n",
       "       [-1.11067637,  0.1061638 ,  0.00556913, ...,  0.05376182,\n",
       "         0.06035015, -0.03610017],\n",
       "       [ 0.13839467,  0.06340031,  0.04966773, ..., -0.07095192,\n",
       "         0.00614628, -0.0197774 ],\n",
       "       ...,\n",
       "       [-0.53167615,  0.04919119,  0.00637625, ..., -0.10781339,\n",
       "        -0.11532748, -0.07349469],\n",
       "       [-0.84517602,  0.01330328, -0.10952662, ...,  0.10582753,\n",
       "         0.00649984,  0.10107506],\n",
       "       [ 0.18937779,  0.10031221,  0.10585985, ...,  0.09120847,\n",
       "        -0.11921614,  0.01017577]])"
      ]
     },
     "execution_count": 43,
     "metadata": {},
     "output_type": "execute_result"
    }
   ],
   "source": [
    "tOpt1"
   ]
  },
  {
   "cell_type": "code",
   "execution_count": 44,
   "metadata": {},
   "outputs": [
    {
     "data": {
      "text/plain": [
       "(10, 26)"
      ]
     },
     "execution_count": 44,
     "metadata": {},
     "output_type": "execute_result"
    }
   ],
   "source": [
    "tOpt2.shape"
   ]
  },
  {
   "cell_type": "code",
   "execution_count": 45,
   "metadata": {
    "scrolled": true
   },
   "outputs": [
    {
     "data": {
      "text/plain": [
       "array([[-1.23436295, -0.88457366, -4.17172089, -2.14302836,  3.83227527,\n",
       "        -0.86735733, -1.89854671,  1.07079048,  1.26548936, -0.98257313,\n",
       "        -2.01625568,  1.57348632,  1.72052287,  1.52379695,  1.01515122,\n",
       "        -1.46920584, -0.0100641 ,  0.99717459, -1.30057783, -2.75243892,\n",
       "        -0.78538374, -2.6397266 , -1.35611556, -2.00087964, -1.75039646,\n",
       "         2.26475355],\n",
       "       [-1.59290789, -1.39755351,  0.63757806, -1.21508766, -1.77067314,\n",
       "        -0.37237966,  0.89989333, -1.98103919,  1.05507536, -2.04086235,\n",
       "        -1.93279077, -0.20435047, -0.29320825,  2.43620006,  0.76008113,\n",
       "        -3.25838187, -2.84337104,  1.39118386, -3.99549898,  2.77250322,\n",
       "        -1.16172906, -2.38343301,  0.35043226,  0.2796903 ,  2.82893569,\n",
       "        -2.10162599],\n",
       "       [-0.88366247,  0.12268781, -2.84750342, -2.99118973, -1.00230217,\n",
       "         2.92010933, -0.25979533, -0.75846717, -0.95674307, -0.84447855,\n",
       "         1.33003543,  0.20819146, -1.45780495, -1.18316446, -3.61959755,\n",
       "        -0.85761992, -2.27435226,  1.13137014,  0.97545438, -1.05811682,\n",
       "         0.03241488, -3.46179577,  2.04340146, -0.43805064, -3.03602419,\n",
       "        -2.15037698],\n",
       "       [-1.75497626, -5.1456663 , -2.26850632,  2.72863302, -0.3657175 ,\n",
       "        -3.41955577,  1.75517989,  0.97002594, -2.71132092,  0.41064665,\n",
       "        -2.83583082, -1.74816975, -1.01772703,  1.58574083, -1.29766499,\n",
       "         2.0560092 ,  2.46086533, -1.5933788 ,  1.875299  ,  0.63057849,\n",
       "        -1.65651907, -1.60023557, -2.63040342,  1.04839119, -0.7129148 ,\n",
       "        -0.88250112],\n",
       "       [-2.45880374, -0.85910652, -1.24717731,  0.27737511, -1.09823509,\n",
       "        -1.6352209 , -2.61317952,  1.82991532, -2.71842553,  4.18058804,\n",
       "         0.36037622, -2.66727574, -2.21137771, -1.00442903,  0.97500608,\n",
       "        -2.10315113, -2.19976729,  4.73492591, -0.36985674, -1.14826413,\n",
       "         1.83523368,  1.35837377, -2.42587105, -1.17255615, -3.53728777,\n",
       "         2.27135597],\n",
       "       [-1.63642305, -1.97287413, -0.05833175, -0.99521748, -0.43928314,\n",
       "        -2.23736874, -3.17846816, -0.9904475 ,  3.24082223,  0.46688811,\n",
       "        -3.69274449,  1.5941938 , -1.64755321, -1.93128899, -0.60320156,\n",
       "        -0.68011221, -2.74337575, -2.84242467,  1.50254281, -0.38779693,\n",
       "        -1.36294651,  2.56500459, -2.27332454,  3.86154313, -0.38695007,\n",
       "         1.31226093],\n",
       "       [-1.1040743 ,  2.13622495,  1.53122326,  2.86700759, -1.26608072,\n",
       "         0.88200859, -2.43684812, -0.1614007 , -0.22785267, -1.72761409,\n",
       "         0.95945249, -1.82455861,  3.12602711, -0.57551258, -2.50334115,\n",
       "         2.08270206,  2.08793884, -1.75138723, -3.87928497,  0.69038959,\n",
       "         0.87643889, -2.23010296, -2.43216742, -1.28501228, -0.94508085,\n",
       "        -0.67991282],\n",
       "       [-1.69466068, -2.58376026,  2.45584302, -2.32668074, -1.05356181,\n",
       "        -2.73132514,  0.40048915, -2.47910736, -2.96507055, -2.86960317,\n",
       "        -1.12178046, -0.60262733, -1.37632789, -2.07593722,  2.59157867,\n",
       "        -3.71786903,  3.54313385,  0.6552746 ,  1.56573654, -2.77910496,\n",
       "        -2.58541073, -0.59446188,  0.51129611, -1.6985995 , -2.04273619,\n",
       "        -1.89725401],\n",
       "       [-1.56999273,  4.29808994, -2.74859779, -4.20143623, -0.36894842,\n",
       "        -2.81202018, -0.650913  , -0.56668215, -1.65122903, -2.27609381,\n",
       "        -0.14467568,  0.24716962, -1.60659592, -2.35349209, -1.1200161 ,\n",
       "         1.96246261,  0.65487589, -1.60163847,  2.11114311, -0.44399898,\n",
       "        -1.44398104,  2.72248009, -2.19454263, -3.24383615,  0.73297117,\n",
       "         0.7448466 ],\n",
       "       [-1.41058382,  0.4067749 ,  2.36240385,  0.25362296, -1.47034099,\n",
       "        -0.05963604,  1.08370526,  0.10938988, -2.29013022,  1.320371  ,\n",
       "         0.04623186, -2.33106998, -0.85666767, -1.33331109, -1.01274268,\n",
       "        -1.4924338 , -2.53351052, -5.64492362, -2.89236702, -1.55667545,\n",
       "         1.54508949,  1.49195271,  1.68882414, -1.1857314 ,  1.43711078,\n",
       "        -1.70025385]])"
      ]
     },
     "execution_count": 45,
     "metadata": {},
     "output_type": "execute_result"
    }
   ],
   "source": [
    "tOpt2"
   ]
  },
  {
   "cell_type": "code",
   "execution_count": 46,
   "metadata": {},
   "outputs": [],
   "source": [
    "def prediction(X,thetaOpt1,thetaOpt2):\n",
    "    [m,n] = X.shape\n",
    "    #p = np.zeros((m,1))\n",
    "    \n",
    "    #thetaOpt1 = 25x401\n",
    "    #thetaOpt2 = 10x26\n",
    "    \n",
    "    a1 = X #5000x401\n",
    "    a2 = sigmoid(X.dot(thetaOpt1.T) ) #5000x25\n",
    "    hypo = sigmoid(np.c_[np.ones((a2.shape[0],1)),a2].dot(thetaOpt2.T)) #5000x10\n",
    "    \n",
    "    opt = (np.argmax(hypo, axis=1))+1\n",
    "    opt = opt.reshape(-1,1)\n",
    "    return(opt)  "
   ]
  },
  {
   "cell_type": "code",
   "execution_count": 47,
   "metadata": {},
   "outputs": [
    {
     "name": "stdout",
     "output_type": "stream",
     "text": [
      "accuracy NN=96.89999999999999%\n"
     ]
    }
   ],
   "source": [
    "#OUR FUNCTION\n",
    "# pred = prediction(X,thetaOpt1,thetaOpt2)\n",
    "\n",
    "# THETA OPTIMUM OCTAVE\n",
    "pred = prediction(X,tOpt1,tOpt2)\n",
    "accuracy = np.mean(pred==y)*100\n",
    "print('accuracy NN={}%'.format(accuracy))"
   ]
  },
  {
   "cell_type": "markdown",
   "metadata": {},
   "source": [
    "<h2>\n",
    "    kalo mau dilakukan perbandingan, <b>lakukan reshape!!</b>< br>\n",
    "    \n",
    "    contoh:<br> \n",
    "        pred = (5000,)<br>\n",
    "        y = (5000,1)<br>\n",
    "        \n",
    "        ERRORRR!!<br>\n",
    "        \n",
    "        DO IT: pred.reshape(-1,1)\n",
    "        \n",
    "</h2>"
   ]
  }
 ],
 "metadata": {
  "kernelspec": {
   "display_name": "Python 3",
   "language": "python",
   "name": "python3"
  },
  "language_info": {
   "codemirror_mode": {
    "name": "ipython",
    "version": 3
   },
   "file_extension": ".py",
   "mimetype": "text/x-python",
   "name": "python",
   "nbconvert_exporter": "python",
   "pygments_lexer": "ipython3",
   "version": "3.6.8"
  }
 },
 "nbformat": 4,
 "nbformat_minor": 2
}
