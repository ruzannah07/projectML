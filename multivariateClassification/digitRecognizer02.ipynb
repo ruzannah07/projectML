{
 "cells": [
  {
   "cell_type": "code",
   "execution_count": 56,
   "metadata": {},
   "outputs": [],
   "source": [
    "# from sklearn import datasets\n",
    "\n",
    "# data = datasets.load_iris()\n",
    "# data.keys()\n",
    "\n",
    "# def FeatureNormalize(X):\n",
    "#     mu = X.mean(axis=0)\n",
    "#     sigma = X.std(axis=0)\n",
    "#     [m,n]=X.shape\n",
    "#     t = np.ones((m,n))\n",
    "    \n",
    "#     Xnorm = (X-(t*mu))/(t*sigma)\n",
    "    \n",
    "#     return(Xnorm)\n",
    "\n",
    "# def to_one_hot(Y):\n",
    "#     n_col = np.amax(Y) + 1\n",
    "#     binarized = np.zeros((len(Y), n_col))\n",
    "#     for i in range(len(Y)):\n",
    "#         binarized[i, Y[i]] = 1.\n",
    "#     return binarized\n",
    "\n",
    "# #Convert one-hot encoding to array\n",
    "# def from_one_hot(Y):\n",
    "#     arr = np.zeros((len(Y), 1))\n",
    "\n",
    "#     for i in range(len(Y)):\n",
    "#         l = layer2[i]\n",
    "#         for j in range(len(l)):\n",
    "#             if(l[j] == 1):\n",
    "#                 arr[i] = j+1\n",
    "#     return arr\n",
    "\n",
    "\n",
    "# # Feature Linear\n",
    "# X = np.c_[np.ones((data['data'].shape[0])),data['data']]\n",
    "# X = FeatureNormalize(X)\n",
    "\n",
    "# y = data['target'].reshape(-1,1)\n",
    "# # y = y.flatten()\n",
    "# # y = to_one_hot(y)\n",
    "\n",
    "# print('X:',X.shape, '(with intercept)')\n",
    "# print('y:',y.shape)"
   ]
  },
  {
   "cell_type": "code",
   "execution_count": 57,
   "metadata": {},
   "outputs": [],
   "source": [
    "# %load ../../../standard_import.txt\n",
    "import pandas as pd\n",
    "import numpy as np\n",
    "import matplotlib as mpl\n",
    "import matplotlib.pyplot as plt\n",
    "import warnings\n",
    "warnings.filterwarnings('ignore')\n",
    "\n",
    "# load MATLAB files\n",
    "from scipy.io import loadmat\n",
    "\n",
    "pd.set_option('display.notebook_repr_html', False)\n",
    "pd.set_option('display.max_columns', None)\n",
    "pd.set_option('display.max_rows', 150)\n",
    "pd.set_option('display.max_seq_items', None)\n",
    " \n",
    "#%config InlineBackend.figure_formats = {'pdf',}\n",
    "%matplotlib inline\n",
    "\n",
    "import seaborn as sns\n",
    "sns.set_context('notebook')\n",
    "sns.set_style('darkgrid')"
   ]
  },
  {
   "cell_type": "code",
   "execution_count": 58,
   "metadata": {},
   "outputs": [
    {
     "data": {
      "text/plain": [
       "dict_keys(['__header__', '__version__', '__globals__', 'X', 'y'])"
      ]
     },
     "execution_count": 58,
     "metadata": {},
     "output_type": "execute_result"
    }
   ],
   "source": [
    "data = loadmat('ex4data1.mat')\n",
    "data.keys()"
   ]
  },
  {
   "cell_type": "code",
   "execution_count": 59,
   "metadata": {},
   "outputs": [
    {
     "name": "stdout",
     "output_type": "stream",
     "text": [
      "X: (5000, 401) (with intercept)\n",
      "y: (5000, 1)\n"
     ]
    }
   ],
   "source": [
    "y = data['y']\n",
    "# Add intercept\n",
    "X = np.c_[np.ones((data['X'].shape[0],1)), data['X']]\n",
    "\n",
    "print('X:',X.shape, '(with intercept)')\n",
    "print('y:',y.shape)"
   ]
  },
  {
   "cell_type": "code",
   "execution_count": 60,
   "metadata": {},
   "outputs": [],
   "source": [
    "# weights = loadmat('ex4weights.mat')\n",
    "# weights.keys()"
   ]
  },
  {
   "cell_type": "code",
   "execution_count": 61,
   "metadata": {},
   "outputs": [],
   "source": [
    "# theta1, theta2 = weights['Theta1'], weights['Theta2']\n",
    "# print('theta1 :', theta1.shape)\n",
    "# print('theta2 :', theta2.shape)\n",
    "# params = np.r_[theta1.ravel(), theta2.ravel()]\n",
    "# print('params :', params.shape)"
   ]
  },
  {
   "cell_type": "code",
   "execution_count": 62,
   "metadata": {},
   "outputs": [],
   "source": [
    "inputLs=400\n",
    "hiddenLs=25\n",
    "numLabels=10"
   ]
  },
  {
   "cell_type": "markdown",
   "metadata": {},
   "source": [
    "# initial Params"
   ]
  },
  {
   "cell_type": "code",
   "execution_count": 63,
   "metadata": {},
   "outputs": [],
   "source": [
    "def createRandomParam(Lin,Lout):\n",
    "    #iParam = np.zeros((Lout,Lin+1))\n",
    "    eps = 0.12;\n",
    "    iParam = np.random.rand(Lout,Lin+1)* 2 * eps - eps;\n",
    "\n",
    "    return(iParam)"
   ]
  },
  {
   "cell_type": "code",
   "execution_count": 64,
   "metadata": {},
   "outputs": [
    {
     "name": "stdout",
     "output_type": "stream",
     "text": [
      "iTheta1 (25, 401)\n",
      "iTheta2 (10, 26)\n",
      "initialParams (10285,)\n"
     ]
    },
    {
     "data": {
      "text/plain": [
       "numpy.ndarray"
      ]
     },
     "execution_count": 64,
     "metadata": {},
     "output_type": "execute_result"
    }
   ],
   "source": [
    "iTheta1 = createRandomParam(inputLs,hiddenLs)\n",
    "iTheta2 = createRandomParam(hiddenLs,numLabels)\n",
    "initialParams= np.r_[iTheta1.ravel(),iTheta2.ravel()]\n",
    "print('iTheta1',iTheta1.shape)\n",
    "print('iTheta2',iTheta2.shape)\n",
    "print('initialParams',initialParams.shape)\n",
    "type(iTheta1)"
   ]
  },
  {
   "cell_type": "markdown",
   "metadata": {},
   "source": [
    "<b>Neural Network</b> <br>\n",
    "Input layer size = 400 (20x20 pixels)  <br>\n",
    "Hidden layer size = 25 <br>\n",
    "Number of labels = 10 <br>"
   ]
  },
  {
   "cell_type": "markdown",
   "metadata": {},
   "source": [
    "# Neural Networks - Feed Forward and Cost Function"
   ]
  },
  {
   "cell_type": "code",
   "execution_count": 65,
   "metadata": {},
   "outputs": [],
   "source": [
    "def sigmoid(z):\n",
    "    return(1 / (1 + np.exp(-z)))"
   ]
  },
  {
   "cell_type": "code",
   "execution_count": 66,
   "metadata": {},
   "outputs": [],
   "source": [
    "def sigmoidGradient(z):\n",
    "    return(sigmoid(z)*(1-sigmoid(z)))"
   ]
  },
  {
   "cell_type": "code",
   "execution_count": 67,
   "metadata": {},
   "outputs": [],
   "source": [
    "def getOptTheta(nn_params, input_layer_size, hidden_layer_size, num_labels, features, classes, reg,alpha,num_iter):\n",
    "    \n",
    "    # When comparing to Octave code note that Python uses zero-indexed arrays.\n",
    "    # But because Numpy indexing does not include the right side, the code is the same anyway.\n",
    "    theta1 = nn_params[0:(hidden_layer_size*(input_layer_size+1))].reshape(hidden_layer_size,(input_layer_size+1))\n",
    "    theta2 = nn_params[(hidden_layer_size*(input_layer_size+1)):].reshape(num_labels,(hidden_layer_size+1))\n",
    "\n",
    "    m = features.shape[0]\n",
    "    y_matrix = pd.get_dummies(classes.ravel()).as_matrix() \n",
    "    \n",
    "    for i in np.arange(num_iter):\n",
    "        # Cost\n",
    "        a1 = features # 5000x401\n",
    "\n",
    "        z2 = theta1.dot(a1.T) # 25x401 * 401x5000 = 25x5000 \n",
    "        a2 = np.c_[np.ones((features.shape[0],1)),sigmoid(z2.T)] # 5000x26 \n",
    "\n",
    "        z3 = theta2.dot(a2.T) # 10x26 * 26x5000 = 10x5000 \n",
    "        a3 = sigmoid(z3) # 10x5000\n",
    "\n",
    "        #J = -1*(1/m)*np.sum((np.log(a3.T)*(y_matrix) + np.log(1-a3).T*(1-y_matrix))) + \\\n",
    "        #    (reg/(2*m))*(np.sum(np.square(theta1[:,1:])) + np.sum(np.square(theta2[:,1:])))\n",
    "\n",
    "        # Gradients\n",
    "        d3 = a3.T - y_matrix # 5000x10\n",
    "        d2 = theta2[:,1:].T.dot(d3.T)*sigmoidGradient(z2) # 25x10 *10x5000 * 25x5000 = 25x5000\n",
    "\n",
    "        delta1 = d2.dot(a1) # 25x5000 * 5000x401 = 25x401\n",
    "        delta2 = d3.T.dot(a2) # 10x5000 *5000x26 = 10x26\n",
    "\n",
    "        theta1_ = np.c_[np.ones((theta1.shape[0],1)),theta1[:,1:]]\n",
    "        theta2_ = np.c_[np.ones((theta2.shape[0],1)),theta2[:,1:]]\n",
    "\n",
    "        theta1_grad = delta1/m + (theta1_*reg)/m\n",
    "        theta2_grad = delta2/m + (theta2_*reg)/m\n",
    "\n",
    "        theta1 = theta1 - (alpha*theta1_grad)\n",
    "        theta2 = theta2 - (alpha*theta2_grad)\n",
    "        \n",
    "    return(theta1,theta2)"
   ]
  },
  {
   "cell_type": "code",
   "execution_count": null,
   "metadata": {},
   "outputs": [],
   "source": [
    "# inputLs=400\n",
    "# hiddenLs=25\n",
    "# numLabels=10\n",
    "# inputLs=4\n",
    "# hiddenLs=25\n",
    "# numLabels=3\n",
    "#-------\n",
    "reg=0\n",
    "alpha=0.1\n",
    "numIter=15000\n",
    "\n",
    "tOpt1,tOpt2 = getOptTheta(initialParams,inputLs,hiddenLs,numLabels,X,y,reg,alpha,numIter)"
   ]
  },
  {
   "cell_type": "code",
   "execution_count": null,
   "metadata": {},
   "outputs": [],
   "source": [
    "# initialThetaTxt = np.loadtxt('iTheta.txt')\n",
    "# input_layer_size=400\n",
    "# hidden_layer_size=25\n",
    "# num_labels=10\n",
    "\n",
    "# tOpt1 = initialThetaTxt[0:(hidden_layer_size*(input_layer_size+1))].reshape(hidden_layer_size,(input_layer_size+1))\n",
    "# tOpt2 = initialThetaTxt[(hidden_layer_size*(input_layer_size+1)):].reshape(num_labels,(hidden_layer_size+1))"
   ]
  },
  {
   "cell_type": "code",
   "execution_count": null,
   "metadata": {},
   "outputs": [],
   "source": [
    "tOpt1.shape"
   ]
  },
  {
   "cell_type": "code",
   "execution_count": null,
   "metadata": {},
   "outputs": [],
   "source": [
    "tOpt1"
   ]
  },
  {
   "cell_type": "code",
   "execution_count": null,
   "metadata": {},
   "outputs": [],
   "source": [
    "tOpt2.shape"
   ]
  },
  {
   "cell_type": "code",
   "execution_count": null,
   "metadata": {},
   "outputs": [],
   "source": [
    "tOpt2"
   ]
  },
  {
   "cell_type": "markdown",
   "metadata": {},
   "source": [
    "# Prediction"
   ]
  },
  {
   "cell_type": "code",
   "execution_count": null,
   "metadata": {},
   "outputs": [],
   "source": [
    "def prediction(X,thetaOpt1,thetaOpt2):\n",
    "    [m,n] = X.shape\n",
    "    #p = np.zeros((m,1))\n",
    "    \n",
    "    #thetaOpt1 = 25x401\n",
    "    #thetaOpt2 = 10x26\n",
    "    \n",
    "    a1 = X #5000x401\n",
    "    a2 = sigmoid(X.dot(thetaOpt1.T) ) #5000x25\n",
    "    hypo = sigmoid(np.c_[np.ones((a2.shape[0],1)),a2].dot(thetaOpt2.T)) #5000x10\n",
    "    \n",
    "    opt = (np.argmax(hypo, axis=1))+1\n",
    "    opt = opt.reshape(-1,1)\n",
    "    return(opt)  "
   ]
  },
  {
   "cell_type": "code",
   "execution_count": null,
   "metadata": {},
   "outputs": [],
   "source": [
    "#OUR FUNCTION\n",
    "# pred = prediction(X,thetaOpt1,thetaOpt2)\n",
    "\n",
    "# THETA OPTIMUM OCTAVE\n",
    "pred = prediction(X,tOpt1,tOpt2)\n",
    "accuracy = np.mean(pred==y)*100\n",
    "print('accuracy NN={}%'.format(accuracy))"
   ]
  }
 ],
 "metadata": {
  "kernelspec": {
   "display_name": "Python 3",
   "language": "python",
   "name": "python3"
  },
  "language_info": {
   "codemirror_mode": {
    "name": "ipython",
    "version": 3
   },
   "file_extension": ".py",
   "mimetype": "text/x-python",
   "name": "python",
   "nbconvert_exporter": "python",
   "pygments_lexer": "ipython3",
   "version": "3.6.8"
  }
 },
 "nbformat": 4,
 "nbformat_minor": 2
}
