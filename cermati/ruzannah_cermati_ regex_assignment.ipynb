{
 "cells": [
  {
   "cell_type": "code",
   "execution_count": 84,
   "metadata": {},
   "outputs": [],
   "source": [
    "import re #Regular Expression/REGEX\n",
    "import pandas as pd\n",
    "import numpy as np\n",
    "import matplotlib.pyplot as plt\n",
    "import seaborn as sns\n",
    "import warnings\n",
    "warnings.filterwarnings('ignore')"
   ]
  },
  {
   "cell_type": "code",
   "execution_count": 85,
   "metadata": {},
   "outputs": [],
   "source": [
    "xl_file = pd.ExcelFile('Regex Interview Set.xlsx')\n",
    "dfs = {sheet_name: xl_file.parse(sheet_name) \n",
    "          for sheet_name in xl_file.sheet_names}\n",
    "data = dfs['Sheet1']"
   ]
  },
  {
   "cell_type": "code",
   "execution_count": 86,
   "metadata": {
    "scrolled": true
   },
   "outputs": [
    {
     "data": {
      "text/html": [
       "<div>\n",
       "<style scoped>\n",
       "    .dataframe tbody tr th:only-of-type {\n",
       "        vertical-align: middle;\n",
       "    }\n",
       "\n",
       "    .dataframe tbody tr th {\n",
       "        vertical-align: top;\n",
       "    }\n",
       "\n",
       "    .dataframe thead th {\n",
       "        text-align: right;\n",
       "    }\n",
       "</style>\n",
       "<table border=\"1\" class=\"dataframe\">\n",
       "  <thead>\n",
       "    <tr style=\"text-align: right;\">\n",
       "      <th></th>\n",
       "      <th>Content</th>\n",
       "      <th>Comment</th>\n",
       "      <th>Expected Label</th>\n",
       "    </tr>\n",
       "  </thead>\n",
       "  <tbody>\n",
       "    <tr>\n",
       "      <th>0</th>\n",
       "      <td>Yth Bpk/Ibu kntrk kredit Anda sdh jth tmpo</td>\n",
       "      <td>Sudah jatuh tempo, berarti layak kena label.</td>\n",
       "      <td>LATE</td>\n",
       "    </tr>\n",
       "    <tr>\n",
       "      <th>1</th>\n",
       "      <td>Tagihan KreditPikachu Rp136.680,0 terlambat ba...</td>\n",
       "      <td>Terlambat bayar, berarti layak kena label.</td>\n",
       "      <td>LATE</td>\n",
       "    </tr>\n",
       "    <tr>\n",
       "      <th>2</th>\n",
       "      <td>NasabahYth, KK MasterCard Gold anda tlh jatuh ...</td>\n",
       "      <td>Telah jatuh tempo, berarti layak kena label.</td>\n",
       "      <td>LATE</td>\n",
       "    </tr>\n",
       "    <tr>\n",
       "      <th>3</th>\n",
       "      <td>Byr lunas hr ini Rp1600000 agar denda tidak be...</td>\n",
       "      <td>Karena perlu membayar hari ini agar denda tida...</td>\n",
       "      <td>LATE</td>\n",
       "    </tr>\n",
       "    <tr>\n",
       "      <th>4</th>\n",
       "      <td>Tagihan KreditRaichu Rp777.000,0 terlambat bay...</td>\n",
       "      <td>Terlambat bayar, berarti layak kena label.</td>\n",
       "      <td>LATE</td>\n",
       "    </tr>\n",
       "  </tbody>\n",
       "</table>\n",
       "</div>"
      ],
      "text/plain": [
       "                                             Content  \\\n",
       "0         Yth Bpk/Ibu kntrk kredit Anda sdh jth tmpo   \n",
       "1  Tagihan KreditPikachu Rp136.680,0 terlambat ba...   \n",
       "2  NasabahYth, KK MasterCard Gold anda tlh jatuh ...   \n",
       "3  Byr lunas hr ini Rp1600000 agar denda tidak be...   \n",
       "4  Tagihan KreditRaichu Rp777.000,0 terlambat bay...   \n",
       "\n",
       "                                             Comment Expected Label  \n",
       "0       Sudah jatuh tempo, berarti layak kena label.           LATE  \n",
       "1         Terlambat bayar, berarti layak kena label.           LATE  \n",
       "2       Telah jatuh tempo, berarti layak kena label.           LATE  \n",
       "3  Karena perlu membayar hari ini agar denda tida...           LATE  \n",
       "4         Terlambat bayar, berarti layak kena label.           LATE  "
      ]
     },
     "execution_count": 86,
     "metadata": {},
     "output_type": "execute_result"
    }
   ],
   "source": [
    "data.head(5)"
   ]
  },
  {
   "cell_type": "code",
   "execution_count": 87,
   "metadata": {},
   "outputs": [],
   "source": [
    "korpus=[]\n",
    "for i in range(0,len(data)):\n",
    "    review = re.sub('[^a-zA-Z]', ' ',data.iloc[i,0])\n",
    "    review = review.lower()\n",
    "    korpus.append(review)\n",
    "    \n",
    "data['Content'] = korpus"
   ]
  },
  {
   "cell_type": "code",
   "execution_count": 88,
   "metadata": {},
   "outputs": [],
   "source": [
    "korpus=[]\n",
    "for i in range(0,len(data)):\n",
    "    review = re.sub('\\s\\w\\s\\w+',' masuk',data.iloc[i,0])\n",
    "    \n",
    "    review = re.sub('kntrk', ' kontrak ' ,review)\n",
    "    review = re.sub('sdh', ' sudah ' ,review)\n",
    "    review = re.sub('jth', ' jatuh ' ,review)\n",
    "    review = re.sub('tmpo', ' tempo ' ,review)\n",
    "    \n",
    "    review = re.sub('\\w*ingat\\w*',' ingat ',review)\n",
    "    review = re.sub('\\w*hindar\\w*',' hindar ',review)\n",
    "    review = re.sub('\\w*utk\\w*', 'untuk ',review)\n",
    "    review = re.sub('\\w*t+m+b+\\w*',' tambah ',review)\n",
    "    review = re.sub('\\w*sgr\\w*',' segera ',review)\n",
    "    review = re.sub('\\w*angsur\\w*',' angsuran ',review)\n",
    "    \n",
    "    review = re.sub('\\srp\\s',' rupiah ',review)\n",
    "    review = re.sub('(\\w*kredit)',' kredit ',review)\n",
    "    review = re.sub('nasabah',' nasabah ',review)\n",
    "    review = re.sub('tlh',' telah ',review)\n",
    "    review = re.sub('\\skk\\s',' kartu kredit ',review)\n",
    "    review = re.sub('\\spd\\s',' pada ',review)\n",
    "    \n",
    "    review = re.sub('\\w*tambah\\w*',' tambah ',review)\n",
    "    review = re.sub('\\w*panjang\\w*',' panjang ',review)\n",
    "    review = re.sub('\\s+hr\\s+',' hari ',review)\n",
    "    \n",
    "    review = re.sub('raichu', ' pickachu' ,review)\n",
    "    review = re.sub('\\w*lambat\\w*',' lambat ' ,review)\n",
    "    \n",
    "    review = re.sub('\\w*bayar\\w*',' bayar ' ,review)\n",
    "    \n",
    "    #6\n",
    "    review = re.sub('\\w*gmn\\w*', ' gimana ' ,review)\n",
    "    review = re.sub('\\w*pika\\w*',' pikachu ' ,review)\n",
    "    review = re.sub('\\w*uang\\w*',' uang ' ,review)\n",
    "    \n",
    "    review = re.sub('\\w*belum\\w*', ' belum ' ,review)\n",
    "    \n",
    "    review = re.sub('\\w*tgl\\w*', ' tanggal ' ,review)\n",
    "    review = re.sub('\\w*sambung\\w*',' sambung ' ,review)\n",
    "    \n",
    "    review = re.sub('\\w*bpk\\w*', ' bpk ' ,review)\n",
    "    review = re.sub('\\sama\\s', ' sama ' ,review)\n",
    "    \n",
    "    review = re.sub('akn', ' akan ' ,review)\n",
    "    \n",
    "    review = re.sub('\\ssy\\s', ' saya ' ,review)\n",
    "    \n",
    "    review = re.sub('masukkan', ' masuk ' ,review)\n",
    "    review = re.sub('dgn', ' dengan ' ,review)\n",
    "    \n",
    "    review = re.sub('bpk', ' bapak ' ,review)\n",
    "    review = re.sub('telpun', ' telepon ' ,review)\n",
    "    review = re.sub('\\s*byr\\s*',' bayar ',review)\n",
    "    #NEW\n",
    "    review = re.sub('\\w*guna\\w*',' guna ' ,review)\n",
    "    review = re.sub('\\w*karena\\w*',' karena ' ,review)\n",
    "    review = re.sub('\\w*harga\\w*',' harga ' ,review)\n",
    "    review = re.sub('\\w*hubung\\w*',' hubung ' ,review)\n",
    "    review = re.sub('\\w*unggu\\w*',' tunggu ' ,review)\n",
    "\n",
    "    review = re.sub('\\w*cek\\w*',' cek ' ,review)\n",
    "    review = re.sub('pickachu',' pikachu ' ,review)\n",
    "\n",
    "    review = re.sub('\\w*pok\\smon\\w*',' pokemon ' ,review)\\\n",
    "\n",
    "    review = re.sub('\\w*yg\\w*',' yang ' ,review)\n",
    "    review = re.sub('\\s\\s+',' ',review)\n",
    "    korpus.append(review)\n",
    "    \n",
    "data['Content'] = korpus    "
   ]
  },
  {
   "cell_type": "code",
   "execution_count": 89,
   "metadata": {},
   "outputs": [
    {
     "data": {
      "text/plain": [
       "[[],\n",
       " [],\n",
       " [],\n",
       " [],\n",
       " [],\n",
       " [],\n",
       " [],\n",
       " [],\n",
       " [' ke '],\n",
       " [],\n",
       " [],\n",
       " [' di ', ' di ', ' di '],\n",
       " [],\n",
       " [],\n",
       " [],\n",
       " [],\n",
       " [' tv ', ' ly '],\n",
       " [' ke '],\n",
       " [],\n",
       " [' ke ']]"
      ]
     },
     "execution_count": 89,
     "metadata": {},
     "output_type": "execute_result"
    }
   ],
   "source": [
    "# cek apakah 2 huruf itu adalah kata yang penting\n",
    "cekkorpus=[]\n",
    "for i in range(0,len(data)):\n",
    "    \n",
    "    regex_num = re.compile('\\s\\w{1,2}\\s') \n",
    "    tigahuruf =  regex_num.findall(data.iloc[i,0])\n",
    "    \n",
    "    cekkorpus.append(tigahuruf)\n",
    "cekkorpus"
   ]
  },
  {
   "cell_type": "code",
   "execution_count": 90,
   "metadata": {},
   "outputs": [],
   "source": [
    "newkorpus=[]\n",
    "for i in range(0,len(data)):\n",
    "    review = re.sub('\\s\\w{1,2}\\s','',data.iloc[i,0])\n",
    "    \n",
    "    review = re.sub('\\s\\s+',' ',review)\n",
    "    newkorpus.append(review)\n",
    "    \n",
    "data['Content'] = newkorpus   "
   ]
  },
  {
   "cell_type": "code",
   "execution_count": 91,
   "metadata": {},
   "outputs": [
    {
     "data": {
      "text/plain": [
       "[[' ibu '],\n",
       " [],\n",
       " [' yth '],\n",
       " [' ini '],\n",
       " [],\n",
       " [],\n",
       " [' ibu ', ' ini '],\n",
       " [' ibu '],\n",
       " [],\n",
       " [],\n",
       " [],\n",
       " [' ini ', ' mau ', ' kan ', ' ini ', ' yah ', ' mau ', ' nya ', ' mau '],\n",
       " [' gak ', ' kok ', ' non ', ' non '],\n",
       " [' ibu ', ' bni '],\n",
       " [],\n",
       " [' pak '],\n",
       " [' bbq ', ' des '],\n",
       " [' ini ', ' ada ', ' cek '],\n",
       " [],\n",
       " [' sms ', ' sms ']]"
      ]
     },
     "execution_count": 91,
     "metadata": {},
     "output_type": "execute_result"
    }
   ],
   "source": [
    "# cek apakah 3 huruf itu adalah kata yang penting\n",
    "cekkorpus=[]\n",
    "for i in range(0,len(data)):\n",
    "    \n",
    "    regex_num = re.compile('\\s\\w{1,3}\\s') \n",
    "    tigahuruf =  regex_num.findall(data.iloc[i,0])\n",
    "    \n",
    "    cekkorpus.append(tigahuruf)\n",
    "cekkorpus\n",
    "#lumayan. let it be"
   ]
  },
  {
   "cell_type": "markdown",
   "metadata": {},
   "source": [
    "# CLASSIFICATION"
   ]
  },
  {
   "cell_type": "code",
   "execution_count": 92,
   "metadata": {},
   "outputs": [],
   "source": [
    "data['label'] = 0\n",
    "for i in np.arange(len(data)):\n",
    "    if data.iloc[i,2] == 'LATE':\n",
    "        data.iloc[i,3] = 1\n",
    "    else:\n",
    "        data.iloc[i,3] = 0"
   ]
  },
  {
   "cell_type": "code",
   "execution_count": 93,
   "metadata": {},
   "outputs": [],
   "source": [
    "from sklearn.metrics import accuracy_score\n",
    "from sklearn.feature_extraction.text import CountVectorizer\n",
    "cv = CountVectorizer(max_features=110)\n",
    "\n",
    "corpus = list(data['Content'])\n",
    "\n",
    "X = cv.fit_transform(corpus).toarray()\n",
    "y = data.iloc[:,3:4].values\n",
    "\n",
    "from sklearn.model_selection import train_test_split\n",
    "X_train, X_test, y_train, y_test = train_test_split(X,y, test_size=0.2, random_state=0)"
   ]
  },
  {
   "cell_type": "markdown",
   "metadata": {},
   "source": [
    "# modelling"
   ]
  },
  {
   "cell_type": "code",
   "execution_count": 102,
   "metadata": {},
   "outputs": [
    {
     "name": "stdout",
     "output_type": "stream",
     "text": [
      "akurasi Logistic Regression: 1.0\n",
      "Confusion Matrix LogReg:\n",
      "[[3 0]\n",
      " [0 1]]\n"
     ]
    }
   ],
   "source": [
    "from sklearn.linear_model import LogisticRegression\n",
    "logs = LogisticRegression()\n",
    "b_model = logs.fit(X_train, y_train)\n",
    "\n",
    "b_pred = b_model.predict(X_test)\n",
    "b_acc = accuracy_score(y_test, b_pred)\n",
    "print(\"akurasi Logistic Regression:\", b_acc)\n",
    "\n",
    "cm = confusion_matrix(y_test, b_pred)\n",
    "\n",
    "print(\"Confusion Matrix LogReg:\")\n",
    "print(cm)"
   ]
  },
  {
   "cell_type": "code",
   "execution_count": 95,
   "metadata": {},
   "outputs": [
    {
     "name": "stdout",
     "output_type": "stream",
     "text": [
      "akurasi SVC: 1.0\n",
      "Confusion Matrix SVC:\n",
      "[[3 0]\n",
      " [0 1]]\n"
     ]
    }
   ],
   "source": [
    "from sklearn.svm import SVC\n",
    "logs = SVC(kernel='linear',)\n",
    "b_model = logs.fit(X_train, y_train)\n",
    "\n",
    "b_pred = b_model.predict(X_test)\n",
    "b_acc = accuracy_score(y_test, b_pred)\n",
    "\n",
    "from sklearn.metrics import confusion_matrix\n",
    "cm = confusion_matrix(y_test, b_pred)\n",
    "\n",
    "print(\"akurasi SVC:\", b_acc)\n",
    "print(\"Confusion Matrix SVC:\")\n",
    "print(cm)"
   ]
  },
  {
   "cell_type": "code",
   "execution_count": 96,
   "metadata": {},
   "outputs": [
    {
     "name": "stdout",
     "output_type": "stream",
     "text": [
      "akurasi DecisionTree: 1.0\n",
      "Confusion Matrix DecisionTree:\n",
      "[[3 0]\n",
      " [0 1]]\n"
     ]
    }
   ],
   "source": [
    "from sklearn.tree import DecisionTreeClassifier\n",
    "logs = DecisionTreeClassifier(criterion='entropy',)\n",
    "b_model = logs.fit(X_train, y_train)\n",
    "\n",
    "b_pred = b_model.predict(X_test)\n",
    "b_acc = accuracy_score(y_test, b_pred)\n",
    "\n",
    "from sklearn.metrics import confusion_matrix\n",
    "cm = confusion_matrix(y_test, b_pred)\n",
    "\n",
    "print(\"akurasi DecisionTree:\", b_acc)\n",
    "print(\"Confusion Matrix DecisionTree:\")\n",
    "print(cm)"
   ]
  }
 ],
 "metadata": {
  "kernelspec": {
   "display_name": "Python 3",
   "language": "python",
   "name": "python3"
  },
  "language_info": {
   "codemirror_mode": {
    "name": "ipython",
    "version": 3
   },
   "file_extension": ".py",
   "mimetype": "text/x-python",
   "name": "python",
   "nbconvert_exporter": "python",
   "pygments_lexer": "ipython3",
   "version": "3.6.8"
  }
 },
 "nbformat": 4,
 "nbformat_minor": 2
}
