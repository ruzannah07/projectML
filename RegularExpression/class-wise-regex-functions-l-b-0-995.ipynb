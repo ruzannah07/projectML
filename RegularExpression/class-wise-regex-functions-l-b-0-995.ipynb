{
 "cells": [
  {
   "cell_type": "markdown",
   "metadata": {
    "_cell_guid": "7da0825a-2998-4931-98a8-cfa1d1c07851",
    "_uuid": "fb559a6949a392c2dec390952aad485dbf0cce0b"
   },
   "source": [
    "## Here I have defined text processing functions for generating normalised output for text of the following classes:\n",
    "\n",
    "1. Cardinal\n",
    "2. Digit\n",
    "3. Ordinal\n",
    "4. Letters\n",
    "5. Address\n",
    "6. Telephone\n",
    "7.  Electronic\n",
    "8. Fractions\n",
    "9. Money\n",
    "\n",
    "The idea is to first create a dictionary of all the training input strings and their corresponding normalised text. For normalising the test data, we first look it up in the dictionary and return the corresponding 'after' value. If the string is not in the dictionary, we use these functions to generate normalised text.\n",
    "\n",
    "\n",
    "**Any suggestions/feedback for improvement are welcome!**"
   ]
  },
  {
   "cell_type": "markdown",
   "metadata": {
    "_cell_guid": "155c66af-3c97-4263-b8f3-b83d9fb5bd4b",
    "_uuid": "2825530d576ce2128da5521ee8c211af778f23d7"
   },
   "source": [
    "## Import modules and data sets"
   ]
  },
  {
   "cell_type": "code",
   "execution_count": 1,
   "metadata": {
    "_cell_guid": "75ae3aa3-9ed5-485c-a3d4-9006f3ed74a5",
    "_kg_hide-output": true,
    "_uuid": "c904577a06fbdee153f87822f782cf14d21d8edb"
   },
   "outputs": [],
   "source": [
    "# This Python 3 environment comes with many helpful analytics libraries installed\n",
    "# It is defined by the kaggle/python docker image: https://github.com/kaggle/docker-python\n",
    "# For example, here's several helpful packages to load in \n",
    "\n",
    "import numpy as np # linear algebra\n",
    "import pandas as pd # data processing, CSV file I/O (e.g. pd.read_csv)\n",
    "import inflect\n",
    "from num2words import num2words \n",
    "import re\n",
    "# Input data files are available in the \"../input/\" directory.\n",
    "# For example, running this (by clicking run or pressing Shift+Enter) will list the files in the input directory\n",
    "\n",
    "from subprocess import check_output\n",
    "# print(check_output([\"ls\", \"../input\"]).decode(\"utf8\"))\n",
    "p = inflect.engine()\n",
    "\n",
    "\n",
    "# Any results you write to the current directory are saved as output."
   ]
  },
  {
   "cell_type": "code",
   "execution_count": 2,
   "metadata": {
    "scrolled": true
   },
   "outputs": [
    {
     "data": {
      "text/html": [
       "<div>\n",
       "<style scoped>\n",
       "    .dataframe tbody tr th:only-of-type {\n",
       "        vertical-align: middle;\n",
       "    }\n",
       "\n",
       "    .dataframe tbody tr th {\n",
       "        vertical-align: top;\n",
       "    }\n",
       "\n",
       "    .dataframe thead th {\n",
       "        text-align: right;\n",
       "    }\n",
       "</style>\n",
       "<table border=\"1\" class=\"dataframe\">\n",
       "  <thead>\n",
       "    <tr style=\"text-align: right;\">\n",
       "      <th></th>\n",
       "      <th>sentence_id</th>\n",
       "      <th>token_id</th>\n",
       "      <th>class</th>\n",
       "      <th>before</th>\n",
       "      <th>after</th>\n",
       "    </tr>\n",
       "  </thead>\n",
       "  <tbody>\n",
       "    <tr>\n",
       "      <th>0</th>\n",
       "      <td>0</td>\n",
       "      <td>0</td>\n",
       "      <td>PLAIN</td>\n",
       "      <td>Brillantaisia</td>\n",
       "      <td>Brillantaisia</td>\n",
       "    </tr>\n",
       "    <tr>\n",
       "      <th>1</th>\n",
       "      <td>0</td>\n",
       "      <td>1</td>\n",
       "      <td>PLAIN</td>\n",
       "      <td>is</td>\n",
       "      <td>is</td>\n",
       "    </tr>\n",
       "    <tr>\n",
       "      <th>2</th>\n",
       "      <td>0</td>\n",
       "      <td>2</td>\n",
       "      <td>PLAIN</td>\n",
       "      <td>a</td>\n",
       "      <td>a</td>\n",
       "    </tr>\n",
       "    <tr>\n",
       "      <th>3</th>\n",
       "      <td>0</td>\n",
       "      <td>3</td>\n",
       "      <td>PLAIN</td>\n",
       "      <td>genus</td>\n",
       "      <td>genus</td>\n",
       "    </tr>\n",
       "    <tr>\n",
       "      <th>4</th>\n",
       "      <td>0</td>\n",
       "      <td>4</td>\n",
       "      <td>PLAIN</td>\n",
       "      <td>of</td>\n",
       "      <td>of</td>\n",
       "    </tr>\n",
       "  </tbody>\n",
       "</table>\n",
       "</div>"
      ],
      "text/plain": [
       "   sentence_id  token_id  class         before          after\n",
       "0            0         0  PLAIN  Brillantaisia  Brillantaisia\n",
       "1            0         1  PLAIN             is             is\n",
       "2            0         2  PLAIN              a              a\n",
       "3            0         3  PLAIN          genus          genus\n",
       "4            0         4  PLAIN             of             of"
      ]
     },
     "execution_count": 2,
     "metadata": {},
     "output_type": "execute_result"
    }
   ],
   "source": [
    "data = pd.read_csv('en_train.csv')\n",
    "data.head(5)"
   ]
  },
  {
   "cell_type": "markdown",
   "metadata": {
    "_cell_guid": "77a88c62-bb31-4c27-aa1a-9284639b7a1b",
    "_uuid": "121a5c5a00a6bcf838b925c038af757127226912"
   },
   "source": [
    "## CARDINAL"
   ]
  },
  {
   "cell_type": "code",
   "execution_count": 4,
   "metadata": {
    "_cell_guid": "8acf4f9b-57b5-4b3f-a77d-d5d3597d3adb",
    "_uuid": "4ee0178c96009587ac61eaee110ed0b8600607a0"
   },
   "outputs": [],
   "source": [
    "def cardinal(x):\n",
    "    try:\n",
    "        if re.match('.*[A-Za-z]+.*', x):\n",
    "            return x\n",
    "        x = re.sub(',', '', x, count = 10)\n",
    "\n",
    "        if(re.match('.+\\..*', x)):\n",
    "            x = p.number_to_words(float(x))\n",
    "        elif re.match('\\..*', x): \n",
    "            x = p.number_to_words(float(x))\n",
    "            x = x.replace('zero ', '', 1)\n",
    "        else:\n",
    "            x = p.number_to_words(int(x))\n",
    "        x = x.replace('zero', 'o')    \n",
    "        x = re.sub('-', ' ', x, count=10)\n",
    "        x = re.sub(' and','',x, count = 10)\n",
    "        return x\n",
    "    except:\n",
    "        return x"
   ]
  },
  {
   "cell_type": "markdown",
   "metadata": {
    "_cell_guid": "23d14654-d884-44ef-91e3-1e80ccf6087f",
    "_uuid": "189b313cfbcc8741ae9e3ed1127d1d1d978b357a"
   },
   "source": [
    "## DIGIT"
   ]
  },
  {
   "cell_type": "code",
   "execution_count": 5,
   "metadata": {
    "_cell_guid": "2e0d07ee-abdc-42de-b7e8-504731a16cab",
    "_uuid": "ada580e2b47207feefbec8bee544d6af55f7e79d"
   },
   "outputs": [],
   "source": [
    "def digit(x): \n",
    "    try:\n",
    "        x = re.sub('[^0-9]', '',x)\n",
    "        result_string = ''\n",
    "        for i in x:\n",
    "            result_string = result_string + cardinal(i) + ' '\n",
    "        result_string = result_string.strip()\n",
    "        return result_string\n",
    "    except:\n",
    "        return(x) "
   ]
  },
  {
   "cell_type": "markdown",
   "metadata": {
    "_cell_guid": "bcfdce57-e6e2-4f87-a03f-162cc964b2d1",
    "_uuid": "764ed8303a974218228775b7caf90cc52fd9f630"
   },
   "source": [
    "## LETTERS"
   ]
  },
  {
   "cell_type": "code",
   "execution_count": 6,
   "metadata": {
    "_cell_guid": "f332f55e-2538-40fb-b3c4-6419697589f0",
    "_uuid": "2129bfe5a3d4d633e740b4c1ba28635719f770c0"
   },
   "outputs": [],
   "source": [
    "def letters(x):\n",
    "    try:\n",
    "        x = re.sub('[^a-zA-Z]', '', x)\n",
    "        x = x.lower()\n",
    "        result_string = ''\n",
    "        for i in range(len(x)):\n",
    "            result_string = result_string + x[i] + ' '\n",
    "        return(result_string.strip())  \n",
    "    except:\n",
    "        return x"
   ]
  },
  {
   "cell_type": "markdown",
   "metadata": {
    "_cell_guid": "f003cbab-470e-4ae0-ba1e-4d0ef29ec1e8",
    "_uuid": "d300db65b4839661159223f06ace9be33595db18"
   },
   "source": [
    "## ORDINAL"
   ]
  },
  {
   "cell_type": "code",
   "execution_count": 7,
   "metadata": {
    "_cell_guid": "d24d1e57-7b2d-4bc6-8286-5e474afba608",
    "_uuid": "d452e341f0fabd5c84c33c5994fc812d716007cf"
   },
   "outputs": [],
   "source": [
    "#Convert Roman to integers\n",
    "#https://codereview.stackexchange.com/questions/5091/converting-roman-numerals-to-integers-and-vice-versa\n",
    "def rom_to_int(string):\n",
    "\n",
    "    table=[['M',1000],['CM',900],['D',500],['CD',400],['C',100],['XC',90],['L',50],['XL',40],['X',10],['IX',9],['V',5],['IV',4],['I',1]]\n",
    "    returnint=0\n",
    "    for pair in table:\n",
    "\n",
    "\n",
    "        continueyes=True\n",
    "\n",
    "        while continueyes:\n",
    "            if len(string)>=len(pair[0]):\n",
    "\n",
    "                if string[0:len(pair[0])]==pair[0]:\n",
    "                    returnint+=pair[1]\n",
    "                    string=string[len(pair[0]):]\n",
    "\n",
    "                else: continueyes=False\n",
    "            else: continueyes=False\n",
    "\n",
    "    return returnint    \n",
    "def ordinal(x):\n",
    "    try:\n",
    "        result_string = ''\n",
    "        x = x.replace(',', '')\n",
    "        x = x.replace('[\\.]$', '')\n",
    "        if re.match('^[0-9]+$',x):\n",
    "            x = num2words(int(x), ordinal=True)\n",
    "            return(x.replace('-', ' '))\n",
    "        if re.match('.*V|X|I|L|D',x):\n",
    "            if re.match('.*th|st|nd|rd',x):\n",
    "                x = x[0:len(x)-2]\n",
    "                x = rom_to_int(x)\n",
    "                result_string = re.sub('-', ' ',  num2words(x, ordinal=True))\n",
    "            else:\n",
    "                x = rom_to_int(x)\n",
    "                result_string = 'the '+ re.sub('-', ' ',  num2words(x, ordinal=True))\n",
    "        else:\n",
    "            x = x[0:len(x)-2]\n",
    "            result_string = re.sub('-', ' ',  num2words(float(x), ordinal=True))\n",
    "        return(result_string)  \n",
    "    except:\n",
    "        return x"
   ]
  },
  {
   "cell_type": "markdown",
   "metadata": {
    "_cell_guid": "2364c30e-8b35-415b-989f-7eb1c33ae8df",
    "_uuid": "3a067aadf09f70f856341f1b96311ae9edd66434"
   },
   "source": [
    "## ADDRESS"
   ]
  },
  {
   "cell_type": "code",
   "execution_count": 8,
   "metadata": {
    "_cell_guid": "7c8f42f4-e970-478f-bfdb-1e68c2ba32aa",
    "_uuid": "bf9709b32318812ba6e5a3d6a1e242a671e9cd20"
   },
   "outputs": [],
   "source": [
    "def address(x):\n",
    "    try:\n",
    "        x = re.sub('[^0-9a-zA-Z]+', '', x)\n",
    "        result_string = ''\n",
    "        for i in range(0,len(x)):\n",
    "            if re.match('[A-Z]|[a-z]',x[i]):\n",
    "                result_string = result_string + plain(x[i]).lower() + ' '\n",
    "            else:\n",
    "                result_string = result_string + cardinal(x[i]) + ' '\n",
    "                \n",
    "        return(result_string.strip())        \n",
    "    except:    \n",
    "        return(x)    \n",
    "    "
   ]
  },
  {
   "cell_type": "markdown",
   "metadata": {
    "_cell_guid": "d000022c-de78-4d17-b52e-da66d5eecc46",
    "_uuid": "caa3780540f19ce94dcc8d754dffef8cb113a6eb"
   },
   "source": [
    "## TELEPHONE"
   ]
  },
  {
   "cell_type": "code",
   "execution_count": 9,
   "metadata": {
    "_cell_guid": "15406338-5c11-4a71-a3d4-f0a124bba449",
    "_uuid": "c3c359b2f26175f805e53ca809ea0d92e9d7be21"
   },
   "outputs": [],
   "source": [
    "def telephone(x):\n",
    "    try:\n",
    "        result_string = ''\n",
    "        print(len(x))\n",
    "        for i in range(0,len(x)):\n",
    "            if re.match('[0-9]+', x[i]):\n",
    "                result_string = result_string + cardinal(x[i]) + ' '\n",
    "            else:\n",
    "                result_string = result_string + 'sil '\n",
    "        return result_string.strip()    \n",
    "    except:    \n",
    "        return(x)    \n",
    "\n",
    "    \n",
    "   "
   ]
  },
  {
   "cell_type": "markdown",
   "metadata": {
    "_cell_guid": "f7096398-a25b-4114-9509-5d2a2469c7e8",
    "_uuid": "5f34cb3379fc041ee37ed4a230c451bd8b55c20b"
   },
   "source": [
    "## ELECTRONIC"
   ]
  },
  {
   "cell_type": "code",
   "execution_count": 10,
   "metadata": {
    "_cell_guid": "15bba07b-c21f-4bdf-a696-5127a9ea99ad",
    "_uuid": "9016201456deba6af0984f0e5bb81d1c989caca5"
   },
   "outputs": [],
   "source": [
    "def electronic(x):\n",
    "    try:\n",
    "        replacement = {'.' : 'dot', ':' : 'colon', '/':'slash', '-' : 'dash', '#' : 'hash tag', }\n",
    "        result_string = ''\n",
    "        if re.match('.*[A-Za-z].*', x):\n",
    "            for char in x:\n",
    "                if re.match('[A-Za-z]', char):\n",
    "                    result_string = result_string + letters(char) + ' '\n",
    "                elif char in replacement:\n",
    "                    result_string = result_string + replacement[char] + ' '\n",
    "                elif re.match('[0-9]', char):\n",
    "                    if char == 0:\n",
    "                        result_string = result_string + 'o '\n",
    "                    else:\n",
    "                        number = cardinal(char)\n",
    "                        for n in number:\n",
    "                            result_string = result_string + n + ' ' \n",
    "            return result_string.strip()                \n",
    "        else:\n",
    "            return(x)\n",
    "    except:    \n",
    "        return(x)\n"
   ]
  },
  {
   "cell_type": "markdown",
   "metadata": {
    "_cell_guid": "596dbbd0-fdc4-4754-b048-4888814e6c51",
    "_uuid": "f6982263d9d4140f40ebf21e395c16f907d49ab4"
   },
   "source": [
    "## FRACTIONS"
   ]
  },
  {
   "cell_type": "code",
   "execution_count": 11,
   "metadata": {
    "_cell_guid": "5c241326-fc23-4eb8-aac2-222aa3c7360b",
    "_uuid": "5238297e7318679073b1d4050d69e62764280683"
   },
   "outputs": [],
   "source": [
    "def fraction(x):\n",
    "    try:\n",
    "        y = x.split('/')\n",
    "        result_string = ''\n",
    "        y[0] = cardinal(y[0])\n",
    "        y[1] = ordinal(y[1])\n",
    "        if y[1] == 4:\n",
    "            result_string = y[0] + ' quarters'\n",
    "        else:    \n",
    "            result_string = y[0] + ' ' + y[1] + 's'\n",
    "        return(result_string)\n",
    "    except:    \n",
    "        return(x)\n",
    "    "
   ]
  },
  {
   "cell_type": "markdown",
   "metadata": {},
   "source": [
    "## MONEY"
   ]
  },
  {
   "cell_type": "code",
   "execution_count": 12,
   "metadata": {},
   "outputs": [],
   "source": [
    "def money(x):\n",
    "    try:\n",
    "        if re.match('^\\$', x):\n",
    "            x = x.replace('$','')\n",
    "            if len(x.split(' ')) == 1:\n",
    "                if re.match('.*M|m$',x):\n",
    "                    x = x.replace('M', '')\n",
    "                    x = x.replace('m', '')\n",
    "                    text = cardinal(x)\n",
    "                    x = text + ' million dollars'\n",
    "                elif re.match('.*b|B$', x):\n",
    "                    x = x.replace('B', '')\n",
    "                    x = x.replace('b', '')\n",
    "                    text = cardinal(x)\n",
    "                    x = text + ' million dollars'\n",
    "                else:\n",
    "                    text = cardinal(x)\n",
    "                    x = text + ' dollars'\n",
    "                return x.lower()\n",
    "            elif len(x.split(' ')) == 2:\n",
    "                text = cardinal(x.split(' ')[0])\n",
    "                if x.split(' ')[1].lower() == 'million':\n",
    "                    x = text + ' million dollars'\n",
    "                elif x.split(' ')[1].lower() == 'billion':\n",
    "                    x = text + ' billion dollars'\n",
    "                return x.lower()\n",
    "                \n",
    "                \n",
    "                \n",
    "        if re.match('^US\\$', x):\n",
    "            x = x.replace('US$','')\n",
    "            if len(x.split(' ')) == 1:\n",
    "                if re.match('.*M|m$', x):\n",
    "                    x = x.replace('M', '')\n",
    "                    x = x.replace('m', '')\n",
    "                    text = cardinal(x)\n",
    "                    x = text + ' million dollars'\n",
    "                elif re.match('.*b|B$', x):\n",
    "                    x = x.replace('b', '')\n",
    "                    x = x.replace('B', '')\n",
    "                    text = cardinal(x)\n",
    "                    x = text + ' million dollars'\n",
    "                else:\n",
    "                    text = cardinal(x)\n",
    "                    x = text + ' dollars'\n",
    "                return x.lower()\n",
    "            elif len(x.split(' ')) == 2:\n",
    "                text = cardinal(x.split(' ')[0])\n",
    "                if x.split(' ')[1].lower() == 'million':\n",
    "                    x = text + ' million dollars'\n",
    "                elif x.split(' ')[1].lower() == 'billion':\n",
    "                    x = text + ' billion dollars'\n",
    "                return x.lower()\n",
    "\n",
    "        elif re.match('^£', x):\n",
    "            x = x.replace('£','')\n",
    "            if len(x.split(' ')) == 1:\n",
    "                if re.match('.*M|m$', x):\n",
    "                    x = x.replace('M', '')\n",
    "                    x = x.replace('m', '')\n",
    "                    text = cardinal(x)\n",
    "                    x = text + ' million pounds'\n",
    "                elif re.match('.*b|B$', x):\n",
    "                    x = x.replace('b', '')\n",
    "                    x = x.replace('B', '')\n",
    "                    text = cardinal(x)\n",
    "                    x = text + ' million pounds'\n",
    "                else:\n",
    "                    text = cardinal(x)\n",
    "                    x = text + ' pounds'\n",
    "                return x.lower()\n",
    "            elif len(x.split(' ')) == 2:\n",
    "                text = cardinal(x.split(' ')[0])\n",
    "                if x.split(' ')[1].lower() == 'million':\n",
    "                    x = text + ' million pounds'\n",
    "                elif x.split(' ')[1].lower() == 'billion':\n",
    "                    x = text + ' billion pounds'\n",
    "                return x.lower()\n",
    "            \n",
    "        elif re.match('^€', x):\n",
    "            x = x.replace('€','')\n",
    "            if len(x.split(' ')) == 1:\n",
    "                if re.match('.*M|m$', x):\n",
    "                    x = x.replace('M', '')\n",
    "                    x = x.replace('m', '')\n",
    "                    text = cardinal(x)\n",
    "                    x = text + ' million euros'\n",
    "                elif re.match('.*b|B$', x):\n",
    "                    x = x.replace('B', '')\n",
    "                    x = x.replace('b', '')\n",
    "                    text = cardinal(x)\n",
    "                    x = text + ' million euros'\n",
    "                else:\n",
    "                    text = cardinal(x)\n",
    "                    x = text + ' euros'\n",
    "                return x.lower()\n",
    "            elif len(x.split(' ')) == 2:\n",
    "                text = cardinal(x.split(' ')[0])\n",
    "                if x.split(' ')[1].lower() == 'million':\n",
    "                    x = text + ' million euros'\n",
    "                elif x.split(' ')[1].lower() == 'billion':\n",
    "                    x = text + ' billion euros'\n",
    "                return x.lower()  \n",
    "    except:    \n",
    "        return(x)\n",
    "\n"
   ]
  },
  {
   "cell_type": "code",
   "execution_count": null,
   "metadata": {},
   "outputs": [],
   "source": []
  }
 ],
 "metadata": {
  "kernelspec": {
   "display_name": "Python 3",
   "language": "python",
   "name": "python3"
  },
  "language_info": {
   "codemirror_mode": {
    "name": "ipython",
    "version": 3
   },
   "file_extension": ".py",
   "mimetype": "text/x-python",
   "name": "python",
   "nbconvert_exporter": "python",
   "pygments_lexer": "ipython3",
   "version": "3.6.8"
  }
 },
 "nbformat": 4,
 "nbformat_minor": 1
}
