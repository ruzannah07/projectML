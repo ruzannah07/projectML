{
 "cells": [
  {
   "cell_type": "markdown",
   "metadata": {
    "_uuid": "6b6454672ef7ac7c62d98b4b45d7ac0f8c27a1ba",
    "toc": true
   },
   "source": [
    "<h1>Table of Contents<span class=\"tocSkip\"></span></h1>\n",
    "<div class=\"toc\" style=\"margin-top: 1em;\"><ul class=\"toc-item\"><li><ul class=\"toc-item\"><li><span><a href=\"#Python-tricks\" data-toc-modified-id=\"Python-tricks-0.1\"><span class=\"toc-item-num\">0.1&nbsp;&nbsp;</span>Python tricks</a></span></li><li><span><a href=\"#Numpy\" data-toc-modified-id=\"Numpy-0.2\"><span class=\"toc-item-num\">0.2&nbsp;&nbsp;</span>Numpy</a></span></li><li><span><a href=\"#Regular-expressions\" data-toc-modified-id=\"Regular-expressions-0.3\"><span class=\"toc-item-num\">0.3&nbsp;&nbsp;</span>Regular expressions</a></span></li></ul></li></ul></div>"
   ]
  },
  {
   "cell_type": "markdown",
   "metadata": {
    "_uuid": "529554fc1039eef87120a6eb78cb8d0f289f7339"
   },
   "source": [
    "This notebook covers:\n",
    "* Python tricks: Some lesser known python tricks and tips\n",
    "* Numpy\n",
    "* Regex basics"
   ]
  },
  {
   "cell_type": "code",
   "execution_count": 1,
   "metadata": {
    "_uuid": "8587b847b721482289161fc591509eca68cf3315"
   },
   "outputs": [],
   "source": [
    "import pandas as pd\n",
    "import numpy as np\n",
    "import matplotlib.pyplot as plt\n",
    "import seaborn as sns\n",
    "import dask.dataframe as dd\n",
    "import itertools"
   ]
  },
  {
   "cell_type": "markdown",
   "metadata": {
    "_uuid": "10cd97bfa26f84442f0e32a26b01cf8b6c9169b4"
   },
   "source": [
    "## Regular expressions"
   ]
  },
  {
   "cell_type": "code",
   "execution_count": 2,
   "metadata": {
    "_uuid": "cf339878b60841ce5bc5491767b8753c04c377ab"
   },
   "outputs": [],
   "source": [
    "# Image(\"../input/regex-example.png\")"
   ]
  },
  {
   "cell_type": "markdown",
   "metadata": {
    "_uuid": "47bb40cbd660f2425e61e232bb1f7143707f9839"
   },
   "source": [
    "I have talked about some basic regex functionality which is taken from this excellent post"
   ]
  },
  {
   "cell_type": "markdown",
   "metadata": {
    "_uuid": "537f565d77cec29e570c510b9d7ffbed2f0f9d01"
   },
   "source": [
    "https://www.machinelearningplus.com/python/python-regex-tutorial-examples/"
   ]
  },
  {
   "cell_type": "code",
   "execution_count": 3,
   "metadata": {
    "_uuid": "c026c0a1fb31784c477a81ab9d0555b522634e75"
   },
   "outputs": [],
   "source": [
    "import re"
   ]
  },
  {
   "cell_type": "markdown",
   "metadata": {
    "_uuid": "b8dc504876b8d816d4fa7bbbd39443920a704f14"
   },
   "source": [
    "A regex pattern is a special language used to represent generic text, numbers or symbols so it can be used to extract texts that conform to that pattern."
   ]
  },
  {
   "cell_type": "markdown",
   "metadata": {
    "_uuid": "ad0db29e249dd9ffb03fa85dabe1e7a021c3b647"
   },
   "source": [
    "Here the '\\s' matches any whitespace character. By adding a '+' notation at the end will make the pattern match at least 1 or more spaces. So, this pattern will match even tab '\\t' characters as well."
   ]
  },
  {
   "cell_type": "code",
   "execution_count": 6,
   "metadata": {
    "_uuid": "7432d095972ee0c4d5c0823799459cfd1abf0a14"
   },
   "outputs": [],
   "source": [
    "regex = re.compile('\\s+')"
   ]
  },
  {
   "cell_type": "markdown",
   "metadata": {
    "_uuid": "bd9fd8c41a4125219b20a8b48176b61b1973de20"
   },
   "source": [
    "**Splitting a string using regex**"
   ]
  },
  {
   "cell_type": "code",
   "execution_count": 7,
   "metadata": {
    "_uuid": "da5783b46154ba18400b8452da89bbab1de7682c"
   },
   "outputs": [],
   "source": [
    "text = \"Hello World.   Regex is awesome\""
   ]
  },
  {
   "cell_type": "code",
   "execution_count": 8,
   "metadata": {
    "_uuid": "fa93b6c42156a7550438d8fe6e395f50436a61d8"
   },
   "outputs": [
    {
     "data": {
      "text/plain": [
       "['Hello', 'World.', 'Regex', 'is', 'awesome']"
      ]
     },
     "execution_count": 8,
     "metadata": {},
     "output_type": "execute_result"
    }
   ],
   "source": [
    "regex.split(text)"
   ]
  },
  {
   "cell_type": "markdown",
   "metadata": {
    "_uuid": "f44fdf9f491f748456037c3fcc75bba51a32cac6"
   },
   "source": [
    "Another way but regex is generally the better one"
   ]
  },
  {
   "cell_type": "code",
   "execution_count": 9,
   "metadata": {
    "_uuid": "184e8dadf759664c110333ce90a1c1ec2f4508e8"
   },
   "outputs": [
    {
     "data": {
      "text/plain": [
       "['Hello', 'World.', '', '', 'Regex', 'is', 'awesome']"
      ]
     },
     "execution_count": 9,
     "metadata": {},
     "output_type": "execute_result"
    }
   ],
   "source": [
    "re.split('\\s', text)"
   ]
  },
  {
   "cell_type": "markdown",
   "metadata": {
    "_uuid": "a01a271f7f843c4176bc5f9ef55dcf259e429d2a"
   },
   "source": [
    "**re.findall**"
   ]
  },
  {
   "cell_type": "markdown",
   "metadata": {
    "_uuid": "bee96336be13efe4676c8ed9f5bd4056333a0e38"
   },
   "source": [
    "the findall method extracts all occurrences of the pattern"
   ]
  },
  {
   "cell_type": "markdown",
   "metadata": {
    "_uuid": "c10a03e40f667741f023082276539aba57ce87bd"
   },
   "source": [
    " `'\\d'` is a regular expression which matches any digit"
   ]
  },
  {
   "cell_type": "code",
   "execution_count": 10,
   "metadata": {
    "_uuid": "e545e0deec686e3867028f0b4ffe9bc0516e8b48"
   },
   "outputs": [],
   "source": [
    "text = \"101 howard street, 246 mcallister street\""
   ]
  },
  {
   "cell_type": "code",
   "execution_count": 11,
   "metadata": {
    "_uuid": "1a3fc378d262e747def16fc65c163687d58e5830"
   },
   "outputs": [],
   "source": [
    "regex_num = re.compile('\\d+')  #one or more digits"
   ]
  },
  {
   "cell_type": "code",
   "execution_count": 12,
   "metadata": {
    "_uuid": "d922d09aa08dab31a0b5fe345b8c7f38e61c871e"
   },
   "outputs": [
    {
     "data": {
      "text/plain": [
       "['101', '246']"
      ]
     },
     "execution_count": 12,
     "metadata": {},
     "output_type": "execute_result"
    }
   ],
   "source": [
    "regex_num.findall(text)"
   ]
  },
  {
   "cell_type": "code",
   "execution_count": 13,
   "metadata": {
    "_uuid": "ae59445e48ed013be32b7c75e4ce0bfab6d0880c"
   },
   "outputs": [
    {
     "data": {
      "text/plain": [
       "['', ' howard street, ', ' mcallister street']"
      ]
     },
     "execution_count": 13,
     "metadata": {},
     "output_type": "execute_result"
    }
   ],
   "source": [
    "regex_num.split(text)"
   ]
  },
  {
   "cell_type": "markdown",
   "metadata": {
    "_uuid": "37a63ea8747b63f9d4dcb7dee6b8bc28b2be989d"
   },
   "source": [
    "**re.search() vs re.match()**"
   ]
  },
  {
   "cell_type": "markdown",
   "metadata": {
    "_uuid": "07666b59e0f2486ad70a279f641c93f1268d9972"
   },
   "source": [
    "`regex.search()` returns a particular match object that contains the starting and ending positions of the **first occurrence of the pattern**.\n",
    "\n",
    "Likewise, `regex.match()` also returns a match object. But the difference is, it requires the pattern to be present at the **beginning of the text itself**."
   ]
  },
  {
   "cell_type": "code",
   "execution_count": 35,
   "metadata": {
    "_uuid": "000af117eb4cc58657df8dbd738ad8a12a4fd39d"
   },
   "outputs": [],
   "source": [
    "text2 = \"189 MAT Mathematics 205\""
   ]
  },
  {
   "cell_type": "code",
   "execution_count": 36,
   "metadata": {
    "_uuid": "c1315a35cb1a9fce4a2fca8822f302196dfc0f1e"
   },
   "outputs": [],
   "source": [
    "m = regex_num.match(text2)"
   ]
  },
  {
   "cell_type": "code",
   "execution_count": 37,
   "metadata": {
    "_uuid": "1c7435e9191c13d3ea4faf8bf1280c7c3d2101ce"
   },
   "outputs": [
    {
     "data": {
      "text/plain": [
       "'189'"
      ]
     },
     "execution_count": 37,
     "metadata": {},
     "output_type": "execute_result"
    }
   ],
   "source": [
    "m.group()"
   ]
  },
  {
   "cell_type": "code",
   "execution_count": 45,
   "metadata": {
    "_uuid": "936d2fc8accc08632e11be2b3b7898fbcac60b1f"
   },
   "outputs": [
    {
     "data": {
      "text/plain": [
       "0"
      ]
     },
     "execution_count": 45,
     "metadata": {},
     "output_type": "execute_result"
    }
   ],
   "source": [
    "m.start()  #returns the index of the starting"
   ]
  },
  {
   "cell_type": "code",
   "execution_count": 46,
   "metadata": {
    "_uuid": "1b7a53f156886dc875b1f1ba4f308f2f6347425b"
   },
   "outputs": [],
   "source": [
    "s = regex_num.search(text2)"
   ]
  },
  {
   "cell_type": "code",
   "execution_count": 47,
   "metadata": {
    "_uuid": "2f0d615a4ce19f36abb842dcd21663e37a3d9fd6"
   },
   "outputs": [
    {
     "data": {
      "text/plain": [
       "'189'"
      ]
     },
     "execution_count": 47,
     "metadata": {},
     "output_type": "execute_result"
    }
   ],
   "source": [
    "s.group()"
   ]
  },
  {
   "cell_type": "markdown",
   "metadata": {
    "_uuid": "c7ccd41cc77c525e8ae5eaf63e8673e0af1a75b9"
   },
   "source": [
    "**Substituting one text by another using `regex.sub()`**"
   ]
  },
  {
   "cell_type": "code",
   "execution_count": 55,
   "metadata": {
    "_uuid": "bd54698c0eac18f68da6bbdcf3156318acc57689"
   },
   "outputs": [],
   "source": [
    "text = \"\"\"101   COM \\t  Computers\n",
    "205   MAT \\t  Mathematics\n",
    "189   ENG  \\t  English\"\"\""
   ]
  },
  {
   "cell_type": "code",
   "execution_count": 56,
   "metadata": {
    "_uuid": "bf8e1047edc05e645a2c1d1b25f087403a76295c"
   },
   "outputs": [],
   "source": [
    "regex = re.compile('\\s+')"
   ]
  },
  {
   "cell_type": "code",
   "execution_count": 61,
   "metadata": {
    "_uuid": "9fef5a9568aed119070b27d7adceefe7491f761d"
   },
   "outputs": [
    {
     "data": {
      "text/plain": [
       "'101 COM Computers 205 MAT Mathematics 189 ENG English'"
      ]
     },
     "execution_count": 61,
     "metadata": {},
     "output_type": "execute_result"
    }
   ],
   "source": [
    "regex.sub(' ', text)  #it replaces the regular expression by ' '"
   ]
  },
  {
   "cell_type": "code",
   "execution_count": 62,
   "metadata": {},
   "outputs": [
    {
     "data": {
      "text/plain": [
       "'101   COM \\t  Computers\\n205   MAT \\t  Mathematics\\n189   ENG  \\t  English'"
      ]
     },
     "execution_count": 62,
     "metadata": {},
     "output_type": "execute_result"
    }
   ],
   "source": [
    "text"
   ]
  },
  {
   "cell_type": "code",
   "execution_count": 63,
   "metadata": {
    "_uuid": "ce5af2862542536ecfd77ff4bd2946256b3616cb"
   },
   "outputs": [
    {
     "name": "stdout",
     "output_type": "stream",
     "text": [
      "101 COM Computers\n",
      "205 MAT Mathematics\n",
      "189 ENG English\n"
     ]
    }
   ],
   "source": [
    "# get rid of all extra spaces except newline\n",
    "regex = re.compile('((?!\\n)\\s+)')\n",
    "print(regex.sub(' ', text))"
   ]
  },
  {
   "cell_type": "markdown",
   "metadata": {
    "_uuid": "87043e4df8463e672501cc0f58aa7e2fe9ec529d"
   },
   "source": [
    "**combining regex pattern**"
   ]
  },
  {
   "cell_type": "code",
   "execution_count": 101,
   "metadata": {},
   "outputs": [],
   "source": [
    "text = \"\"\"101   COM \\t  Computers\n",
    "205   MAT \\t  Mathematics\n",
    "189   ENG  \\t  Englishhhh\n",
    "213da   a3d \\t  CekDoaANGZZ\n",
    "ADA33   ADa \\t  Scienc3\n",
    "120s   M4T \\t  d4ta\n",
    "\"\"\""
   ]
  },
  {
   "cell_type": "code",
   "execution_count": 102,
   "metadata": {
    "_uuid": "8fe182fbc250bdc8863817ca62a626a82d13aa2a"
   },
   "outputs": [
    {
     "data": {
      "text/plain": [
       "[('101', 'COM', 'Computers'),\n",
       " ('205', 'MAT', 'Mathematics'),\n",
       " ('189', 'ENG', 'Englishhhh')]"
      ]
     },
     "execution_count": 102,
     "metadata": {},
     "output_type": "execute_result"
    }
   ],
   "source": [
    "#{}minimum\n",
    "# define the course text pattern groups and extract\n",
    "course_pattern = '([0-9]+)\\s*([A-Z]{3})\\s*([A-Za-z]{4,})'\n",
    "re.findall(course_pattern, text)"
   ]
  },
  {
   "cell_type": "markdown",
   "metadata": {
    "_uuid": "4d3038458e2dce9f1fe35e188764773fe9d35baf"
   },
   "source": [
    "**greedy regex**"
   ]
  },
  {
   "cell_type": "markdown",
   "metadata": {
    "_uuid": "142d7dd8e5ab1214a3d06e91c95296937af308f8"
   },
   "source": [
    "The default behavior of regular expressions is to be greedy. That means it tries to extract as much as possible until it conforms to a pattern even when a smaller part would have been syntactically sufficient."
   ]
  },
  {
   "cell_type": "code",
   "execution_count": 103,
   "metadata": {
    "_uuid": "e4870f6a9c7d774811790af2309fac2d8aadba54"
   },
   "outputs": [
    {
     "data": {
      "text/plain": [
       "['< body>Regex Greedy Matching Example < /body>']"
      ]
     },
     "execution_count": 103,
     "metadata": {},
     "output_type": "execute_result"
    }
   ],
   "source": [
    "text = \"< body>Regex Greedy Matching Example < /body>\"\n",
    "re.findall('<.*>', text)"
   ]
  },
  {
   "cell_type": "markdown",
   "metadata": {
    "_uuid": "e2738db5df307cde0f061c5f35b03e7683a1b82f"
   },
   "source": [
    "it should have stopped at first > but it didn't. For extracting only the smaller portions:"
   ]
  },
  {
   "cell_type": "markdown",
   "metadata": {
    "_uuid": "537b2d90e9ede94123561b3b73435d91b2cae282"
   },
   "source": [
    "Lazy matching, on the other hand, ‘takes as little as possible’. This can be effected by adding a `?` at the end of the pattern."
   ]
  },
  {
   "cell_type": "code",
   "execution_count": 104,
   "metadata": {
    "_uuid": "f6b670ef79d7901dfde0fd98c64cf4d6a290ea48"
   },
   "outputs": [
    {
     "data": {
      "text/plain": [
       "['< body>', '< /body>']"
      ]
     },
     "execution_count": 104,
     "metadata": {},
     "output_type": "execute_result"
    }
   ],
   "source": [
    "re.findall('<.*?>', text)"
   ]
  },
  {
   "cell_type": "code",
   "execution_count": 105,
   "metadata": {
    "_uuid": "00f8d96d129458da810b886e275e8b372a64bcbb"
   },
   "outputs": [],
   "source": [
    "s = re.search('<.*?>', text)  #getting only the first one"
   ]
  },
  {
   "cell_type": "code",
   "execution_count": 106,
   "metadata": {
    "_uuid": "3524f83ab553275242b47ff7c80d9efcf102c4db"
   },
   "outputs": [
    {
     "data": {
      "text/plain": [
       "'< body>'"
      ]
     },
     "execution_count": 106,
     "metadata": {},
     "output_type": "execute_result"
    }
   ],
   "source": [
    "s.group()"
   ]
  },
  {
   "cell_type": "code",
   "execution_count": 107,
   "metadata": {
    "_uuid": "570239c59df6d2c245d5fbb5a26011e3ddb2c18e"
   },
   "outputs": [],
   "source": [
    "# Image(\"../input/regex.png\")"
   ]
  },
  {
   "cell_type": "code",
   "execution_count": 108,
   "metadata": {
    "_uuid": "675278d128fbf7dec7b272316d6dd308608fbcae"
   },
   "outputs": [],
   "source": [
    "text = '01, Jan 2015'"
   ]
  },
  {
   "cell_type": "code",
   "execution_count": 110,
   "metadata": {
    "_uuid": "e13e268bc8c72299fdc78d3a4ffe2afcd4bc8e34"
   },
   "outputs": [
    {
     "name": "stdout",
     "output_type": "stream",
     "text": [
      "['201']\n"
     ]
    }
   ],
   "source": [
    "print(re.findall('\\d{3}', text))"
   ]
  },
  {
   "cell_type": "markdown",
   "metadata": {
    "_uuid": "99308052f50445899ecfef3d86737dc459dd7644"
   },
   "source": [
    "**matching word boundaries**"
   ]
  },
  {
   "cell_type": "markdown",
   "metadata": {
    "_uuid": "1e96e43cfeaec6475e5163306f589ddfee470a24"
   },
   "source": [
    "Word boundaries `\\b` are commonly used to detect and match the beginning or end of a word. That is, one side is a word character and the other side is whitespace and vice versa.\n",
    "\n",
    "For example, the regex \\btoy will match the ‘toy’ in ‘toy cat’ and not in ‘tolstoy’. In order to match the ‘toy’ in ‘tolstoy’, you should use toy\\b\n",
    "\n",
    "Can you come up with a regex that will match only the first ‘toy’ in ‘play toy broke toys’? (hint: \\b on both sides)\n",
    "\n",
    "Likewise, `\\B` will match any non-boundary.\n",
    "\n",
    "For example, \\Btoy\\B will match ‘toy’ surrounded by words on both sides, as in, ‘antoynet’."
   ]
  },
  {
   "cell_type": "code",
   "execution_count": 111,
   "metadata": {
    "_uuid": "f72bed4462e57db41e860fb74b9c034ef0885522"
   },
   "outputs": [
    {
     "data": {
      "text/plain": [
       "['toy']"
      ]
     },
     "execution_count": 111,
     "metadata": {},
     "output_type": "execute_result"
    }
   ],
   "source": [
    "re.findall(r'\\btoy\\b', 'play toy broke toys')"
   ]
  },
  {
   "cell_type": "code",
   "execution_count": 112,
   "metadata": {
    "_uuid": "8ded6ca9cccbb390724ed2e515a93a09be700d05"
   },
   "outputs": [
    {
     "data": {
      "text/plain": [
       "['toy', 'toy']"
      ]
     },
     "execution_count": 112,
     "metadata": {},
     "output_type": "execute_result"
    }
   ],
   "source": [
    "re.findall(r'\\btoy', 'play toy broke toys')"
   ]
  },
  {
   "cell_type": "code",
   "execution_count": 113,
   "metadata": {
    "_uuid": "2e464fb5be59c819a92cec2525055c2981a8d2b6"
   },
   "outputs": [
    {
     "data": {
      "text/plain": [
       "['toy']"
      ]
     },
     "execution_count": 113,
     "metadata": {},
     "output_type": "execute_result"
    }
   ],
   "source": [
    "re.findall(r'toy\\b', 'play toy broke toys')"
   ]
  },
  {
   "cell_type": "code",
   "execution_count": 114,
   "metadata": {
    "_uuid": "65157a29d9124ea4118af3f24313744928c4aaa3"
   },
   "outputs": [
    {
     "data": {
      "text/plain": [
       "['toy']"
      ]
     },
     "execution_count": 114,
     "metadata": {},
     "output_type": "execute_result"
    }
   ],
   "source": [
    "re.findall(r'\\Btoy\\b', 'playtoy broke toys')"
   ]
  },
  {
   "cell_type": "code",
   "execution_count": 115,
   "metadata": {
    "_uuid": "4e33eb2c05cce0d7c5a869acd9c80c3d2b1a4349"
   },
   "outputs": [
    {
     "data": {
      "text/plain": [
       "['toy']"
      ]
     },
     "execution_count": 115,
     "metadata": {},
     "output_type": "execute_result"
    }
   ],
   "source": [
    "re.findall(r'\\Btoy\\B', 'playtoybroke toys')"
   ]
  },
  {
   "cell_type": "code",
   "execution_count": 116,
   "metadata": {
    "_uuid": "cf4f08f4741a20e6b7f43ae2b0f93440e1b9e842"
   },
   "outputs": [
    {
     "data": {
      "text/plain": [
       "['toy']"
      ]
     },
     "execution_count": 116,
     "metadata": {},
     "output_type": "execute_result"
    }
   ],
   "source": [
    "re.findall(r'\\btoy', 'playtoybroke toys')"
   ]
  },
  {
   "cell_type": "markdown",
   "metadata": {
    "_uuid": "7d0b8c845660977871b8f2b7e0abfe1023dbe773"
   },
   "source": [
    "**Practice regex examples**"
   ]
  },
  {
   "cell_type": "code",
   "execution_count": 117,
   "metadata": {
    "_uuid": "199f74520e95b660a6d3323bf2b45146013cb1ac"
   },
   "outputs": [],
   "source": [
    "emails = \"\"\"zuck26@facebook.com\n",
    "page33@google.com\n",
    "jeff42@amazon.com\"\"\"\n",
    "\n",
    "desired_output = [('zuck26', 'facebook', 'com'), ('page33', 'google', 'com'),\n",
    "                  ('jeff42', 'amazon', 'com')]"
   ]
  },
  {
   "cell_type": "code",
   "execution_count": 118,
   "metadata": {
    "_uuid": "6518108745df7697ac907fe7f218cb44cf1e7b78"
   },
   "outputs": [],
   "source": [
    "regex = re.compile('([\\w]+)@([\\w]+).([\\w]+)')"
   ]
  },
  {
   "cell_type": "code",
   "execution_count": 119,
   "metadata": {
    "_uuid": "7abc539508806923bbfc22b953099e849c92c55e"
   },
   "outputs": [
    {
     "data": {
      "text/plain": [
       "[('zuck26', 'facebook', 'com'),\n",
       " ('page33', 'google', 'com'),\n",
       " ('jeff42', 'amazon', 'com')]"
      ]
     },
     "execution_count": 119,
     "metadata": {},
     "output_type": "execute_result"
    }
   ],
   "source": [
    "regex.findall(emails)"
   ]
  },
  {
   "cell_type": "markdown",
   "metadata": {
    "_uuid": "17cd6968a3384e66c6c318f978f3fef8bd79fa6e"
   },
   "source": [
    "2. Retrieve all the words starting with ‘b’ or ‘B’ from the following text."
   ]
  },
  {
   "cell_type": "code",
   "execution_count": 120,
   "metadata": {
    "_uuid": "452f6dfed9a2194ad5b0680363cc587b35e86c19"
   },
   "outputs": [],
   "source": [
    "text = \"\"\"Betty bought a bit of butter, \n",
    "But the butter was so bitter, So she bought\n",
    "some better butter, To make the bitter butter better.\"\"\""
   ]
  },
  {
   "cell_type": "code",
   "execution_count": 121,
   "metadata": {
    "_uuid": "92850ccf1845a30e958bdd6929d59569d8af2738"
   },
   "outputs": [],
   "source": [
    "regex = re.compile('([$bB]\\w+)')"
   ]
  },
  {
   "cell_type": "code",
   "execution_count": 122,
   "metadata": {
    "_uuid": "5c3da9b9214e8a2b607155936089fdb1080c81d0"
   },
   "outputs": [
    {
     "data": {
      "text/plain": [
       "['Betty',\n",
       " 'bought',\n",
       " 'bit',\n",
       " 'butter',\n",
       " 'But',\n",
       " 'butter',\n",
       " 'bitter',\n",
       " 'bought',\n",
       " 'better',\n",
       " 'butter',\n",
       " 'bitter',\n",
       " 'butter',\n",
       " 'better']"
      ]
     },
     "execution_count": 122,
     "metadata": {},
     "output_type": "execute_result"
    }
   ],
   "source": [
    "regex.findall(text)"
   ]
  },
  {
   "cell_type": "code",
   "execution_count": 123,
   "metadata": {
    "_uuid": "9cd8b2cd6df3300ff47653822e4ae34805cf7bac"
   },
   "outputs": [],
   "source": [
    "sentence = \"\"\"A, very   very; irregular_sentence\"\"\"\n",
    "desired_output = \"A very very irregular sentence\""
   ]
  },
  {
   "cell_type": "code",
   "execution_count": 124,
   "metadata": {
    "_uuid": "8cb82c7c0f30abcc40f04767390f170abb3f8f50"
   },
   "outputs": [],
   "source": [
    "regex = re.compile('[,\\s;_]+')"
   ]
  },
  {
   "cell_type": "code",
   "execution_count": 125,
   "metadata": {
    "_uuid": "b08fa1c94763b29c9d5c2462989f3928739dc4f8"
   },
   "outputs": [
    {
     "data": {
      "text/plain": [
       "'A very very irregular sentence'"
      ]
     },
     "execution_count": 125,
     "metadata": {},
     "output_type": "execute_result"
    }
   ],
   "source": [
    "' '.join(regex.split(sentence))"
   ]
  },
  {
   "cell_type": "code",
   "execution_count": 126,
   "metadata": {
    "_uuid": "f9d06204f9fbfa793bdf341760bb80e14e47ba1c"
   },
   "outputs": [],
   "source": [
    "tweet = '''Good advice! RT @TheNextWeb: What I would do differently if I was learning to code today http://t.co/lbwej0pxOd cc: @garybernhardt #rstats'''"
   ]
  },
  {
   "cell_type": "code",
   "execution_count": 127,
   "metadata": {
    "_uuid": "43e5e0cd9cb9bb9eb0c5cdb6959904e0c3c1259a"
   },
   "outputs": [],
   "source": [
    "desired_output = 'Good advice What I would do differently if I was learning to code today'"
   ]
  },
  {
   "cell_type": "code",
   "execution_count": 128,
   "metadata": {
    "_uuid": "86a67db9d560a83385d09a288f8b7c588097ae13"
   },
   "outputs": [
    {
     "name": "stdout",
     "output_type": "stream",
     "text": [
      "Good advice What I would do differently if I was learning to code today \n"
     ]
    }
   ],
   "source": [
    "def clean_tweet(tweet):\n",
    "    tweet = re.sub('http\\S+\\s*', '', tweet)  # remove URLs\n",
    "    tweet = re.sub('RT|cc', '', tweet)  # remove RT and cc\n",
    "    tweet = re.sub('#\\S+', '', tweet)  # remove hashtags\n",
    "    tweet = re.sub('@\\S+', '', tweet)  # remove mentions\n",
    "    tweet = re.sub('[%s]' % re.escape(\"\"\"!\"#$%&'()*+,-./:;<=>?@[\\]^_`{|}~\"\"\"),\n",
    "                   '', tweet)  # remove punctuations\n",
    "    tweet = re.sub('\\s+', ' ', tweet)  # remove extra whitespace\n",
    "    return tweet\n",
    "\n",
    "\n",
    "print(clean_tweet(tweet))"
   ]
  },
  {
   "cell_type": "code",
   "execution_count": null,
   "metadata": {},
   "outputs": [],
   "source": []
  }
 ],
 "metadata": {
  "kernelspec": {
   "display_name": "Python 3",
   "language": "python",
   "name": "python3"
  },
  "language_info": {
   "codemirror_mode": {
    "name": "ipython",
    "version": 3
   },
   "file_extension": ".py",
   "mimetype": "text/x-python",
   "name": "python",
   "nbconvert_exporter": "python",
   "pygments_lexer": "ipython3",
   "version": "3.6.8"
  },
  "toc": {
   "nav_menu": {},
   "number_sections": true,
   "sideBar": true,
   "skip_h1_title": false,
   "toc_cell": true,
   "toc_position": {},
   "toc_section_display": "none",
   "toc_window_display": false
  }
 },
 "nbformat": 4,
 "nbformat_minor": 1
}
